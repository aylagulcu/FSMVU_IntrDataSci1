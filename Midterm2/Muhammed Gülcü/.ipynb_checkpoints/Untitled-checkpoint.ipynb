{
 "cells": [
  {
   "cell_type": "code",
   "execution_count": 328,
   "metadata": {
    "collapsed": false
   },
   "outputs": [],
   "source": [
    "import pandas as pd # pandas will be referred to as pd below\n",
    "import numpy as np\n",
    "import matplotlib.pyplot as plt\n",
    "import seaborn\n",
    "%matplotlib inline \n",
    "import warnings\n",
    "warnings.filterwarnings('ignore')"
   ]
  },
  {
   "cell_type": "code",
   "execution_count": 329,
   "metadata": {
    "collapsed": false,
    "scrolled": true
   },
   "outputs": [
    {
     "data": {
      "text/html": [
       "<div>\n",
       "<table border=\"1\" class=\"dataframe\">\n",
       "  <thead>\n",
       "    <tr style=\"text-align: right;\">\n",
       "      <th></th>\n",
       "      <th>country</th>\n",
       "      <th>evlenme_yas_orani</th>\n",
       "    </tr>\n",
       "  </thead>\n",
       "  <tbody>\n",
       "    <tr>\n",
       "      <th>0</th>\n",
       "      <td>Afghanistan</td>\n",
       "      <td>17.83968</td>\n",
       "    </tr>\n",
       "    <tr>\n",
       "      <th>1</th>\n",
       "      <td>Albania</td>\n",
       "      <td>23.32651</td>\n",
       "    </tr>\n",
       "    <tr>\n",
       "      <th>2</th>\n",
       "      <td>Algeria</td>\n",
       "      <td>29.60000</td>\n",
       "    </tr>\n",
       "    <tr>\n",
       "      <th>3</th>\n",
       "      <td>Angola</td>\n",
       "      <td>NaN</td>\n",
       "    </tr>\n",
       "    <tr>\n",
       "      <th>4</th>\n",
       "      <td>Argentina</td>\n",
       "      <td>23.26396</td>\n",
       "    </tr>\n",
       "    <tr>\n",
       "      <th>5</th>\n",
       "      <td>Armenia</td>\n",
       "      <td>22.98603</td>\n",
       "    </tr>\n",
       "    <tr>\n",
       "      <th>6</th>\n",
       "      <td>Australia</td>\n",
       "      <td>28.93126</td>\n",
       "    </tr>\n",
       "    <tr>\n",
       "      <th>7</th>\n",
       "      <td>Austria</td>\n",
       "      <td>28.93757</td>\n",
       "    </tr>\n",
       "    <tr>\n",
       "      <th>8</th>\n",
       "      <td>Azerbaijan</td>\n",
       "      <td>23.88631</td>\n",
       "    </tr>\n",
       "    <tr>\n",
       "      <th>9</th>\n",
       "      <td>Bahamas</td>\n",
       "      <td>27.19277</td>\n",
       "    </tr>\n",
       "    <tr>\n",
       "      <th>10</th>\n",
       "      <td>Bahrain</td>\n",
       "      <td>25.90460</td>\n",
       "    </tr>\n",
       "    <tr>\n",
       "      <th>11</th>\n",
       "      <td>Bangladesh</td>\n",
       "      <td>18.67000</td>\n",
       "    </tr>\n",
       "    <tr>\n",
       "      <th>12</th>\n",
       "      <td>Barbados</td>\n",
       "      <td>31.76804</td>\n",
       "    </tr>\n",
       "    <tr>\n",
       "      <th>13</th>\n",
       "      <td>Belarus</td>\n",
       "      <td>22.77720</td>\n",
       "    </tr>\n",
       "    <tr>\n",
       "      <th>14</th>\n",
       "      <td>Belgium</td>\n",
       "      <td>30.34198</td>\n",
       "    </tr>\n",
       "    <tr>\n",
       "      <th>15</th>\n",
       "      <td>Belize</td>\n",
       "      <td>26.17763</td>\n",
       "    </tr>\n",
       "    <tr>\n",
       "      <th>16</th>\n",
       "      <td>Benin</td>\n",
       "      <td>20.33333</td>\n",
       "    </tr>\n",
       "    <tr>\n",
       "      <th>17</th>\n",
       "      <td>Bhutan</td>\n",
       "      <td>20.08593</td>\n",
       "    </tr>\n",
       "    <tr>\n",
       "      <th>18</th>\n",
       "      <td>Bolivia</td>\n",
       "      <td>22.59546</td>\n",
       "    </tr>\n",
       "    <tr>\n",
       "      <th>19</th>\n",
       "      <td>Botswana</td>\n",
       "      <td>27.11159</td>\n",
       "    </tr>\n",
       "    <tr>\n",
       "      <th>20</th>\n",
       "      <td>Brazil</td>\n",
       "      <td>23.09730</td>\n",
       "    </tr>\n",
       "    <tr>\n",
       "      <th>21</th>\n",
       "      <td>Brunei</td>\n",
       "      <td>25.14610</td>\n",
       "    </tr>\n",
       "    <tr>\n",
       "      <th>22</th>\n",
       "      <td>Bulgaria</td>\n",
       "      <td>24.15979</td>\n",
       "    </tr>\n",
       "    <tr>\n",
       "      <th>23</th>\n",
       "      <td>Burkina Faso</td>\n",
       "      <td>19.39940</td>\n",
       "    </tr>\n",
       "    <tr>\n",
       "      <th>24</th>\n",
       "      <td>Burundi</td>\n",
       "      <td>22.46303</td>\n",
       "    </tr>\n",
       "    <tr>\n",
       "      <th>25</th>\n",
       "      <td>Cambodia</td>\n",
       "      <td>22.30000</td>\n",
       "    </tr>\n",
       "    <tr>\n",
       "      <th>26</th>\n",
       "      <td>Cameroon</td>\n",
       "      <td>20.15106</td>\n",
       "    </tr>\n",
       "    <tr>\n",
       "      <th>27</th>\n",
       "      <td>Canada</td>\n",
       "      <td>26.75706</td>\n",
       "    </tr>\n",
       "    <tr>\n",
       "      <th>28</th>\n",
       "      <td>Cape Verde</td>\n",
       "      <td>25.68690</td>\n",
       "    </tr>\n",
       "    <tr>\n",
       "      <th>29</th>\n",
       "      <td>Central African rep.</td>\n",
       "      <td>19.40877</td>\n",
       "    </tr>\n",
       "    <tr>\n",
       "      <th>...</th>\n",
       "      <td>...</td>\n",
       "      <td>...</td>\n",
       "    </tr>\n",
       "    <tr>\n",
       "      <th>155</th>\n",
       "      <td>Swaziland</td>\n",
       "      <td>25.95965</td>\n",
       "    </tr>\n",
       "    <tr>\n",
       "      <th>156</th>\n",
       "      <td>Sweden</td>\n",
       "      <td>32.40498</td>\n",
       "    </tr>\n",
       "    <tr>\n",
       "      <th>157</th>\n",
       "      <td>Switzerland</td>\n",
       "      <td>29.11519</td>\n",
       "    </tr>\n",
       "    <tr>\n",
       "      <th>158</th>\n",
       "      <td>Syria</td>\n",
       "      <td>NaN</td>\n",
       "    </tr>\n",
       "    <tr>\n",
       "      <th>159</th>\n",
       "      <td>Taiwan</td>\n",
       "      <td>27.80000</td>\n",
       "    </tr>\n",
       "    <tr>\n",
       "      <th>160</th>\n",
       "      <td>Tajikistan</td>\n",
       "      <td>20.91414</td>\n",
       "    </tr>\n",
       "    <tr>\n",
       "      <th>161</th>\n",
       "      <td>Tanzania</td>\n",
       "      <td>19.96926</td>\n",
       "    </tr>\n",
       "    <tr>\n",
       "      <th>162</th>\n",
       "      <td>Thailand</td>\n",
       "      <td>24.05610</td>\n",
       "    </tr>\n",
       "    <tr>\n",
       "      <th>163</th>\n",
       "      <td>Togo</td>\n",
       "      <td>21.34905</td>\n",
       "    </tr>\n",
       "    <tr>\n",
       "      <th>164</th>\n",
       "      <td>Tonga</td>\n",
       "      <td>25.50242</td>\n",
       "    </tr>\n",
       "    <tr>\n",
       "      <th>165</th>\n",
       "      <td>Trinidad and Tobago</td>\n",
       "      <td>26.78061</td>\n",
       "    </tr>\n",
       "    <tr>\n",
       "      <th>166</th>\n",
       "      <td>Tunisia</td>\n",
       "      <td>29.20000</td>\n",
       "    </tr>\n",
       "    <tr>\n",
       "      <th>167</th>\n",
       "      <td>Turkey</td>\n",
       "      <td>23.04791</td>\n",
       "    </tr>\n",
       "    <tr>\n",
       "      <th>168</th>\n",
       "      <td>Turkmenistan</td>\n",
       "      <td>23.36683</td>\n",
       "    </tr>\n",
       "    <tr>\n",
       "      <th>169</th>\n",
       "      <td>Uganda</td>\n",
       "      <td>20.24704</td>\n",
       "    </tr>\n",
       "    <tr>\n",
       "      <th>170</th>\n",
       "      <td>Ukraine</td>\n",
       "      <td>22.81654</td>\n",
       "    </tr>\n",
       "    <tr>\n",
       "      <th>171</th>\n",
       "      <td>United Arab Emirates</td>\n",
       "      <td>23.08674</td>\n",
       "    </tr>\n",
       "    <tr>\n",
       "      <th>172</th>\n",
       "      <td>United Kingdom</td>\n",
       "      <td>29.75162</td>\n",
       "    </tr>\n",
       "    <tr>\n",
       "      <th>173</th>\n",
       "      <td>United States</td>\n",
       "      <td>25.30000</td>\n",
       "    </tr>\n",
       "    <tr>\n",
       "      <th>174</th>\n",
       "      <td>Uruguay</td>\n",
       "      <td>23.30049</td>\n",
       "    </tr>\n",
       "    <tr>\n",
       "      <th>175</th>\n",
       "      <td>Uzbekistan</td>\n",
       "      <td>20.58316</td>\n",
       "    </tr>\n",
       "    <tr>\n",
       "      <th>176</th>\n",
       "      <td>Vanuatu</td>\n",
       "      <td>22.60803</td>\n",
       "    </tr>\n",
       "    <tr>\n",
       "      <th>177</th>\n",
       "      <td>Venezuela</td>\n",
       "      <td>22.74840</td>\n",
       "    </tr>\n",
       "    <tr>\n",
       "      <th>178</th>\n",
       "      <td>West Bank and Gaza</td>\n",
       "      <td>22.86449</td>\n",
       "    </tr>\n",
       "    <tr>\n",
       "      <th>179</th>\n",
       "      <td>Western Sahara</td>\n",
       "      <td>NaN</td>\n",
       "    </tr>\n",
       "    <tr>\n",
       "      <th>180</th>\n",
       "      <td>VietNam</td>\n",
       "      <td>23.21391</td>\n",
       "    </tr>\n",
       "    <tr>\n",
       "      <th>181</th>\n",
       "      <td>Virgin Islands (U.S.)</td>\n",
       "      <td>29.91012</td>\n",
       "    </tr>\n",
       "    <tr>\n",
       "      <th>182</th>\n",
       "      <td>Yemen. Rep.</td>\n",
       "      <td>21.67000</td>\n",
       "    </tr>\n",
       "    <tr>\n",
       "      <th>183</th>\n",
       "      <td>Zambia</td>\n",
       "      <td>20.53106</td>\n",
       "    </tr>\n",
       "    <tr>\n",
       "      <th>184</th>\n",
       "      <td>Zimbabwe</td>\n",
       "      <td>21.03119</td>\n",
       "    </tr>\n",
       "  </tbody>\n",
       "</table>\n",
       "<p>185 rows × 2 columns</p>\n",
       "</div>"
      ],
      "text/plain": [
       "                   country  evlenme_yas_orani\n",
       "0              Afghanistan           17.83968\n",
       "1                  Albania           23.32651\n",
       "2                  Algeria           29.60000\n",
       "3                   Angola                NaN\n",
       "4                Argentina           23.26396\n",
       "5                  Armenia           22.98603\n",
       "6                Australia           28.93126\n",
       "7                  Austria           28.93757\n",
       "8               Azerbaijan           23.88631\n",
       "9                  Bahamas           27.19277\n",
       "10                 Bahrain           25.90460\n",
       "11              Bangladesh           18.67000\n",
       "12                Barbados           31.76804\n",
       "13                 Belarus           22.77720\n",
       "14                 Belgium           30.34198\n",
       "15                  Belize           26.17763\n",
       "16                   Benin           20.33333\n",
       "17                  Bhutan           20.08593\n",
       "18                 Bolivia           22.59546\n",
       "19                Botswana           27.11159\n",
       "20                  Brazil           23.09730\n",
       "21                  Brunei           25.14610\n",
       "22                Bulgaria           24.15979\n",
       "23            Burkina Faso           19.39940\n",
       "24                 Burundi           22.46303\n",
       "25                Cambodia           22.30000\n",
       "26                Cameroon           20.15106\n",
       "27                  Canada           26.75706\n",
       "28              Cape Verde           25.68690\n",
       "29    Central African rep.           19.40877\n",
       "..                     ...                ...\n",
       "155              Swaziland           25.95965\n",
       "156                 Sweden           32.40498\n",
       "157            Switzerland           29.11519\n",
       "158                  Syria                NaN\n",
       "159                 Taiwan           27.80000\n",
       "160             Tajikistan           20.91414\n",
       "161               Tanzania           19.96926\n",
       "162               Thailand           24.05610\n",
       "163                   Togo           21.34905\n",
       "164                  Tonga           25.50242\n",
       "165    Trinidad and Tobago           26.78061\n",
       "166                Tunisia           29.20000\n",
       "167                 Turkey           23.04791\n",
       "168           Turkmenistan           23.36683\n",
       "169                 Uganda           20.24704\n",
       "170                Ukraine           22.81654\n",
       "171   United Arab Emirates           23.08674\n",
       "172         United Kingdom           29.75162\n",
       "173          United States           25.30000\n",
       "174                Uruguay           23.30049\n",
       "175             Uzbekistan           20.58316\n",
       "176                Vanuatu           22.60803\n",
       "177              Venezuela           22.74840\n",
       "178     West Bank and Gaza           22.86449\n",
       "179         Western Sahara                NaN\n",
       "180                VietNam           23.21391\n",
       "181  Virgin Islands (U.S.)           29.91012\n",
       "182            Yemen. Rep.           21.67000\n",
       "183                 Zambia           20.53106\n",
       "184               Zimbabwe           21.03119\n",
       "\n",
       "[185 rows x 2 columns]"
      ]
     },
     "execution_count": 329,
     "metadata": {},
     "output_type": "execute_result"
    }
   ],
   "source": [
    "data_Yas= pd.read_csv('yas_orani.csv')\n",
    "data_Yas"
   ]
  },
  {
   "cell_type": "code",
   "execution_count": 330,
   "metadata": {
    "collapsed": false,
    "scrolled": true
   },
   "outputs": [
    {
     "data": {
      "text/html": [
       "<div>\n",
       "<table border=\"1\" class=\"dataframe\">\n",
       "  <thead>\n",
       "    <tr style=\"text-align: right;\">\n",
       "      <th></th>\n",
       "      <th>country</th>\n",
       "      <th>evlenme_yas_orani</th>\n",
       "    </tr>\n",
       "  </thead>\n",
       "  <tbody>\n",
       "    <tr>\n",
       "      <th>0</th>\n",
       "      <td>Afghanistan</td>\n",
       "      <td>17.83968</td>\n",
       "    </tr>\n",
       "    <tr>\n",
       "      <th>1</th>\n",
       "      <td>Albania</td>\n",
       "      <td>23.32651</td>\n",
       "    </tr>\n",
       "    <tr>\n",
       "      <th>2</th>\n",
       "      <td>Algeria</td>\n",
       "      <td>29.60000</td>\n",
       "    </tr>\n",
       "    <tr>\n",
       "      <th>3</th>\n",
       "      <td>Angola</td>\n",
       "      <td>NaN</td>\n",
       "    </tr>\n",
       "    <tr>\n",
       "      <th>4</th>\n",
       "      <td>Argentina</td>\n",
       "      <td>23.26396</td>\n",
       "    </tr>\n",
       "  </tbody>\n",
       "</table>\n",
       "</div>"
      ],
      "text/plain": [
       "       country  evlenme_yas_orani\n",
       "0  Afghanistan           17.83968\n",
       "1      Albania           23.32651\n",
       "2      Algeria           29.60000\n",
       "3       Angola                NaN\n",
       "4    Argentina           23.26396"
      ]
     },
     "execution_count": 330,
     "metadata": {},
     "output_type": "execute_result"
    }
   ],
   "source": [
    "data_Yas[:5]"
   ]
  },
  {
   "cell_type": "code",
   "execution_count": 331,
   "metadata": {
    "collapsed": false
   },
   "outputs": [
    {
     "data": {
      "text/plain": [
       "0    Afghanistan\n",
       "1        Albania\n",
       "2        Algeria\n",
       "3         Angola\n",
       "4      Argentina\n",
       "Name: country, dtype: object"
      ]
     },
     "execution_count": 331,
     "metadata": {},
     "output_type": "execute_result"
    }
   ],
   "source": [
    "data_Yas['country'][:5]"
   ]
  },
  {
   "cell_type": "code",
   "execution_count": 332,
   "metadata": {
    "collapsed": false
   },
   "outputs": [
    {
     "data": {
      "text/html": [
       "<div>\n",
       "<table border=\"1\" class=\"dataframe\">\n",
       "  <thead>\n",
       "    <tr style=\"text-align: right;\">\n",
       "      <th></th>\n",
       "      <th>country</th>\n",
       "      <th>evlenme_yas_orani</th>\n",
       "    </tr>\n",
       "  </thead>\n",
       "  <tbody>\n",
       "    <tr>\n",
       "      <th>0</th>\n",
       "      <td>Afghanistan</td>\n",
       "      <td>17.83968</td>\n",
       "    </tr>\n",
       "    <tr>\n",
       "      <th>1</th>\n",
       "      <td>Albania</td>\n",
       "      <td>23.32651</td>\n",
       "    </tr>\n",
       "    <tr>\n",
       "      <th>2</th>\n",
       "      <td>Algeria</td>\n",
       "      <td>29.60000</td>\n",
       "    </tr>\n",
       "    <tr>\n",
       "      <th>3</th>\n",
       "      <td>Angola</td>\n",
       "      <td>NaN</td>\n",
       "    </tr>\n",
       "    <tr>\n",
       "      <th>4</th>\n",
       "      <td>Argentina</td>\n",
       "      <td>23.26396</td>\n",
       "    </tr>\n",
       "  </tbody>\n",
       "</table>\n",
       "</div>"
      ],
      "text/plain": [
       "       country  evlenme_yas_orani\n",
       "0  Afghanistan           17.83968\n",
       "1      Albania           23.32651\n",
       "2      Algeria           29.60000\n",
       "3       Angola                NaN\n",
       "4    Argentina           23.26396"
      ]
     },
     "execution_count": 332,
     "metadata": {},
     "output_type": "execute_result"
    }
   ],
   "source": [
    "data_Yas[['country','evlenme_yas_orani']][:5]"
   ]
  },
  {
   "cell_type": "code",
   "execution_count": 333,
   "metadata": {
    "collapsed": false
   },
   "outputs": [
    {
     "name": "stdout",
     "output_type": "stream",
     "text": [
      "yas orjinal data : 185\n"
     ]
    }
   ],
   "source": [
    "print('yas orjinal data : ' + str(len(data_Yas)))"
   ]
  },
  {
   "cell_type": "code",
   "execution_count": 334,
   "metadata": {
    "collapsed": true
   },
   "outputs": [],
   "source": [
    "data_Yas_NoMisssing=data_Yas.dropna()"
   ]
  },
  {
   "cell_type": "code",
   "execution_count": 335,
   "metadata": {
    "collapsed": false
   },
   "outputs": [
    {
     "name": "stdout",
     "output_type": "stream",
     "text": [
      "yas yeni data : 175\n"
     ]
    }
   ],
   "source": [
    "print('yas yeni data : '+str(len(data_Yas_NoMisssing)))"
   ]
  },
  {
   "cell_type": "code",
   "execution_count": 336,
   "metadata": {
    "collapsed": false
   },
   "outputs": [
    {
     "data": {
      "text/plain": [
       "Int64Index([  0,   1,   2,   4,   5,   6,   7,   8,   9,  10,\n",
       "            ...\n",
       "            174, 175, 176, 177, 178, 180, 181, 182, 183, 184],\n",
       "           dtype='int64', length=175)"
      ]
     },
     "execution_count": 336,
     "metadata": {},
     "output_type": "execute_result"
    }
   ],
   "source": [
    "data_Yas_NoMisssing.index"
   ]
  },
  {
   "cell_type": "code",
   "execution_count": 337,
   "metadata": {
    "collapsed": true
   },
   "outputs": [],
   "source": [
    "data_Yas_NoMisssing.index=range(len(data_Yas_NoMisssing))"
   ]
  },
  {
   "cell_type": "code",
   "execution_count": 338,
   "metadata": {
    "collapsed": false
   },
   "outputs": [
    {
     "data": {
      "text/plain": [
       "Int64Index([  0,   1,   2,   3,   4,   5,   6,   7,   8,   9,\n",
       "            ...\n",
       "            165, 166, 167, 168, 169, 170, 171, 172, 173, 174],\n",
       "           dtype='int64', length=175)"
      ]
     },
     "execution_count": 338,
     "metadata": {},
     "output_type": "execute_result"
    }
   ],
   "source": [
    "data_Yas_NoMisssing.index"
   ]
  },
  {
   "cell_type": "code",
   "execution_count": 339,
   "metadata": {
    "collapsed": false,
    "scrolled": true
   },
   "outputs": [
    {
     "data": {
      "text/html": [
       "<div>\n",
       "<table border=\"1\" class=\"dataframe\">\n",
       "  <thead>\n",
       "    <tr style=\"text-align: right;\">\n",
       "      <th></th>\n",
       "      <th>country</th>\n",
       "      <th>intihar</th>\n",
       "    </tr>\n",
       "  </thead>\n",
       "  <tbody>\n",
       "    <tr>\n",
       "      <th>0</th>\n",
       "      <td>Afghanistan</td>\n",
       "      <td>8.630156</td>\n",
       "    </tr>\n",
       "    <tr>\n",
       "      <th>1</th>\n",
       "      <td>Albania</td>\n",
       "      <td>6.060875</td>\n",
       "    </tr>\n",
       "    <tr>\n",
       "      <th>2</th>\n",
       "      <td>Algeria</td>\n",
       "      <td>4.600765</td>\n",
       "    </tr>\n",
       "    <tr>\n",
       "      <th>3</th>\n",
       "      <td>Andorra</td>\n",
       "      <td>2.902797</td>\n",
       "    </tr>\n",
       "    <tr>\n",
       "      <th>4</th>\n",
       "      <td>Angola</td>\n",
       "      <td>8.143820</td>\n",
       "    </tr>\n",
       "    <tr>\n",
       "      <th>5</th>\n",
       "      <td>Antigua and Barbuda</td>\n",
       "      <td>NaN</td>\n",
       "    </tr>\n",
       "    <tr>\n",
       "      <th>6</th>\n",
       "      <td>Argentina</td>\n",
       "      <td>3.289490</td>\n",
       "    </tr>\n",
       "    <tr>\n",
       "      <th>7</th>\n",
       "      <td>Armenia</td>\n",
       "      <td>1.542518</td>\n",
       "    </tr>\n",
       "    <tr>\n",
       "      <th>8</th>\n",
       "      <td>Australia</td>\n",
       "      <td>4.001978</td>\n",
       "    </tr>\n",
       "    <tr>\n",
       "      <th>9</th>\n",
       "      <td>Austria</td>\n",
       "      <td>5.982184</td>\n",
       "    </tr>\n",
       "    <tr>\n",
       "      <th>10</th>\n",
       "      <td>Azerbaijan</td>\n",
       "      <td>0.545844</td>\n",
       "    </tr>\n",
       "    <tr>\n",
       "      <th>11</th>\n",
       "      <td>Bahamas</td>\n",
       "      <td>1.609111</td>\n",
       "    </tr>\n",
       "    <tr>\n",
       "      <th>12</th>\n",
       "      <td>Bahrain</td>\n",
       "      <td>0.739074</td>\n",
       "    </tr>\n",
       "    <tr>\n",
       "      <th>13</th>\n",
       "      <td>Bangladesh</td>\n",
       "      <td>14.392731</td>\n",
       "    </tr>\n",
       "    <tr>\n",
       "      <th>14</th>\n",
       "      <td>Barbados</td>\n",
       "      <td>0.706948</td>\n",
       "    </tr>\n",
       "    <tr>\n",
       "      <th>15</th>\n",
       "      <td>Belarus</td>\n",
       "      <td>8.473065</td>\n",
       "    </tr>\n",
       "    <tr>\n",
       "      <th>16</th>\n",
       "      <td>Belgium</td>\n",
       "      <td>8.197042</td>\n",
       "    </tr>\n",
       "    <tr>\n",
       "      <th>17</th>\n",
       "      <td>Belize</td>\n",
       "      <td>1.826640</td>\n",
       "    </tr>\n",
       "    <tr>\n",
       "      <th>18</th>\n",
       "      <td>Benin</td>\n",
       "      <td>4.418572</td>\n",
       "    </tr>\n",
       "    <tr>\n",
       "      <th>19</th>\n",
       "      <td>Bhutan</td>\n",
       "      <td>12.635603</td>\n",
       "    </tr>\n",
       "    <tr>\n",
       "      <th>20</th>\n",
       "      <td>Bolivia</td>\n",
       "      <td>1.176829</td>\n",
       "    </tr>\n",
       "    <tr>\n",
       "      <th>21</th>\n",
       "      <td>Bosnia and Herzegovina</td>\n",
       "      <td>6.068046</td>\n",
       "    </tr>\n",
       "    <tr>\n",
       "      <th>22</th>\n",
       "      <td>Botswana</td>\n",
       "      <td>9.206121</td>\n",
       "    </tr>\n",
       "    <tr>\n",
       "      <th>23</th>\n",
       "      <td>Brazil</td>\n",
       "      <td>1.858153</td>\n",
       "    </tr>\n",
       "    <tr>\n",
       "      <th>24</th>\n",
       "      <td>Brunei</td>\n",
       "      <td>0.375145</td>\n",
       "    </tr>\n",
       "    <tr>\n",
       "      <th>25</th>\n",
       "      <td>Bulgaria</td>\n",
       "      <td>4.429179</td>\n",
       "    </tr>\n",
       "    <tr>\n",
       "      <th>26</th>\n",
       "      <td>Burkina Faso</td>\n",
       "      <td>5.665972</td>\n",
       "    </tr>\n",
       "    <tr>\n",
       "      <th>27</th>\n",
       "      <td>Burundi</td>\n",
       "      <td>7.297821</td>\n",
       "    </tr>\n",
       "    <tr>\n",
       "      <th>28</th>\n",
       "      <td>Cambodia</td>\n",
       "      <td>3.420326</td>\n",
       "    </tr>\n",
       "    <tr>\n",
       "      <th>29</th>\n",
       "      <td>Cameroon</td>\n",
       "      <td>5.328396</td>\n",
       "    </tr>\n",
       "    <tr>\n",
       "      <th>...</th>\n",
       "      <td>...</td>\n",
       "      <td>...</td>\n",
       "    </tr>\n",
       "    <tr>\n",
       "      <th>168</th>\n",
       "      <td>Sweden</td>\n",
       "      <td>5.873864</td>\n",
       "    </tr>\n",
       "    <tr>\n",
       "      <th>169</th>\n",
       "      <td>Switzerland</td>\n",
       "      <td>7.944855</td>\n",
       "    </tr>\n",
       "    <tr>\n",
       "      <th>170</th>\n",
       "      <td>Syria</td>\n",
       "      <td>0.446933</td>\n",
       "    </tr>\n",
       "    <tr>\n",
       "      <th>171</th>\n",
       "      <td>Tajikistan</td>\n",
       "      <td>2.107354</td>\n",
       "    </tr>\n",
       "    <tr>\n",
       "      <th>172</th>\n",
       "      <td>Tanzania</td>\n",
       "      <td>7.750602</td>\n",
       "    </tr>\n",
       "    <tr>\n",
       "      <th>173</th>\n",
       "      <td>Thailand</td>\n",
       "      <td>5.488035</td>\n",
       "    </tr>\n",
       "    <tr>\n",
       "      <th>174</th>\n",
       "      <td>Timor-Leste</td>\n",
       "      <td>6.960761</td>\n",
       "    </tr>\n",
       "    <tr>\n",
       "      <th>175</th>\n",
       "      <td>Togo</td>\n",
       "      <td>4.514622</td>\n",
       "    </tr>\n",
       "    <tr>\n",
       "      <th>176</th>\n",
       "      <td>Tonga</td>\n",
       "      <td>5.062224</td>\n",
       "    </tr>\n",
       "    <tr>\n",
       "      <th>177</th>\n",
       "      <td>Trinidad and Tobago</td>\n",
       "      <td>7.175161</td>\n",
       "    </tr>\n",
       "    <tr>\n",
       "      <th>178</th>\n",
       "      <td>Tunisia</td>\n",
       "      <td>1.971737</td>\n",
       "    </tr>\n",
       "    <tr>\n",
       "      <th>179</th>\n",
       "      <td>Turkey</td>\n",
       "      <td>2.639458</td>\n",
       "    </tr>\n",
       "    <tr>\n",
       "      <th>180</th>\n",
       "      <td>Turkmenistan</td>\n",
       "      <td>4.012059</td>\n",
       "    </tr>\n",
       "    <tr>\n",
       "      <th>181</th>\n",
       "      <td>Tuvalu</td>\n",
       "      <td>7.446299</td>\n",
       "    </tr>\n",
       "    <tr>\n",
       "      <th>182</th>\n",
       "      <td>Uganda</td>\n",
       "      <td>8.046066</td>\n",
       "    </tr>\n",
       "    <tr>\n",
       "      <th>183</th>\n",
       "      <td>Ukraine</td>\n",
       "      <td>5.390090</td>\n",
       "    </tr>\n",
       "    <tr>\n",
       "      <th>184</th>\n",
       "      <td>United Arab Emirates</td>\n",
       "      <td>0.274215</td>\n",
       "    </tr>\n",
       "    <tr>\n",
       "      <th>185</th>\n",
       "      <td>United Kingdom</td>\n",
       "      <td>2.879764</td>\n",
       "    </tr>\n",
       "    <tr>\n",
       "      <th>186</th>\n",
       "      <td>United States</td>\n",
       "      <td>4.175814</td>\n",
       "    </tr>\n",
       "    <tr>\n",
       "      <th>187</th>\n",
       "      <td>Uruguay</td>\n",
       "      <td>5.875220</td>\n",
       "    </tr>\n",
       "    <tr>\n",
       "      <th>188</th>\n",
       "      <td>USSR</td>\n",
       "      <td>NaN</td>\n",
       "    </tr>\n",
       "    <tr>\n",
       "      <th>189</th>\n",
       "      <td>Uzbekistan</td>\n",
       "      <td>2.460547</td>\n",
       "    </tr>\n",
       "    <tr>\n",
       "      <th>190</th>\n",
       "      <td>Vanuatu</td>\n",
       "      <td>4.640526</td>\n",
       "    </tr>\n",
       "    <tr>\n",
       "      <th>191</th>\n",
       "      <td>Venezuela</td>\n",
       "      <td>1.579628</td>\n",
       "    </tr>\n",
       "    <tr>\n",
       "      <th>192</th>\n",
       "      <td>West Germany</td>\n",
       "      <td>NaN</td>\n",
       "    </tr>\n",
       "    <tr>\n",
       "      <th>193</th>\n",
       "      <td>Vietnam</td>\n",
       "      <td>9.281547</td>\n",
       "    </tr>\n",
       "    <tr>\n",
       "      <th>194</th>\n",
       "      <td>Yemen, Rep.</td>\n",
       "      <td>5.373617</td>\n",
       "    </tr>\n",
       "    <tr>\n",
       "      <th>195</th>\n",
       "      <td>Yugoslavia</td>\n",
       "      <td>NaN</td>\n",
       "    </tr>\n",
       "    <tr>\n",
       "      <th>196</th>\n",
       "      <td>Zambia</td>\n",
       "      <td>7.959891</td>\n",
       "    </tr>\n",
       "    <tr>\n",
       "      <th>197</th>\n",
       "      <td>Zimbabwe</td>\n",
       "      <td>9.376059</td>\n",
       "    </tr>\n",
       "  </tbody>\n",
       "</table>\n",
       "<p>198 rows × 2 columns</p>\n",
       "</div>"
      ],
      "text/plain": [
       "                    country    intihar\n",
       "0               Afghanistan   8.630156\n",
       "1                   Albania   6.060875\n",
       "2                   Algeria   4.600765\n",
       "3                   Andorra   2.902797\n",
       "4                    Angola   8.143820\n",
       "5       Antigua and Barbuda        NaN\n",
       "6                 Argentina   3.289490\n",
       "7                   Armenia   1.542518\n",
       "8                 Australia   4.001978\n",
       "9                   Austria   5.982184\n",
       "10               Azerbaijan   0.545844\n",
       "11                  Bahamas   1.609111\n",
       "12                  Bahrain   0.739074\n",
       "13               Bangladesh  14.392731\n",
       "14                 Barbados   0.706948\n",
       "15                  Belarus   8.473065\n",
       "16                  Belgium   8.197042\n",
       "17                   Belize   1.826640\n",
       "18                    Benin   4.418572\n",
       "19                   Bhutan  12.635603\n",
       "20                  Bolivia   1.176829\n",
       "21   Bosnia and Herzegovina   6.068046\n",
       "22                 Botswana   9.206121\n",
       "23                   Brazil   1.858153\n",
       "24                   Brunei   0.375145\n",
       "25                 Bulgaria   4.429179\n",
       "26             Burkina Faso   5.665972\n",
       "27                  Burundi   7.297821\n",
       "28                 Cambodia   3.420326\n",
       "29                 Cameroon   5.328396\n",
       "..                      ...        ...\n",
       "168                  Sweden   5.873864\n",
       "169             Switzerland   7.944855\n",
       "170                   Syria   0.446933\n",
       "171              Tajikistan   2.107354\n",
       "172                Tanzania   7.750602\n",
       "173                Thailand   5.488035\n",
       "174             Timor-Leste   6.960761\n",
       "175                    Togo   4.514622\n",
       "176                   Tonga   5.062224\n",
       "177     Trinidad and Tobago   7.175161\n",
       "178                 Tunisia   1.971737\n",
       "179                  Turkey   2.639458\n",
       "180            Turkmenistan   4.012059\n",
       "181                  Tuvalu   7.446299\n",
       "182                  Uganda   8.046066\n",
       "183                 Ukraine   5.390090\n",
       "184    United Arab Emirates   0.274215\n",
       "185          United Kingdom   2.879764\n",
       "186           United States   4.175814\n",
       "187                 Uruguay   5.875220\n",
       "188                    USSR        NaN\n",
       "189              Uzbekistan   2.460547\n",
       "190                 Vanuatu   4.640526\n",
       "191               Venezuela   1.579628\n",
       "192            West Germany        NaN\n",
       "193                 Vietnam   9.281547\n",
       "194             Yemen, Rep.   5.373617\n",
       "195              Yugoslavia        NaN\n",
       "196                  Zambia   7.959891\n",
       "197                Zimbabwe   9.376059\n",
       "\n",
       "[198 rows x 2 columns]"
      ]
     },
     "execution_count": 339,
     "metadata": {},
     "output_type": "execute_result"
    }
   ],
   "source": [
    "data_Intihar= pd.read_csv('intihar.csv')\n",
    "data_Intihar"
   ]
  },
  {
   "cell_type": "code",
   "execution_count": null,
   "metadata": {
    "collapsed": true
   },
   "outputs": [],
   "source": []
  },
  {
   "cell_type": "code",
   "execution_count": 340,
   "metadata": {
    "collapsed": false
   },
   "outputs": [
    {
     "name": "stdout",
     "output_type": "stream",
     "text": [
      "Intihar yas orjinal: 198\n",
      "Mortality rate new length: 190\n"
     ]
    }
   ],
   "source": [
    "print('Intihar yas orjinal: '+ str(len(data_Intihar)))\n",
    "\n",
    "data_Intihar_NoMissing= data_Intihar.dropna()\n",
    "print('Mortality rate new length: '+ str(len(data_Intihar_NoMissing)))"
   ]
  },
  {
   "cell_type": "code",
   "execution_count": 341,
   "metadata": {
    "collapsed": false
   },
   "outputs": [
    {
     "name": "stdout",
     "output_type": "stream",
     "text": [
      "         country  evlenme_yas_orani    intihar\n",
      "0    Afghanistan           17.83968   8.630156\n",
      "1        Albania           23.32651   6.060875\n",
      "2        Algeria           29.60000   4.600765\n",
      "3      Argentina           23.26396   3.289490\n",
      "4        Armenia           22.98603   1.542518\n",
      "5      Australia           28.93126   4.001978\n",
      "6        Austria           28.93757   5.982184\n",
      "7     Azerbaijan           23.88631   0.545844\n",
      "8        Bahamas           27.19277   1.609111\n",
      "9        Bahrain           25.90460   0.739074\n",
      "10    Bangladesh           18.67000  14.392731\n",
      "11      Barbados           31.76804   0.706948\n",
      "12       Belarus           22.77720   8.473065\n",
      "13       Belgium           30.34198   8.197042\n",
      "14        Belize           26.17763   1.826640\n",
      "15         Benin           20.33333   4.418572\n",
      "16        Bhutan           20.08593  12.635603\n",
      "17       Bolivia           22.59546   1.176829\n",
      "18      Botswana           27.11159   9.206121\n",
      "19        Brazil           23.09730   1.858153\n",
      "20        Brunei           25.14610   0.375145\n",
      "21      Bulgaria           24.15979   4.429179\n",
      "22  Burkina Faso           19.39940   5.665972\n",
      "23       Burundi           22.46303   7.297821\n",
      "24      Cambodia           22.30000   3.420326\n",
      "25      Cameroon           20.15106   5.328396\n",
      "26        Canada           26.75706   4.828558\n",
      "27    Cape Verde           25.68690   4.764702\n",
      "28          Chad           18.34000   5.371675\n",
      "29         Chile           23.37176   3.206247\n",
      "..           ...                ...        ...\n",
      "70    Kazakhstan           23.35925   8.599231\n",
      "71         Kenya           21.44778   7.663258\n",
      "72        Kuwait           25.06534   1.153895\n",
      "73    Kyrgyzstan           21.84411   3.090236\n",
      "74        Latvia           28.15732   6.048817\n",
      "75       Lesotho           21.30995   5.889326\n",
      "76       Liberia           20.16080   3.775203\n",
      "77         Libya           29.19110   4.159276\n",
      "78     Lithuania           26.13405  11.234220\n",
      "79    Luxembourg           27.83594   5.768096\n",
      "80    Madagascar           19.84912   4.220290\n",
      "81        Malawi           18.94500   6.541825\n",
      "82      Malaysia           25.11786   5.219152\n",
      "83      Maldives           21.82093  19.889219\n",
      "84          Mali           18.49000   5.074855\n",
      "85    Mauritania           21.77551   4.997253\n",
      "86     Mauritius           22.55157   3.529880\n",
      "87        Mexico           22.73023   1.295992\n",
      "88       Moldova           20.87334   4.567390\n",
      "89      Mongolia           23.65854   5.467162\n",
      "90       Morocco           26.44130   2.103895\n",
      "91    Mozambique           18.73860   7.518769\n",
      "92       Myanmar           24.54447   8.503792\n",
      "93       Namibia           27.52589   6.017441\n",
      "94         Nepal           18.97566  11.080085\n",
      "95   Netherlands           30.51454   4.820316\n",
      "96   New Zealand           30.00538   5.336744\n",
      "97     Nicaragua           20.44892   5.211093\n",
      "98         Niger           17.60020   5.039723\n",
      "99       Nigeria           20.90817   5.225975\n",
      "\n",
      "[100 rows x 3 columns]\n"
     ]
    }
   ],
   "source": [
    "#datalari birlestirdik\n",
    "data=pd.merge(left= data_Yas_NoMisssing , right= data_Intihar_NoMissing) \n",
    "print(data.head(100))"
   ]
  },
  {
   "cell_type": "code",
   "execution_count": null,
   "metadata": {
    "collapsed": false,
    "scrolled": true
   },
   "outputs": [],
   "source": []
  },
  {
   "cell_type": "code",
   "execution_count": 342,
   "metadata": {
    "collapsed": false
   },
   "outputs": [
    {
     "name": "stdout",
     "output_type": "stream",
     "text": [
      "data uzunlugu : 153\n"
     ]
    }
   ],
   "source": [
    "#data uzunlugu\n",
    "print('data uzunlugu : ' + str(len(data)))"
   ]
  },
  {
   "cell_type": "code",
   "execution_count": 343,
   "metadata": {
    "collapsed": false
   },
   "outputs": [
    {
     "data": {
      "text/plain": [
       "Int64Index([  0,   1,   2,   3,   4,   5,   6,   7,   8,   9,\n",
       "            ...\n",
       "            143, 144, 145, 146, 147, 148, 149, 150, 151, 152],\n",
       "           dtype='int64', length=153)"
      ]
     },
     "execution_count": 343,
     "metadata": {},
     "output_type": "execute_result"
    }
   ],
   "source": [
    "data=data.dropna(subset=['evlenme_yas_orani','intihar'],how='any')\n",
    "data= data.reset_index(drop=True)\n",
    "data.index\n"
   ]
  },
  {
   "cell_type": "code",
   "execution_count": null,
   "metadata": {
    "collapsed": false
   },
   "outputs": [],
   "source": []
  },
  {
   "cell_type": "code",
   "execution_count": 344,
   "metadata": {
    "collapsed": false
   },
   "outputs": [
    {
     "name": "stdout",
     "output_type": "stream",
     "text": [
      "evlenme_yas_orani ranges from 17.6002 and to 33.20292\n"
     ]
    },
    {
     "data": {
      "text/plain": [
       "count    153.000000\n",
       "mean      24.203421\n",
       "std        3.646711\n",
       "min       17.600200\n",
       "25%       21.554670\n",
       "50%       23.359250\n",
       "75%       26.506770\n",
       "max       33.202920\n",
       "Name: evlenme_yas_orani, dtype: float64"
      ]
     },
     "execution_count": 344,
     "metadata": {},
     "output_type": "execute_result"
    }
   ],
   "source": [
    "print ('evlenme_yas_orani ranges from '+ str(data['evlenme_yas_orani'].min())+' and to '+ str(data['evlenme_yas_orani'].max()) )\n",
    "data['evlenme_yas_orani'].describe()"
   ]
  },
  {
   "cell_type": "code",
   "execution_count": 345,
   "metadata": {
    "collapsed": false,
    "scrolled": true
   },
   "outputs": [
    {
     "name": "stdout",
     "output_type": "stream",
     "text": [
      "153\n"
     ]
    }
   ],
   "source": [
    "data['evlenme_yas_oraniG']= pd.cut(data.evlenme_yas_orani, [17,20,22,24,26,30,34]) \n",
    "# no need to sort the data frame.\n",
    "print(len(data))\n"
   ]
  },
  {
   "cell_type": "code",
   "execution_count": 346,
   "metadata": {
    "collapsed": false
   },
   "outputs": [
    {
     "data": {
      "text/plain": [
       "count          153\n",
       "unique           6\n",
       "top       (22, 24]\n",
       "freq            44\n",
       "Name: evlenme_yas_oraniG, dtype: object"
      ]
     },
     "execution_count": 346,
     "metadata": {},
     "output_type": "execute_result"
    }
   ],
   "source": [
    "data['evlenme_yas_oraniG']= data['evlenme_yas_oraniG'].astype('category')\n",
    "data['evlenme_yas_oraniG'].describe()"
   ]
  },
  {
   "cell_type": "code",
   "execution_count": 347,
   "metadata": {
    "collapsed": false
   },
   "outputs": [
    {
     "name": "stdout",
     "output_type": "stream",
     "text": [
      "(17, 20]    0.104575\n",
      "(20, 22]    0.183007\n",
      "(22, 24]    0.287582\n",
      "(24, 26]    0.137255\n",
      "(26, 30]    0.189542\n",
      "(30, 34]    0.098039\n",
      "dtype: float64\n"
     ]
    }
   ],
   "source": [
    "evlenmeGroupP= data['evlenme_yas_oraniG'].value_counts(sort= False, normalize= True) \n",
    "# value_counts() should make more sense now\n",
    "print(evlenmeGroupP)"
   ]
  },
  {
   "cell_type": "code",
   "execution_count": 348,
   "metadata": {
    "collapsed": false
   },
   "outputs": [
    {
     "data": {
      "image/png": "[encoded data removed]",
      "text/plain": [
       "<matplotlib.figure.Figure at 0x1d5cf273320>"
      ]
     },
     "metadata": {},
     "output_type": "display_data"
    }
   ],
   "source": [
    "seaborn.countplot(x= 'evlenme_yas_oraniG', data= data)\n",
    "plt.xlabel('intihar (per capita) categories)')\n",
    "plt.title('Counts of rows for each intihar')\n",
    "plt.show()"
   ]
  },
  {
   "cell_type": "code",
   "execution_count": 349,
   "metadata": {
    "collapsed": false
   },
   "outputs": [
    {
     "data": {
      "text/plain": [
       "<matplotlib.text.Text at 0x1d5cf1d8e48>"
      ]
     },
     "execution_count": 349,
     "metadata": {},
     "output_type": "execute_result"
    },
    {
     "data": {
      "image/png": "[encoded data removed]",
      "text/plain": [
       "<matplotlib.figure.Figure at 0x1d5cf208320>"
      ]
     },
     "metadata": {},
     "output_type": "display_data"
    }
   ],
   "source": [
    "seaborn.distplot(data['intihar'].dropna(), kde= False)\n",
    "plt.xlabel('GDP (per capita) quantitative values)')\n",
    "plt.title('Counts of rows for each GDP')"
   ]
  },
  {
   "cell_type": "code",
   "execution_count": 350,
   "metadata": {
    "collapsed": false
   },
   "outputs": [
    {
     "name": "stdout",
     "output_type": "stream",
     "text": [
      "intihar ranges from 0.1078235 and to 21.247286\n"
     ]
    },
    {
     "data": {
      "text/plain": [
       "count    153.000000\n",
       "mean       5.372357\n",
       "std        3.658322\n",
       "min        0.107823\n",
       "25%        2.879764\n",
       "50%        4.997253\n",
       "75%        7.074668\n",
       "max       21.247286\n",
       "Name: intihar, dtype: float64"
      ]
     },
     "execution_count": 350,
     "metadata": {},
     "output_type": "execute_result"
    }
   ],
   "source": [
    "print ('intihar ranges from '+ str(data['intihar'].min())+' and to '+ str(data['intihar'].max()) )\n",
    "data['intihar'].describe()"
   ]
  },
  {
   "cell_type": "code",
   "execution_count": 351,
   "metadata": {
    "collapsed": false
   },
   "outputs": [
    {
     "name": "stdout",
     "output_type": "stream",
     "text": [
      "153\n"
     ]
    }
   ],
   "source": [
    "data['intiharG']= pd.cut(data.intihar, [0,2,4,5,7,9,22]) \n",
    "# no need to sort the data frame.\n",
    "print(len(data))\n"
   ]
  },
  {
   "cell_type": "code",
   "execution_count": 352,
   "metadata": {
    "collapsed": false
   },
   "outputs": [
    {
     "data": {
      "text/plain": [
       "count        153\n",
       "unique         6\n",
       "top       (5, 7]\n",
       "freq          37\n",
       "Name: intiharG, dtype: object"
      ]
     },
     "execution_count": 352,
     "metadata": {},
     "output_type": "execute_result"
    }
   ],
   "source": [
    "data['intiharG']= data['intiharG'].astype('category')\n",
    "data['intiharG'].describe()"
   ]
  },
  {
   "cell_type": "code",
   "execution_count": 353,
   "metadata": {
    "collapsed": false
   },
   "outputs": [
    {
     "name": "stdout",
     "output_type": "stream",
     "text": [
      "(0, 2]     0.169935\n",
      "(2, 4]     0.183007\n",
      "(4, 5]     0.150327\n",
      "(5, 7]     0.241830\n",
      "(7, 9]     0.137255\n",
      "(9, 22]    0.117647\n",
      "dtype: float64\n"
     ]
    }
   ],
   "source": [
    "intiharGroupP= data['intiharG'].value_counts(sort= False, normalize= True) \n",
    "# value_counts() should make more sense now\n",
    "print(intiharGroupP)"
   ]
  },
  {
   "cell_type": "code",
   "execution_count": 354,
   "metadata": {
    "collapsed": false
   },
   "outputs": [
    {
     "data": {
      "image/png": "[encoded data removed]",
      "text/plain": [
       "<matplotlib.figure.Figure at 0x1d5cdb874e0>"
      ]
     },
     "metadata": {},
     "output_type": "display_data"
    }
   ],
   "source": [
    "seaborn.countplot(x= 'intiharG', data= data)\n",
    "plt.xlabel('intihar (per capita) categories)')\n",
    "plt.title('Counts of rows for each intihar')\n",
    "plt.show()"
   ]
  },
  {
   "cell_type": "code",
   "execution_count": 357,
   "metadata": {
    "collapsed": false
   },
   "outputs": [
    {
     "data": {
      "text/plain": [
       "<matplotlib.axes._subplots.AxesSubplot at 0x1d5cd9981d0>"
      ]
     },
     "execution_count": 357,
     "metadata": {},
     "output_type": "execute_result"
    },
    {
     "data": {
      "image/png": "[encoded data removed]",
      "text/plain": [
       "<matplotlib.figure.Figure at 0x1d5cdcf10f0>"
      ]
     },
     "metadata": {},
     "output_type": "display_data"
    }
   ],
   "source": [
    "seaborn.regplot(y= \"intihar\", x= \"evlenme_yas_orani\", fit_reg= False, data= data)"
   ]
  },
  {
   "cell_type": "code",
   "execution_count": 385,
   "metadata": {
    "collapsed": false
   },
   "outputs": [],
   "source": [
    "def Intihar (row):\n",
    "    if row['intihar'] < 2 :\n",
    "        return 0\n",
    "    else:\n",
    "        return 1"
   ]
  },
  {
   "cell_type": "code",
   "execution_count": 386,
   "metadata": {
    "collapsed": false
   },
   "outputs": [
    {
     "data": {
      "text/plain": [
       "1    127\n",
       "0     26\n",
       "Name: Intihar, dtype: int64"
      ]
     },
     "execution_count": 386,
     "metadata": {},
     "output_type": "execute_result"
    }
   ],
   "source": [
    "\n",
    "data['Intihar']= data.apply(lambda row : Intihar(row), axis= 1)\n",
    "# Arbitrary functions can be applied along the axes of a DataFrame using the apply() method\n",
    "data['Intihar'].value_counts()"
   ]
  },
  {
   "cell_type": "code",
   "execution_count": 396,
   "metadata": {
    "collapsed": false
   },
   "outputs": [
    {
     "data": {
      "image/png": "[encoded data removed]",
      "text/plain": [
       "<matplotlib.figure.Figure at 0x1d5cf23e390>"
      ]
     },
     "metadata": {},
     "output_type": "display_data"
    }
   ],
   "source": [
    "seaborn.factorplot(x= 'evlenme_yas_oraniG', y= 'Intihar', data= data, kind= \"bar\", ci=None)\n",
    "plt.xlabel('Evleneme age group')\n",
    "plt.ylabel('intihar oranı')\n",
    "plt.show()"
   ]
  },
  {
   "cell_type": "code",
   "execution_count": 390,
   "metadata": {
    "collapsed": true
   },
   "outputs": [],
   "source": []
  },
  {
   "cell_type": "code",
   "execution_count": 391,
   "metadata": {
    "collapsed": true
   },
   "outputs": [],
   "source": []
  },
  {
   "cell_type": "code",
   "execution_count": 395,
   "metadata": {
    "collapsed": false
   },
   "outputs": [
    {
     "data": {
      "image/png": "[encoded data removed]",
      "text/plain": [
       "<matplotlib.figure.Figure at 0x1d5cdc74c50>"
      ]
     },
     "metadata": {},
     "output_type": "display_data"
    }
   ],
   "source": []
  },
  {
   "cell_type": "code",
   "execution_count": null,
   "metadata": {
    "collapsed": true
   },
   "outputs": [],
   "source": []
  }
 ],
 "metadata": {
  "kernelspec": {
   "display_name": "Python 3",
   "language": "python",
   "name": "python3"
  },
  "language_info": {
   "codemirror_mode": {
    "name": "ipython",
    "version": 3
   },
   "file_extension": ".py",
   "mimetype": "text/x-python",
   "name": "python",
   "nbconvert_exporter": "python",
   "pygments_lexer": "ipython3",
   "version": "3.5.1"
  }
 },
 "nbformat": 4,
 "nbformat_minor": 0
}
