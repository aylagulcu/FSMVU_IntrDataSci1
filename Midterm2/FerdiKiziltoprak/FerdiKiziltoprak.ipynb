{
 "cells": [
  {
   "cell_type": "code",
   "execution_count": 1,
   "metadata": {
    "collapsed": false
   },
   "outputs": [
    {
     "name": "stdout",
     "output_type": "stream",
     "text": [
      "Index(['﻿\"Country Name\"', 'Country Code', 'Indicator Name', 'Indicator Code',\n",
      "       '1960', '1961', '1962', '1963', '1964', '1965', '1966', '1967', '1968',\n",
      "       '1969', '1970', '1971', '1972', '1973', '1974', '1975', '1976', '1977',\n",
      "       '1978', '1979', '1980', '1981', '1982', '1983', '1984', '1985', '1986',\n",
      "       '1987', '1988', '1989', '1990', '1991', '1992', '1993', '1994', '1995',\n",
      "       '1996', '1997', '1998', '1999', '2000', '2001', '2002', '2003', '2004',\n",
      "       '2005', '2006', '2007', '2008', '2009', '2010', '2011', '2012', '2013',\n",
      "       '2014', '2015', 'Unnamed: 60'],\n",
      "      dtype='object')\n"
     ]
    }
   ],
   "source": [
    "import pandas as pd\n",
    "import numpy\n",
    "import csv\n",
    "import seaborn\n",
    "import matplotlib.pyplot as plt\n",
    "%matplotlib inline\n",
    "import warnings\n",
    "warnings.filterwarnings('ignore')\n",
    "# Internet users (per 100 people)\n",
    "# Internet users are individuals who have used the Internet (from any location) in the last 12 months. \n",
    "# Internet can be used via a computer, mobile phone, personal digital assistant, games machine, digital TV etc.\n",
    "# International Telecommunication Union, World Telecommunication/ICT Development Report and database, \n",
    "# and World Bank estimates.\n",
    "internet_users = pd.read_csv(\"FerdiKiziltoprak.csv\")\n",
    "\n",
    "print(internet_users.columns)"
   ]
  },
  {
   "cell_type": "markdown",
   "metadata": {},
   "source": [
    "# Clean and Merge Data"
   ]
  },
  {
   "cell_type": "code",
   "execution_count": 2,
   "metadata": {
    "collapsed": false,
    "scrolled": true
   },
   "outputs": [],
   "source": [
    "# drop unnecessary columns \n",
    "internet_users = internet_users.drop(internet_users.columns[range(1,44)], axis = 1)"
   ]
  },
  {
   "cell_type": "code",
   "execution_count": 3,
   "metadata": {
    "collapsed": false
   },
   "outputs": [
    {
     "name": "stdout",
     "output_type": "stream",
     "text": [
      "    ﻿\"Country\"       2000       2001       2002       2003       2004  \\\n",
      "0        Aruba  15.442823  17.100000  18.800000  20.800000  23.000000   \n",
      "1      Andorra  10.538836        NaN  11.260469  13.546413  26.837954   \n",
      "2  Afghanistan        NaN   0.004723   0.004561   0.087891   0.105809   \n",
      "3       Angola   0.105046   0.136014   0.270377   0.370682   0.464815   \n",
      "4      Albania   0.114097   0.325798   0.390081   0.971900   2.420388   \n",
      "\n",
      "        2005       2006       2007   2008   2009  2010  \n",
      "0  25.400000  28.000000  30.900000  52.00  58.00    62  \n",
      "1  37.605766  48.936847  70.870000  70.04  78.53    81  \n",
      "2   1.224148   2.107124   1.900000   1.84   3.55     4  \n",
      "3   1.143367   1.907648   3.200000   4.60   6.00    10  \n",
      "4   6.043891   9.609991  15.036115  23.86  41.20    45  \n"
     ]
    }
   ],
   "source": [
    "internet_users = internet_users.drop(internet_users.columns[range(12,18)], axis = 1)\n",
    "\n",
    "internet_users.columns = internet_users.columns.str.replace(\"Country Name\", \"Country\")\n",
    "print(internet_users[:5])"
   ]
  },
  {
   "cell_type": "code",
   "execution_count": 4,
   "metadata": {
    "collapsed": false
   },
   "outputs": [
    {
     "data": {
      "text/html": [
       "<div>\n",
       "<table border=\"1\" class=\"dataframe\">\n",
       "  <thead>\n",
       "    <tr style=\"text-align: right;\">\n",
       "      <th></th>\n",
       "      <th>﻿\"Country\"</th>\n",
       "      <th>2000</th>\n",
       "      <th>2001</th>\n",
       "      <th>2002</th>\n",
       "      <th>2003</th>\n",
       "      <th>2004</th>\n",
       "      <th>2005</th>\n",
       "      <th>2006</th>\n",
       "      <th>2007</th>\n",
       "      <th>2008</th>\n",
       "      <th>2009</th>\n",
       "      <th>2010</th>\n",
       "    </tr>\n",
       "  </thead>\n",
       "  <tbody>\n",
       "    <tr>\n",
       "      <th>0</th>\n",
       "      <td>Aruba</td>\n",
       "      <td>15.442823</td>\n",
       "      <td>17.100000</td>\n",
       "      <td>18.800000</td>\n",
       "      <td>20.800000</td>\n",
       "      <td>23.000000</td>\n",
       "      <td>25.400000</td>\n",
       "      <td>28.000000</td>\n",
       "      <td>30.900000</td>\n",
       "      <td>52.00</td>\n",
       "      <td>58.00</td>\n",
       "      <td>62</td>\n",
       "    </tr>\n",
       "    <tr>\n",
       "      <th>1</th>\n",
       "      <td>Andorra</td>\n",
       "      <td>10.538836</td>\n",
       "      <td>NaN</td>\n",
       "      <td>11.260469</td>\n",
       "      <td>13.546413</td>\n",
       "      <td>26.837954</td>\n",
       "      <td>37.605766</td>\n",
       "      <td>48.936847</td>\n",
       "      <td>70.870000</td>\n",
       "      <td>70.04</td>\n",
       "      <td>78.53</td>\n",
       "      <td>81</td>\n",
       "    </tr>\n",
       "    <tr>\n",
       "      <th>2</th>\n",
       "      <td>Afghanistan</td>\n",
       "      <td>NaN</td>\n",
       "      <td>0.004723</td>\n",
       "      <td>0.004561</td>\n",
       "      <td>0.087891</td>\n",
       "      <td>0.105809</td>\n",
       "      <td>1.224148</td>\n",
       "      <td>2.107124</td>\n",
       "      <td>1.900000</td>\n",
       "      <td>1.84</td>\n",
       "      <td>3.55</td>\n",
       "      <td>4</td>\n",
       "    </tr>\n",
       "    <tr>\n",
       "      <th>3</th>\n",
       "      <td>Angola</td>\n",
       "      <td>0.105046</td>\n",
       "      <td>0.136014</td>\n",
       "      <td>0.270377</td>\n",
       "      <td>0.370682</td>\n",
       "      <td>0.464815</td>\n",
       "      <td>1.143367</td>\n",
       "      <td>1.907648</td>\n",
       "      <td>3.200000</td>\n",
       "      <td>4.60</td>\n",
       "      <td>6.00</td>\n",
       "      <td>10</td>\n",
       "    </tr>\n",
       "    <tr>\n",
       "      <th>4</th>\n",
       "      <td>Albania</td>\n",
       "      <td>0.114097</td>\n",
       "      <td>0.325798</td>\n",
       "      <td>0.390081</td>\n",
       "      <td>0.971900</td>\n",
       "      <td>2.420388</td>\n",
       "      <td>6.043891</td>\n",
       "      <td>9.609991</td>\n",
       "      <td>15.036115</td>\n",
       "      <td>23.86</td>\n",
       "      <td>41.20</td>\n",
       "      <td>45</td>\n",
       "    </tr>\n",
       "  </tbody>\n",
       "</table>\n",
       "</div>"
      ],
      "text/plain": [
       "    ﻿\"Country\"       2000       2001       2002       2003       2004  \\\n",
       "0        Aruba  15.442823  17.100000  18.800000  20.800000  23.000000   \n",
       "1      Andorra  10.538836        NaN  11.260469  13.546413  26.837954   \n",
       "2  Afghanistan        NaN   0.004723   0.004561   0.087891   0.105809   \n",
       "3       Angola   0.105046   0.136014   0.270377   0.370682   0.464815   \n",
       "4      Albania   0.114097   0.325798   0.390081   0.971900   2.420388   \n",
       "\n",
       "        2005       2006       2007   2008   2009  2010  \n",
       "0  25.400000  28.000000  30.900000  52.00  58.00    62  \n",
       "1  37.605766  48.936847  70.870000  70.04  78.53    81  \n",
       "2   1.224148   2.107124   1.900000   1.84   3.55     4  \n",
       "3   1.143367   1.907648   3.200000   4.60   6.00    10  \n",
       "4   6.043891   9.609991  15.036115  23.86  41.20    45  "
      ]
     },
     "execution_count": 4,
     "metadata": {},
     "output_type": "execute_result"
    }
   ],
   "source": [
    "internet_users = internet_users.reset_index(drop=True)\n",
    "internet_users[:5]"
   ]
  },
  {
   "cell_type": "code",
   "execution_count": 5,
   "metadata": {
    "collapsed": false
   },
   "outputs": [],
   "source": [
    "csvfile = open('data.csv', 'w')\n",
    "fieldnames = ['Country', 'Year','User']\n",
    "writer = csv.DictWriter(csvfile, fieldnames=fieldnames)\n",
    "writer.writeheader()\n",
    "\n",
    "for index,row in internet_users.iterrows():\n",
    "    counter = 1\n",
    "    for column in row[1:]:\n",
    "        writer.writerow({'Country': row[0], 'Year': internet_users.columns[counter] , 'User':column})\n",
    "        counter = counter + 1\n",
    "\n"
   ]
  },
  {
   "cell_type": "code",
   "execution_count": 6,
   "metadata": {
    "collapsed": false
   },
   "outputs": [
    {
     "name": "stdout",
     "output_type": "stream",
     "text": [
      "Index(['Country', '1970', '1971', '1972', '1973', '1974', '1975', '1976',\n",
      "       '1977', '1978', '1979', '1980', '1981', '1982', '1983', '1984', '1985',\n",
      "       '1986', '1987', '1988', '1989', '1990', '1991', '1992', '1993', '1994',\n",
      "       '1995', '1996', '1997', '1998', '1999', '2000', '2001', '2002', '2003',\n",
      "       '2004', '2005', '2006', '2007', '2008', '2009', '2010', '2011'],\n",
      "      dtype='object')\n",
      "Index(['Country', '2000', '2001', '2002', '2003', '2004', '2005', '2006',\n",
      "       '2007', '2008', '2009', '2010', '2011'],\n",
      "      dtype='object')\n",
      "Index(['Country', '2000', '2001', '2002', '2003', '2004', '2005', '2006',\n",
      "       '2007', '2008', '2009', '2010'],\n",
      "      dtype='object')\n"
     ]
    }
   ],
   "source": [
    "# Out of primary school children\n",
    "# \n",
    "child = pd.read_excel(\"FerdiKiziltoprak2.xlsx\")\n",
    "print(child.columns)\n",
    "\n",
    "# Drop 1970-1099 and 2011\n",
    "child =child.drop(child.columns[range(1,31)], axis = 1)\n",
    "print(child.columns)\n",
    "\n",
    "child =child.drop(child.columns[12], axis = 1)\n",
    "print(child.columns)"
   ]
  },
  {
   "cell_type": "code",
   "execution_count": 7,
   "metadata": {
    "collapsed": false
   },
   "outputs": [],
   "source": [
    "# Child values to rows with Country name and Year\n",
    "csvfile = open('data2.csv', 'w')\n",
    "fieldnames = ['Country', 'Year','Child']\n",
    "writer = csv.DictWriter(csvfile, fieldnames=fieldnames)\n",
    "writer.writeheader()\n",
    "\n",
    "for index,row in child.iterrows():\n",
    "    counter = 1\n",
    "    for column in row[1:]:\n",
    "        writer.writerow({'Country': row[0], 'Year': child.columns[counter] , 'Child':column})\n",
    "        counter = counter + 1"
   ]
  },
  {
   "cell_type": "code",
   "execution_count": 8,
   "metadata": {
    "collapsed": false
   },
   "outputs": [
    {
     "name": "stdout",
     "output_type": "stream",
     "text": [
      "  Country  Year       User  Child\n",
      "0   Aruba  2000  15.442823    107\n",
      "1   Aruba  2001  17.100000    293\n",
      "2   Aruba  2002  18.800000    375\n",
      "3   Aruba  2003  20.800000    528\n",
      "4   Aruba  2004  23.000000    485\n"
     ]
    }
   ],
   "source": [
    "data1 = pd.read_csv(\"data.csv\")\n",
    "data2 = pd.read_csv(\"data2.csv\")\n",
    "\n",
    "\n",
    "data = pd.merge(left=data1, right=data2)\n",
    "\n",
    "print(data.head())"
   ]
  },
  {
   "cell_type": "code",
   "execution_count": 9,
   "metadata": {
    "collapsed": false
   },
   "outputs": [
    {
     "name": "stdout",
     "output_type": "stream",
     "text": [
      "     Country  Year       User   Child\n",
      "1963  Turkey  2000   3.761685  261160\n",
      "1964  Turkey  2001   5.189481  222555\n",
      "1965  Turkey  2002  11.380000  203338\n",
      "1966  Turkey  2003  12.330000  338385\n",
      "1967  Turkey  2004  14.580000  274782\n",
      "1968  Turkey  2005  15.460000  224334\n",
      "1969  Turkey  2006  18.240000  147519\n",
      "1970  Turkey  2007  28.630000   83629\n",
      "1971  Turkey  2008  34.370000   66952\n",
      "1972  Turkey  2009  36.400000  161880\n",
      "1973  Turkey  2010  39.820000   68456\n"
     ]
    }
   ],
   "source": [
    "data = data.dropna()\n",
    "data.reset_index(drop=True)\n",
    "print(data[data.Country==\"Turkey\"])"
   ]
  },
  {
   "cell_type": "code",
   "execution_count": 10,
   "metadata": {
    "collapsed": true
   },
   "outputs": [],
   "source": [
    "data['Year']= pd.to_numeric(data['Year'])\n",
    "data['User']= pd.to_numeric(data['User'])\n",
    "data['Child']= pd.to_numeric(data['Child'])"
   ]
  },
  {
   "cell_type": "markdown",
   "metadata": {},
   "source": [
    "# Visualization"
   ]
  },
  {
   "cell_type": "code",
   "execution_count": 11,
   "metadata": {
    "collapsed": false
   },
   "outputs": [
    {
     "name": "stdout",
     "output_type": "stream",
     "text": [
      "              Year         User            Child\n",
      "count  1308.000000  1308.000000      1308.000000\n",
      "mean   2005.065749    22.774408    380581.514526\n",
      "std       3.162803    24.661318   1500985.106643\n",
      "min    2000.000000     0.015264         0.000000\n",
      "25%    2002.000000     3.076205      3630.750000\n",
      "50%    2005.000000    12.148553     21132.500000\n",
      "75%    2008.000000    36.000000    123892.250000\n",
      "max    2010.000000    93.390000  20700241.000000\n"
     ]
    },
    {
     "data": {
      "image/png": "[encoded data removed]",
      "text/plain": [
       "<matplotlib.figure.Figure at 0x116cb0cf8>"
      ]
     },
     "metadata": {},
     "output_type": "display_data"
    },
    {
     "data": {
      "image/png": "[encoded data removed]",
      "text/plain": [
       "<matplotlib.figure.Figure at 0x116c8b780>"
      ]
     },
     "metadata": {},
     "output_type": "display_data"
    }
   ],
   "source": [
    "print(data.describe())\n",
    "seaborn.boxplot(data.Child)\n",
    "plt.show()\n",
    "\n",
    "seaborn.boxplot(data.User)\n",
    "plt.show()"
   ]
  },
  {
   "cell_type": "code",
   "execution_count": 12,
   "metadata": {
    "collapsed": false
   },
   "outputs": [
    {
     "name": "stdout",
     "output_type": "stream",
     "text": [
      "  Country  Year       User  Child ChildGroup UserGroup\n",
      "0   Aruba  2000  15.442823    107  (0, 5000]  (15, 30]\n",
      "1   Aruba  2001  17.100000    293  (0, 5000]  (15, 30]\n",
      "2   Aruba  2002  18.800000    375  (0, 5000]  (15, 30]\n",
      "3   Aruba  2003  20.800000    528  (0, 5000]  (15, 30]\n",
      "4   Aruba  2004  23.000000    485  (0, 5000]  (15, 30]\n"
     ]
    }
   ],
   "source": [
    "data['ChildGroup']= pd.cut(data.Child, [0,5000,20000,150000,1000000,21000000]) \n",
    "data['UserGroup']= pd.cut(data.User, [0,5,15,30,50,100])\n",
    "print(data.head())"
   ]
  },
  {
   "cell_type": "code",
   "execution_count": 13,
   "metadata": {
    "collapsed": false
   },
   "outputs": [
    {
     "data": {
      "image/png": "[encoded data removed]",
      "text/plain": [
       "<matplotlib.figure.Figure at 0x116cb0cc0>"
      ]
     },
     "metadata": {},
     "output_type": "display_data"
    }
   ],
   "source": [
    "seaborn.countplot(x= 'ChildGroup', data= data)\n",
    "plt.xlabel('Out of school Children by group')\n",
    "plt.show()"
   ]
  },
  {
   "cell_type": "code",
   "execution_count": 14,
   "metadata": {
    "collapsed": false
   },
   "outputs": [
    {
     "data": {
      "image/png": "[encoded data removed]",
      "text/plain": [
       "<matplotlib.figure.Figure at 0x116e6cac8>"
      ]
     },
     "metadata": {},
     "output_type": "display_data"
    }
   ],
   "source": [
    "seaborn.countplot(x= 'UserGroup', data= data)\n",
    "plt.xlabel('Internet User rate by groups')\n",
    "plt.show()"
   ]
  },
  {
   "cell_type": "code",
   "execution_count": 15,
   "metadata": {
    "collapsed": false
   },
   "outputs": [
    {
     "data": {
      "image/png": "[encoded data removed]",
      "text/plain": [
       "<matplotlib.figure.Figure at 0x116ff15f8>"
      ]
     },
     "metadata": {},
     "output_type": "display_data"
    }
   ],
   "source": [
    "# The hypothesis: if internet usage increase, out of school children decrease. Because of the awareness of the people\n",
    "# The hypothesis confirmed as graph below\n",
    "seaborn.factorplot(x= 'UserGroup',y= 'Child',  data= data, kind= \"bar\", ci=None)\n",
    "plt.ylabel('Out of school Children')\n",
    "plt.xlabel('User rate')\n",
    "plt.show()"
   ]
  },
  {
   "cell_type": "code",
   "execution_count": 16,
   "metadata": {
    "collapsed": true
   },
   "outputs": [],
   "source": [
    "# Rename User Goups\n",
    "def UserRangeGroup (row):\n",
    "    if row['User'] > 0.0 and row['User']<= 5.0 :\n",
    "        return 1\n",
    "    if row['User'] > 5.0 and row['User']<= 15.0 :\n",
    "        return 2\n",
    "    if row['User'] > 15.0 and row['User']<= 30.0 :\n",
    "        return 3\n",
    "    if row['User'] > 30.0 and row['User']<= 50.0 :\n",
    "        return 4\n",
    "    if row['User'] > 50.0 and row['User']<= 100.0 :\n",
    "        return 5"
   ]
  },
  {
   "cell_type": "code",
   "execution_count": 17,
   "metadata": {
    "collapsed": false
   },
   "outputs": [],
   "source": [
    "data['UserCat'] = data.apply (lambda row: UserRangeGroup (row),axis=1)"
   ]
  },
  {
   "cell_type": "code",
   "execution_count": 18,
   "metadata": {
    "collapsed": false
   },
   "outputs": [
    {
     "data": {
      "image/png": "[encoded data removed]",
      "text/plain": [
       "<matplotlib.figure.Figure at 0x116fe8550>"
      ]
     },
     "metadata": {},
     "output_type": "display_data"
    }
   ],
   "source": [
    "seaborn.factorplot(x= 'UserCat',y= 'Child',  data= data, kind= \"bar\", ci=None)\n",
    "plt.ylabel('Out of school Children')\n",
    "plt.xlabel('User Category')\n",
    "plt.show()"
   ]
  },
  {
   "cell_type": "code",
   "execution_count": 19,
   "metadata": {
    "collapsed": false
   },
   "outputs": [
    {
     "data": {
      "text/plain": [
       "<matplotlib.axes._subplots.AxesSubplot at 0x117001ac8>"
      ]
     },
     "execution_count": 19,
     "metadata": {},
     "output_type": "execute_result"
    },
    {
     "data": {
      "image/png": "[encoded data removed]",
      "text/plain": [
       "<matplotlib.figure.Figure at 0x119b501d0>"
      ]
     },
     "metadata": {},
     "output_type": "display_data"
    }
   ],
   "source": [
    "seaborn.stripplot(x=\"UserCat\", y=\"Child\", data=data, jitter=True)"
   ]
  },
  {
   "cell_type": "markdown",
   "metadata": {},
   "source": [
    "# ANOVA test"
   ]
  },
  {
   "cell_type": "code",
   "execution_count": 20,
   "metadata": {
    "collapsed": true
   },
   "outputs": [],
   "source": [
    "import statsmodels.formula.api as smf\n",
    "import statsmodels.stats.multicomp as multi "
   ]
  },
  {
   "cell_type": "code",
   "execution_count": 21,
   "metadata": {
    "collapsed": false
   },
   "outputs": [
    {
     "data": {
      "text/html": [
       "<div>\n",
       "<table border=\"1\" class=\"dataframe\">\n",
       "  <thead>\n",
       "    <tr style=\"text-align: right;\">\n",
       "      <th></th>\n",
       "      <th>UserCat</th>\n",
       "      <th>Child</th>\n",
       "    </tr>\n",
       "  </thead>\n",
       "  <tbody>\n",
       "    <tr>\n",
       "      <th>0</th>\n",
       "      <td>3</td>\n",
       "      <td>107</td>\n",
       "    </tr>\n",
       "    <tr>\n",
       "      <th>1</th>\n",
       "      <td>3</td>\n",
       "      <td>293</td>\n",
       "    </tr>\n",
       "    <tr>\n",
       "      <th>2</th>\n",
       "      <td>3</td>\n",
       "      <td>375</td>\n",
       "    </tr>\n",
       "    <tr>\n",
       "      <th>3</th>\n",
       "      <td>3</td>\n",
       "      <td>528</td>\n",
       "    </tr>\n",
       "    <tr>\n",
       "      <th>4</th>\n",
       "      <td>3</td>\n",
       "      <td>485</td>\n",
       "    </tr>\n",
       "  </tbody>\n",
       "</table>\n",
       "</div>"
      ],
      "text/plain": [
       "   UserCat  Child\n",
       "0        3    107\n",
       "1        3    293\n",
       "2        3    375\n",
       "3        3    528\n",
       "4        3    485"
      ]
     },
     "execution_count": 21,
     "metadata": {},
     "output_type": "execute_result"
    }
   ],
   "source": [
    "data2= data[['UserCat', 'Child']]\n",
    "data2.head()"
   ]
  },
  {
   "cell_type": "code",
   "execution_count": 22,
   "metadata": {
    "collapsed": true
   },
   "outputs": [],
   "source": [
    "model1= smf.ols(formula='Child ~ C(UserCat)', data=data2)"
   ]
  },
  {
   "cell_type": "code",
   "execution_count": 23,
   "metadata": {
    "collapsed": false
   },
   "outputs": [
    {
     "name": "stdout",
     "output_type": "stream",
     "text": [
      "                            OLS Regression Results                            \n",
      "==============================================================================\n",
      "Dep. Variable:                  Child   R-squared:                       0.040\n",
      "Model:                            OLS   Adj. R-squared:                  0.037\n",
      "Method:                 Least Squares   F-statistic:                     13.64\n",
      "Date:                Fri, 06 May 2016   Prob (F-statistic):           6.71e-11\n",
      "Time:                        14:35:21   Log-Likelihood:                -20431.\n",
      "No. Observations:                1308   AIC:                         4.087e+04\n",
      "Df Residuals:                    1303   BIC:                         4.090e+04\n",
      "Df Model:                           4                                         \n",
      "Covariance Type:            nonrobust                                         \n",
      "===================================================================================\n",
      "                      coef    std err          t      P>|t|      [95.0% Conf. Int.]\n",
      "-----------------------------------------------------------------------------------\n",
      "Intercept        7.737e+05    7.1e+04     10.894      0.000      6.34e+05  9.13e+05\n",
      "C(UserCat)[T.2] -3.776e+05   1.15e+05     -3.283      0.001     -6.03e+05 -1.52e+05\n",
      "C(UserCat)[T.3] -5.856e+05   1.21e+05     -4.832      0.000     -8.23e+05 -3.48e+05\n",
      "C(UserCat)[T.4] -7.349e+05   1.31e+05     -5.598      0.000     -9.92e+05 -4.77e+05\n",
      "C(UserCat)[T.5]  -7.22e+05   1.24e+05     -5.823      0.000     -9.65e+05 -4.79e+05\n",
      "==============================================================================\n",
      "Omnibus:                     1865.104   Durbin-Watson:                   0.306\n",
      "Prob(Omnibus):                  0.000   Jarque-Bera (JB):           423351.261\n",
      "Skew:                           8.217   Prob(JB):                         0.00\n",
      "Kurtosis:                      89.590   Cond. No.                         4.79\n",
      "==============================================================================\n",
      "\n",
      "Warnings:\n",
      "[1] Standard Errors assume that the covariance matrix of the errors is correctly specified.\n"
     ]
    }
   ],
   "source": [
    "results= model1.fit()\n",
    "print(results.summary())"
   ]
  },
  {
   "cell_type": "markdown",
   "metadata": {},
   "source": [
    "# Post-Hoc Test"
   ]
  },
  {
   "cell_type": "code",
   "execution_count": 24,
   "metadata": {
    "collapsed": false
   },
   "outputs": [
    {
     "name": "stdout",
     "output_type": "stream",
     "text": [
      "     Multiple Comparison of Means - Tukey HSD,FWER=0.05     \n",
      "============================================================\n",
      "group1 group2   meandiff       lower        upper     reject\n",
      "------------------------------------------------------------\n",
      "  1      2    -377616.1343  -691800.6619 -63431.6066   True \n",
      "  1      3    -585564.9827  -916577.7306 -254552.2349  True \n",
      "  1      4    -734871.4701 -1093427.5714 -376315.3687  True \n",
      "  1      5    -722041.1212 -1060725.8916 -383356.3507  True \n",
      "  2      3    -207948.8485  -572646.8642 156749.1673  False \n",
      "  2      4    -357255.3358  -747124.1358  32613.4643  False \n",
      "  2      5    -344424.9869  -716100.3521  27250.3783  False \n",
      "  3      4    -149306.4873  -552859.7095 254246.7348  False \n",
      "  3      5    -136476.1384  -522481.4479 249529.1711  False \n",
      "  4      5     12830.3489   -397039.3103 422700.0081  False \n",
      "------------------------------------------------------------\n"
     ]
    }
   ],
   "source": [
    "mc1 = multi.MultiComparison(data2['Child'], data2['UserCat'])\n",
    "res1 = mc1.tukeyhsd()\n",
    "print(res1.summary())"
   ]
  }
 ],
 "metadata": {
  "kernelspec": {
   "display_name": "Python 3",
   "language": "python",
   "name": "python3"
  },
  "language_info": {
   "codemirror_mode": {
    "name": "ipython",
    "version": 3
   },
   "file_extension": ".py",
   "mimetype": "text/x-python",
   "name": "python",
   "nbconvert_exporter": "python",
   "pygments_lexer": "ipython3",
   "version": "3.5.1"
  }
 },
 "nbformat": 4,
 "nbformat_minor": 0
}
