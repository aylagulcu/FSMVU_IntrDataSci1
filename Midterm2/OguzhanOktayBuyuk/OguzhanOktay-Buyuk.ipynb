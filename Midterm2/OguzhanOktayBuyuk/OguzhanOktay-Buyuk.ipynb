{
 "cells": [
  {
   "cell_type": "code",
   "execution_count": 72,
   "metadata": {
    "collapsed": true
   },
   "outputs": [],
   "source": [
    "import pandas as pd\n",
    "import numpy as np\n",
    "import matplotlib.pyplot as plt\n",
    "import seaborn\n",
    "%matplotlib inline "
   ]
  },
  {
   "cell_type": "code",
   "execution_count": 73,
   "metadata": {
    "collapsed": false
   },
   "outputs": [
    {
     "data": {
      "text/plain": [
       "Index(['Station', 'YearTime', 'NO2'], dtype='object')"
      ]
     },
     "execution_count": 73,
     "metadata": {},
     "output_type": "execute_result"
    }
   ],
   "source": [
    "data_NO2= pd.read_csv('airbase-NO2.csv')\n",
    "data_NO2.columns"
   ]
  },
  {
   "cell_type": "code",
   "execution_count": 74,
   "metadata": {
    "collapsed": false
   },
   "outputs": [
    {
     "data": {
      "text/plain": [
       "0    Belgium-BETR801\n",
       "1    Belgium-BETR801\n",
       "2    Belgium-BETR801\n",
       "3    Belgium-BETR801\n",
       "4    Belgium-BETR801\n",
       "Name: Station, dtype: object"
      ]
     },
     "execution_count": 74,
     "metadata": {},
     "output_type": "execute_result"
    }
   ],
   "source": [
    "data_NO2['Station'].head(5)"
   ]
  },
  {
   "cell_type": "code",
   "execution_count": 75,
   "metadata": {
    "collapsed": false
   },
   "outputs": [
    {
     "data": {
      "text/html": [
       "<div>\n",
       "<table border=\"1\" class=\"dataframe\">\n",
       "  <thead>\n",
       "    <tr style=\"text-align: right;\">\n",
       "      <th></th>\n",
       "      <th>Station</th>\n",
       "      <th>YearTime</th>\n",
       "      <th>NO2</th>\n",
       "    </tr>\n",
       "  </thead>\n",
       "  <tbody>\n",
       "    <tr>\n",
       "      <th>0</th>\n",
       "      <td>Belgium-BETR801</td>\n",
       "      <td>1990</td>\n",
       "      <td>129.015</td>\n",
       "    </tr>\n",
       "    <tr>\n",
       "      <th>1</th>\n",
       "      <td>Belgium-BETR801</td>\n",
       "      <td>1991</td>\n",
       "      <td>129.015</td>\n",
       "    </tr>\n",
       "    <tr>\n",
       "      <th>2</th>\n",
       "      <td>Belgium-BETR801</td>\n",
       "      <td>1992</td>\n",
       "      <td>129.015</td>\n",
       "    </tr>\n",
       "    <tr>\n",
       "      <th>3</th>\n",
       "      <td>Belgium-BETR801</td>\n",
       "      <td>1993</td>\n",
       "      <td>129.015</td>\n",
       "    </tr>\n",
       "    <tr>\n",
       "      <th>4</th>\n",
       "      <td>Belgium-BETR801</td>\n",
       "      <td>1994</td>\n",
       "      <td>129.015</td>\n",
       "    </tr>\n",
       "    <tr>\n",
       "      <th>5</th>\n",
       "      <td>Belgium-BETR801</td>\n",
       "      <td>1995</td>\n",
       "      <td>129.015</td>\n",
       "    </tr>\n",
       "    <tr>\n",
       "      <th>6</th>\n",
       "      <td>Belgium-BETR801</td>\n",
       "      <td>1996</td>\n",
       "      <td>129.015</td>\n",
       "    </tr>\n",
       "    <tr>\n",
       "      <th>7</th>\n",
       "      <td>Belgium-BETR801</td>\n",
       "      <td>1997</td>\n",
       "      <td>129.015</td>\n",
       "    </tr>\n",
       "    <tr>\n",
       "      <th>8</th>\n",
       "      <td>Belgium-BETR801</td>\n",
       "      <td>1998</td>\n",
       "      <td>129.015</td>\n",
       "    </tr>\n",
       "    <tr>\n",
       "      <th>9</th>\n",
       "      <td>Belgium-BETR801</td>\n",
       "      <td>1999</td>\n",
       "      <td>129.015</td>\n",
       "    </tr>\n",
       "    <tr>\n",
       "      <th>10</th>\n",
       "      <td>Belgium-BETR801</td>\n",
       "      <td>2000</td>\n",
       "      <td>129.015</td>\n",
       "    </tr>\n",
       "    <tr>\n",
       "      <th>11</th>\n",
       "      <td>Belgium-BETR801</td>\n",
       "      <td>2001</td>\n",
       "      <td>129.015</td>\n",
       "    </tr>\n",
       "    <tr>\n",
       "      <th>12</th>\n",
       "      <td>Belgium-BETR801</td>\n",
       "      <td>2002</td>\n",
       "      <td>129.015</td>\n",
       "    </tr>\n",
       "    <tr>\n",
       "      <th>13</th>\n",
       "      <td>Belgium-BETR801</td>\n",
       "      <td>2003</td>\n",
       "      <td>129.015</td>\n",
       "    </tr>\n",
       "    <tr>\n",
       "      <th>14</th>\n",
       "      <td>Belgium-BETR801</td>\n",
       "      <td>2004</td>\n",
       "      <td>129.015</td>\n",
       "    </tr>\n",
       "    <tr>\n",
       "      <th>15</th>\n",
       "      <td>Belgium-BETR801</td>\n",
       "      <td>2005</td>\n",
       "      <td>129.015</td>\n",
       "    </tr>\n",
       "    <tr>\n",
       "      <th>16</th>\n",
       "      <td>Belgium-BETR801</td>\n",
       "      <td>2006</td>\n",
       "      <td>129.015</td>\n",
       "    </tr>\n",
       "    <tr>\n",
       "      <th>17</th>\n",
       "      <td>Belgium-BETR801</td>\n",
       "      <td>2008</td>\n",
       "      <td>129.015</td>\n",
       "    </tr>\n",
       "    <tr>\n",
       "      <th>18</th>\n",
       "      <td>Belgium-BETR801</td>\n",
       "      <td>2007</td>\n",
       "      <td>129.015</td>\n",
       "    </tr>\n",
       "    <tr>\n",
       "      <th>19</th>\n",
       "      <td>Belgium-BETR801</td>\n",
       "      <td>2009</td>\n",
       "      <td>129.015</td>\n",
       "    </tr>\n",
       "    <tr>\n",
       "      <th>20</th>\n",
       "      <td>Belgium-BETR801</td>\n",
       "      <td>2010</td>\n",
       "      <td>129.015</td>\n",
       "    </tr>\n",
       "    <tr>\n",
       "      <th>21</th>\n",
       "      <td>Belgium-BETR801</td>\n",
       "      <td>2011</td>\n",
       "      <td>225.588</td>\n",
       "    </tr>\n",
       "    <tr>\n",
       "      <th>22</th>\n",
       "      <td>Belgium-BETR801</td>\n",
       "      <td>2012</td>\n",
       "      <td>227.128</td>\n",
       "    </tr>\n",
       "    <tr>\n",
       "      <th>23</th>\n",
       "      <td>Belgium-BETR801</td>\n",
       "      <td>2013</td>\n",
       "      <td>255.672</td>\n",
       "    </tr>\n",
       "    <tr>\n",
       "      <th>24</th>\n",
       "      <td>Belgium-BETR801</td>\n",
       "      <td>2014</td>\n",
       "      <td>268.222</td>\n",
       "    </tr>\n",
       "    <tr>\n",
       "      <th>25</th>\n",
       "      <td>Belgium-BETR801</td>\n",
       "      <td>2015</td>\n",
       "      <td>279.776</td>\n",
       "    </tr>\n",
       "    <tr>\n",
       "      <th>26</th>\n",
       "      <td>Bulgaria-BG0026</td>\n",
       "      <td>1990</td>\n",
       "      <td>119.215</td>\n",
       "    </tr>\n",
       "    <tr>\n",
       "      <th>27</th>\n",
       "      <td>Bulgaria-BG0026</td>\n",
       "      <td>1991</td>\n",
       "      <td>119.840</td>\n",
       "    </tr>\n",
       "    <tr>\n",
       "      <th>28</th>\n",
       "      <td>Bulgaria-BG0026</td>\n",
       "      <td>1992</td>\n",
       "      <td>172.465</td>\n",
       "    </tr>\n",
       "    <tr>\n",
       "      <th>29</th>\n",
       "      <td>Bulgaria-BG0026</td>\n",
       "      <td>1993</td>\n",
       "      <td>173.090</td>\n",
       "    </tr>\n",
       "    <tr>\n",
       "      <th>...</th>\n",
       "      <td>...</td>\n",
       "      <td>...</td>\n",
       "      <td>...</td>\n",
       "    </tr>\n",
       "    <tr>\n",
       "      <th>995</th>\n",
       "      <td>Denmark-DE32M21</td>\n",
       "      <td>2012</td>\n",
       "      <td>32731.290</td>\n",
       "    </tr>\n",
       "    <tr>\n",
       "      <th>996</th>\n",
       "      <td>Denmark-DE32M21</td>\n",
       "      <td>2013</td>\n",
       "      <td>32940.627</td>\n",
       "    </tr>\n",
       "    <tr>\n",
       "      <th>997</th>\n",
       "      <td>Denmark-DE32M21</td>\n",
       "      <td>2014</td>\n",
       "      <td>33270.376</td>\n",
       "    </tr>\n",
       "    <tr>\n",
       "      <th>998</th>\n",
       "      <td>Denmark-DE32M21</td>\n",
       "      <td>2015</td>\n",
       "      <td>33668.655</td>\n",
       "    </tr>\n",
       "    <tr>\n",
       "      <th>999</th>\n",
       "      <td>Ecuador-EC3FNNE</td>\n",
       "      <td>1990</td>\n",
       "      <td>6842.305</td>\n",
       "    </tr>\n",
       "    <tr>\n",
       "      <th>1000</th>\n",
       "      <td>Ecuador-EC3FNNE</td>\n",
       "      <td>1991</td>\n",
       "      <td>7042.354</td>\n",
       "    </tr>\n",
       "    <tr>\n",
       "      <th>1001</th>\n",
       "      <td>Ecuador-EC3FNNE</td>\n",
       "      <td>1992</td>\n",
       "      <td>7103.703</td>\n",
       "    </tr>\n",
       "    <tr>\n",
       "      <th>1002</th>\n",
       "      <td>Ecuador-EC3FNNE</td>\n",
       "      <td>1993</td>\n",
       "      <td>7107.173</td>\n",
       "    </tr>\n",
       "    <tr>\n",
       "      <th>1003</th>\n",
       "      <td>Ecuador-EC3FNNE</td>\n",
       "      <td>1994</td>\n",
       "      <td>7268.522</td>\n",
       "    </tr>\n",
       "    <tr>\n",
       "      <th>1004</th>\n",
       "      <td>Ecuador-EC3FNNE</td>\n",
       "      <td>1995</td>\n",
       "      <td>7336.071</td>\n",
       "    </tr>\n",
       "    <tr>\n",
       "      <th>1005</th>\n",
       "      <td>Ecuador-EC3FNNE</td>\n",
       "      <td>1996</td>\n",
       "      <td>7331.528</td>\n",
       "    </tr>\n",
       "    <tr>\n",
       "      <th>1006</th>\n",
       "      <td>Ecuador-EC3FNNE</td>\n",
       "      <td>1997</td>\n",
       "      <td>7429.456</td>\n",
       "    </tr>\n",
       "    <tr>\n",
       "      <th>1007</th>\n",
       "      <td>Ecuador-EC3FNNE</td>\n",
       "      <td>1998</td>\n",
       "      <td>7319.008</td>\n",
       "    </tr>\n",
       "    <tr>\n",
       "      <th>1008</th>\n",
       "      <td>Ecuador-EC3FNNE</td>\n",
       "      <td>1999</td>\n",
       "      <td>6670.588</td>\n",
       "    </tr>\n",
       "    <tr>\n",
       "      <th>1009</th>\n",
       "      <td>Ecuador-EC3FNNE</td>\n",
       "      <td>2000</td>\n",
       "      <td>5196.419</td>\n",
       "    </tr>\n",
       "    <tr>\n",
       "      <th>1010</th>\n",
       "      <td>Ecuador-EC3FNNE</td>\n",
       "      <td>2001</td>\n",
       "      <td>5812.302</td>\n",
       "    </tr>\n",
       "    <tr>\n",
       "      <th>1011</th>\n",
       "      <td>Ecuador-EC3FNNE</td>\n",
       "      <td>2002</td>\n",
       "      <td>5255.045</td>\n",
       "    </tr>\n",
       "    <tr>\n",
       "      <th>1012</th>\n",
       "      <td>Ecuador-EC3FNNE</td>\n",
       "      <td>2003</td>\n",
       "      <td>5910.998</td>\n",
       "    </tr>\n",
       "    <tr>\n",
       "      <th>1013</th>\n",
       "      <td>Ecuador-EC3FNNE</td>\n",
       "      <td>2004</td>\n",
       "      <td>6311.013</td>\n",
       "    </tr>\n",
       "    <tr>\n",
       "      <th>1014</th>\n",
       "      <td>Ecuador-EC3FNNE</td>\n",
       "      <td>2005</td>\n",
       "      <td>6533.000</td>\n",
       "    </tr>\n",
       "    <tr>\n",
       "      <th>1015</th>\n",
       "      <td>Ecuador-EC3FNNE</td>\n",
       "      <td>2006</td>\n",
       "      <td>6721.100</td>\n",
       "    </tr>\n",
       "    <tr>\n",
       "      <th>1016</th>\n",
       "      <td>Ecuador-EC3FNNE</td>\n",
       "      <td>2007</td>\n",
       "      <td>6767.332</td>\n",
       "    </tr>\n",
       "    <tr>\n",
       "      <th>1017</th>\n",
       "      <td>Ecuador-EC3FNNE</td>\n",
       "      <td>2008</td>\n",
       "      <td>7091.736</td>\n",
       "    </tr>\n",
       "    <tr>\n",
       "      <th>1018</th>\n",
       "      <td>Ecuador-EC3FNNE</td>\n",
       "      <td>2009</td>\n",
       "      <td>7059.575</td>\n",
       "    </tr>\n",
       "    <tr>\n",
       "      <th>1019</th>\n",
       "      <td>Ecuador-EC3FNNE</td>\n",
       "      <td>2010</td>\n",
       "      <td>7182.708</td>\n",
       "    </tr>\n",
       "    <tr>\n",
       "      <th>1020</th>\n",
       "      <td>Ecuador-EC3FNNE</td>\n",
       "      <td>2011</td>\n",
       "      <td>7641.520</td>\n",
       "    </tr>\n",
       "    <tr>\n",
       "      <th>1021</th>\n",
       "      <td>Ecuador-EC3FNNE</td>\n",
       "      <td>2012</td>\n",
       "      <td>7903.095</td>\n",
       "    </tr>\n",
       "    <tr>\n",
       "      <th>1022</th>\n",
       "      <td>Ecuador-EC3FNNE</td>\n",
       "      <td>2013</td>\n",
       "      <td>8132.473</td>\n",
       "    </tr>\n",
       "    <tr>\n",
       "      <th>1023</th>\n",
       "      <td>Ecuador-EC3FNNE</td>\n",
       "      <td>2014</td>\n",
       "      <td>8327.256</td>\n",
       "    </tr>\n",
       "    <tr>\n",
       "      <th>1024</th>\n",
       "      <td>Ecuador-EC3FNNE</td>\n",
       "      <td>2015</td>\n",
       "      <td>8509.826</td>\n",
       "    </tr>\n",
       "  </tbody>\n",
       "</table>\n",
       "<p>1025 rows × 3 columns</p>\n",
       "</div>"
      ],
      "text/plain": [
       "              Station  YearTime        NO2\n",
       "0     Belgium-BETR801      1990    129.015\n",
       "1     Belgium-BETR801      1991    129.015\n",
       "2     Belgium-BETR801      1992    129.015\n",
       "3     Belgium-BETR801      1993    129.015\n",
       "4     Belgium-BETR801      1994    129.015\n",
       "5     Belgium-BETR801      1995    129.015\n",
       "6     Belgium-BETR801      1996    129.015\n",
       "7     Belgium-BETR801      1997    129.015\n",
       "8     Belgium-BETR801      1998    129.015\n",
       "9     Belgium-BETR801      1999    129.015\n",
       "10    Belgium-BETR801      2000    129.015\n",
       "11    Belgium-BETR801      2001    129.015\n",
       "12    Belgium-BETR801      2002    129.015\n",
       "13    Belgium-BETR801      2003    129.015\n",
       "14    Belgium-BETR801      2004    129.015\n",
       "15    Belgium-BETR801      2005    129.015\n",
       "16    Belgium-BETR801      2006    129.015\n",
       "17    Belgium-BETR801      2008    129.015\n",
       "18    Belgium-BETR801      2007    129.015\n",
       "19    Belgium-BETR801      2009    129.015\n",
       "20    Belgium-BETR801      2010    129.015\n",
       "21    Belgium-BETR801      2011    225.588\n",
       "22    Belgium-BETR801      2012    227.128\n",
       "23    Belgium-BETR801      2013    255.672\n",
       "24    Belgium-BETR801      2014    268.222\n",
       "25    Belgium-BETR801      2015    279.776\n",
       "26    Bulgaria-BG0026      1990    119.215\n",
       "27    Bulgaria-BG0026      1991    119.840\n",
       "28    Bulgaria-BG0026      1992    172.465\n",
       "29    Bulgaria-BG0026      1993    173.090\n",
       "...               ...       ...        ...\n",
       "995   Denmark-DE32M21      2012  32731.290\n",
       "996   Denmark-DE32M21      2013  32940.627\n",
       "997   Denmark-DE32M21      2014  33270.376\n",
       "998   Denmark-DE32M21      2015  33668.655\n",
       "999   Ecuador-EC3FNNE      1990   6842.305\n",
       "1000  Ecuador-EC3FNNE      1991   7042.354\n",
       "1001  Ecuador-EC3FNNE      1992   7103.703\n",
       "1002  Ecuador-EC3FNNE      1993   7107.173\n",
       "1003  Ecuador-EC3FNNE      1994   7268.522\n",
       "1004  Ecuador-EC3FNNE      1995   7336.071\n",
       "1005  Ecuador-EC3FNNE      1996   7331.528\n",
       "1006  Ecuador-EC3FNNE      1997   7429.456\n",
       "1007  Ecuador-EC3FNNE      1998   7319.008\n",
       "1008  Ecuador-EC3FNNE      1999   6670.588\n",
       "1009  Ecuador-EC3FNNE      2000   5196.419\n",
       "1010  Ecuador-EC3FNNE      2001   5812.302\n",
       "1011  Ecuador-EC3FNNE      2002   5255.045\n",
       "1012  Ecuador-EC3FNNE      2003   5910.998\n",
       "1013  Ecuador-EC3FNNE      2004   6311.013\n",
       "1014  Ecuador-EC3FNNE      2005   6533.000\n",
       "1015  Ecuador-EC3FNNE      2006   6721.100\n",
       "1016  Ecuador-EC3FNNE      2007   6767.332\n",
       "1017  Ecuador-EC3FNNE      2008   7091.736\n",
       "1018  Ecuador-EC3FNNE      2009   7059.575\n",
       "1019  Ecuador-EC3FNNE      2010   7182.708\n",
       "1020  Ecuador-EC3FNNE      2011   7641.520\n",
       "1021  Ecuador-EC3FNNE      2012   7903.095\n",
       "1022  Ecuador-EC3FNNE      2013   8132.473\n",
       "1023  Ecuador-EC3FNNE      2014   8327.256\n",
       "1024  Ecuador-EC3FNNE      2015   8509.826\n",
       "\n",
       "[1025 rows x 3 columns]"
      ]
     },
     "execution_count": 75,
     "metadata": {},
     "output_type": "execute_result"
    }
   ],
   "source": [
    "data_NO2"
   ]
  },
  {
   "cell_type": "code",
   "execution_count": 76,
   "metadata": {
    "collapsed": false
   },
   "outputs": [
    {
     "data": {
      "text/plain": [
       "RangeIndex(start=0, stop=1025, step=1)"
      ]
     },
     "execution_count": 76,
     "metadata": {},
     "output_type": "execute_result"
    }
   ],
   "source": [
    "data_NO2.index"
   ]
  },
  {
   "cell_type": "code",
   "execution_count": 77,
   "metadata": {
    "collapsed": false
   },
   "outputs": [
    {
     "data": {
      "text/plain": [
       "0    Belgium-BETR801\n",
       "1    Belgium-BETR801\n",
       "2    Belgium-BETR801\n",
       "3    Belgium-BETR801\n",
       "4    Belgium-BETR801\n",
       "Name: Station, dtype: object"
      ]
     },
     "execution_count": 77,
     "metadata": {},
     "output_type": "execute_result"
    }
   ],
   "source": [
    "data_NO2['Station'][:5]"
   ]
  },
  {
   "cell_type": "code",
   "execution_count": 78,
   "metadata": {
    "collapsed": false
   },
   "outputs": [
    {
     "name": "stdout",
     "output_type": "stream",
     "text": [
      "NO2 original length: 1025\n",
      "NO2 new length: 1025\n"
     ]
    }
   ],
   "source": [
    "print('NO2 original length: '+ str(len(data_NO2)))\n",
    "data_NO2_NoMissing= data_NO2.dropna() \n",
    "\n",
    "print('NO2 new length: '+ str(len(data_NO2_NoMissing)))"
   ]
  },
  {
   "cell_type": "code",
   "execution_count": 79,
   "metadata": {
    "collapsed": false
   },
   "outputs": [
    {
     "name": "stdout",
     "output_type": "stream",
     "text": [
      "Index(['Station', 'YearTime', 'GlobalWarmingLevels'], dtype='object')\n"
     ]
    }
   ],
   "source": [
    "data_GlobalWarmingLevel= pd.read_csv('airbase-globalwarming.csv')\n",
    "print(data_GlobalWarmingLevel.columns)"
   ]
  },
  {
   "cell_type": "code",
   "execution_count": 243,
   "metadata": {
    "collapsed": false
   },
   "outputs": [
    {
     "data": {
      "text/plain": [
       "<matplotlib.axes._subplots.AxesSubplot at 0x632bf260f0>"
      ]
     },
     "execution_count": 243,
     "metadata": {},
     "output_type": "execute_result"
    },
    {
     "data": {
      "image/png": "[encoded data removed]",
      "text/plain": [
       "<matplotlib.figure.Figure at 0x63331db6d8>"
      ]
     },
     "metadata": {},
     "output_type": "display_data"
    }
   ],
   "source": [
    "data_NO2['NO2'].plot(kind='hist', bins=50)"
   ]
  },
  {
   "cell_type": "code",
   "execution_count": 242,
   "metadata": {
    "collapsed": false
   },
   "outputs": [
    {
     "data": {
      "text/plain": [
       "<matplotlib.axes._subplots.AxesSubplot at 0x6333203eb8>"
      ]
     },
     "execution_count": 242,
     "metadata": {},
     "output_type": "execute_result"
    },
    {
     "data": {
      "image/png": "[encoded data removed]",
      "text/plain": [
       "<matplotlib.figure.Figure at 0x632a8f3d68>"
      ]
     },
     "metadata": {},
     "output_type": "display_data"
    }
   ],
   "source": [
    "data_NO2.plot(kind='box', ylim=[0,500])"
   ]
  },
  {
   "cell_type": "code",
   "execution_count": 80,
   "metadata": {
    "collapsed": false
   },
   "outputs": [
    {
     "name": "stdout",
     "output_type": "stream",
     "text": [
      "           Station  YearTime      NO2  GlobalWarmingLevels\n",
      "0  Belgium-BETR801      1990  129.015               121.09\n",
      "1  Belgium-BETR801      1991  129.015               121.59\n",
      "2  Belgium-BETR801      1992  129.015               121.89\n",
      "3  Belgium-BETR801      1993  129.015               124.39\n",
      "4  Belgium-BETR801      1994  129.015               127.59\n"
     ]
    }
   ],
   "source": [
    "data = pd.merge(left= data_NO2_NoMissing, right= data_GlobalWarmingLevel)\n",
    "print (data.head(5))"
   ]
  },
  {
   "cell_type": "code",
   "execution_count": 81,
   "metadata": {
    "collapsed": false
   },
   "outputs": [
    {
     "name": "stdout",
     "output_type": "stream",
     "text": [
      "Data length: 1693\n"
     ]
    }
   ],
   "source": [
    "print('Data length: '+ str(len(data)))"
   ]
  },
  {
   "cell_type": "code",
   "execution_count": 244,
   "metadata": {
    "collapsed": false
   },
   "outputs": [
    {
     "data": {
      "text/plain": [
       "<matplotlib.axes._subplots.AxesSubplot at 0x632be52ef0>"
      ]
     },
     "execution_count": 244,
     "metadata": {},
     "output_type": "execute_result"
    },
    {
     "data": {
      "image/png": "[encoded data removed]",
      "text/plain": [
       "<matplotlib.figure.Figure at 0x632aae53c8>"
      ]
     },
     "metadata": {},
     "output_type": "display_data"
    }
   ],
   "source": [
    "data.NO2.plot(figsize=(12,6))"
   ]
  },
  {
   "cell_type": "code",
   "execution_count": 82,
   "metadata": {
    "collapsed": false
   },
   "outputs": [
    {
     "data": {
      "text/plain": [
       "Int64Index([   0,    1,    2,    3,    4,    5,    6,    7,    8,    9,\n",
       "            ...\n",
       "            1683, 1684, 1685, 1686, 1687, 1688, 1689, 1690, 1691, 1692],\n",
       "           dtype='int64', length=1693)"
      ]
     },
     "execution_count": 82,
     "metadata": {},
     "output_type": "execute_result"
    }
   ],
   "source": [
    "data.index"
   ]
  },
  {
   "cell_type": "code",
   "execution_count": 83,
   "metadata": {
    "collapsed": false
   },
   "outputs": [
    {
     "name": "stdout",
     "output_type": "stream",
     "text": [
      "           Station  YearTime      NO2  GlobalWarmingLevels\n",
      "0  Belgium-BETR801      1990  129.015               121.09\n",
      "1  Belgium-BETR801      1991  129.015               121.59\n",
      "2  Belgium-BETR801      1992  129.015               121.89\n",
      "3  Belgium-BETR801      1993  129.015               124.39\n",
      "4  Belgium-BETR801      1994  129.015               127.59\n",
      "Length of the original dataframe: 1693\n",
      "Lenghth of the new dataframe: 1693\n",
      "           Station  YearTime      NO2  GlobalWarmingLevels\n",
      "0  Belgium-BETR801      1990  129.015               121.09\n",
      "1  Belgium-BETR801      1991  129.015               121.59\n",
      "2  Belgium-BETR801      1992  129.015               121.89\n"
     ]
    },
    {
     "data": {
      "text/plain": [
       "RangeIndex(start=0, stop=1693, step=1)"
      ]
     },
     "execution_count": 83,
     "metadata": {},
     "output_type": "execute_result"
    }
   ],
   "source": [
    "data = pd.merge(left= data_NO2, right= data_GlobalWarmingLevel)\n",
    "print (data.head(5))\n",
    "print('Length of the original dataframe: '+str(len(data)))\n",
    "data= data.dropna(subset =['NO2','GlobalWarmingLevels'], how='any')\n",
    "\n",
    "data= data.reset_index(drop=True) \n",
    "print('Lenghth of the new dataframe: '+str(len(data)))\n",
    "print(data.head(3))\n",
    "data.index"
   ]
  },
  {
   "cell_type": "code",
   "execution_count": 85,
   "metadata": {
    "collapsed": false
   },
   "outputs": [],
   "source": [
    "data['YearTime']= pd.to_numeric(data['YearTime'])\n",
    "data['NO2']= pd.to_numeric(data['NO2'])\n",
    "data['GlobalWarmingLevels']= pd.to_numeric(data['GlobalWarmingLevels'])"
   ]
  },
  {
   "cell_type": "code",
   "execution_count": 86,
   "metadata": {
    "collapsed": false
   },
   "outputs": [
    {
     "name": "stdout",
     "output_type": "stream",
     "text": [
      "Barbados-BE01AES      913\n",
      "Switzerland-CH0001     26\n",
      "Bolivia-BL01SAN        26\n",
      "Norway-NO009AN         26\n",
      "Poland-PL01SAN         26\n",
      "Name: Station, dtype: int64\n",
      "\n",
      "Barbados-BE01AES      0.539279\n",
      "Switzerland-CH0001    0.015357\n",
      "Bolivia-BL01SAN       0.015357\n",
      "Norway-NO009AN        0.015357\n",
      "Poland-PL01SAN        0.015357\n",
      "Name: Station, dtype: float64\n",
      "\n",
      "Number of Different Station: 31\n",
      "Number of observations for the Station column:1693\n"
     ]
    }
   ],
   "source": [
    "countStation= data['Station'].value_counts(sort= True, ascending=False, dropna=False) # sort= True\n",
    "print(countStation.head(5))\n",
    "print()\n",
    "perStation= data['Station'].value_counts(sort= True, ascending=False, dropna=False, normalize=True)\n",
    "print(perStation.head(5))\n",
    "print()\n",
    "print ('Number of Different Station: '+ str(len(countStation)))\n",
    "print ('Number of observations for the Station column:'+ str(len(data['Station'])))\n"
   ]
  },
  {
   "cell_type": "code",
   "execution_count": 87,
   "metadata": {
    "collapsed": false
   },
   "outputs": [
    {
     "name": "stdout",
     "output_type": "stream",
     "text": [
      "YearTime ranges from 1849 and to 2018\n",
      "1849    1\n",
      "1850    1\n",
      "1851    1\n",
      "1852    1\n",
      "1853    1\n",
      "Name: YearTime, dtype: int64\n",
      "1849    0.000591\n",
      "1850    0.000591\n",
      "1851    0.000591\n",
      "1852    0.000591\n",
      "1853    0.000591\n",
      "Name: YearTime, dtype: float64\n",
      "Number of Different YearTime: 166\n"
     ]
    }
   ],
   "source": [
    "print ('YearTime ranges from '+ str(data['YearTime'].min())+' and to '+ str(data['YearTime'].max()) )\n",
    "countYear= data['YearTime'].value_counts(sort= False, dropna=False)\n",
    "print(countYear.head(5))\n",
    "perYear= data['YearTime'].value_counts(sort= False, dropna=False, normalize=True)\n",
    "print(perYear.head(5))\n",
    "print ('Number of Different YearTime: '+ str(len(countYear)))"
   ]
  },
  {
   "cell_type": "code",
   "execution_count": 89,
   "metadata": {
    "collapsed": false
   },
   "outputs": [
    {
     "name": "stdout",
     "output_type": "stream",
     "text": [
      "2052.097      1\n",
      "16395.643     4\n",
      "34830.371     2\n",
      "1667.688     18\n",
      "2082.658      1\n",
      "Name: NO2, dtype: int64\n",
      "2052.097     0.000591\n",
      "16395.643    0.002363\n",
      "34830.371    0.001181\n",
      "1667.688     0.010632\n",
      "2082.658     0.000591\n",
      "Name: NO2, dtype: float64\n",
      "Number of Different NO2 values: 495\n"
     ]
    }
   ],
   "source": [
    "countNO2= data['NO2'].value_counts(sort= False, dropna=False) \n",
    "# dropna=False  required, otherwise python does not show mising values\n",
    "\n",
    "print(countNO2.head(5))\n",
    "perNO2= data['NO2'].value_counts(sort= False, dropna=False, normalize=True)\n",
    "print(perNO2.head(5))\n",
    "print ('Number of Different NO2 values: '+ str(len(countNO2)))"
   ]
  },
  {
   "cell_type": "code",
   "execution_count": 90,
   "metadata": {
    "collapsed": false
   },
   "outputs": [
    {
     "name": "stdout",
     "output_type": "stream",
     "text": [
      "492.424      1\n",
      "2052.097     2\n",
      "121.890      1\n",
      "678.748      1\n",
      "34830.371    1\n",
      "Name: GlobalWarmingLevels, dtype: int64\n",
      "492.424      0.000591\n",
      "2052.097     0.001181\n",
      "121.890      0.000591\n",
      "678.748      0.000591\n",
      "34830.371    0.000591\n",
      "Name: GlobalWarmingLevels, dtype: float64\n",
      "Number of Different GlobalWarmingLevels: 695\n"
     ]
    }
   ],
   "source": [
    "countGlobalWarmingLevels= data['GlobalWarmingLevels'].value_counts(sort= False, dropna=False)\n",
    "print(countGlobalWarmingLevels.head(5))\n",
    "percountGlobalWarmingLevels= data['GlobalWarmingLevels'].value_counts(sort= False, dropna=False, normalize=True)\n",
    "print(percountGlobalWarmingLevels.head(5))\n",
    "print ('Number of Different GlobalWarmingLevels: '+ str(len(countGlobalWarmingLevels)))"
   ]
  },
  {
   "cell_type": "code",
   "execution_count": 91,
   "metadata": {
    "collapsed": false
   },
   "outputs": [
    {
     "name": "stdout",
     "output_type": "stream",
     "text": [
      "Lenghth of the new dataframe: 1693\n"
     ]
    }
   ],
   "source": [
    "data= data.dropna(subset =['NO2','GlobalWarmingLevels'], how='any')\n",
    "\n",
    "data= data.reset_index(drop=True) # not to save old index as a column\n",
    "print('Lenghth of the new dataframe: '+str(len(data)))"
   ]
  },
  {
   "cell_type": "code",
   "execution_count": 92,
   "metadata": {
    "collapsed": false
   },
   "outputs": [
    {
     "name": "stdout",
     "output_type": "stream",
     "text": [
      "NO2 ranges from 119.215 and to 37921.954\n"
     ]
    },
    {
     "data": {
      "text/plain": [
       "count     1693.000000\n",
       "mean      3563.121504\n",
       "std       7265.452236\n",
       "min        119.215000\n",
       "25%        693.525000\n",
       "50%       1119.113000\n",
       "75%       1409.189000\n",
       "max      37921.954000\n",
       "Name: NO2, dtype: float64"
      ]
     },
     "execution_count": 92,
     "metadata": {},
     "output_type": "execute_result"
    }
   ],
   "source": [
    "print ('NO2 ranges from '+ str(data['NO2'].min())+' and to '+ str(data['NO2'].max()) )\n",
    "data['NO2'].describe()"
   ]
  },
  {
   "cell_type": "code",
   "execution_count": 93,
   "metadata": {
    "collapsed": false
   },
   "outputs": [
    {
     "name": "stdout",
     "output_type": "stream",
     "text": [
      "1693\n",
      "1693\n"
     ]
    }
   ],
   "source": [
    "data['NO2Group']= pd.cut(data.NO2, [280,1000,2000,5000,10000,50000,120000]) \n",
    "# no need to sort the data frame.\n",
    "\n",
    "print(len(data))\n",
    "print(len(data['NO2Group']))"
   ]
  },
  {
   "cell_type": "code",
   "execution_count": 94,
   "metadata": {
    "collapsed": false
   },
   "outputs": [
    {
     "data": {
      "text/plain": [
       "count             1591\n",
       "unique               5\n",
       "top       (1000, 2000]\n",
       "freq               875\n",
       "Name: NO2Group, dtype: object"
      ]
     },
     "execution_count": 94,
     "metadata": {},
     "output_type": "execute_result"
    }
   ],
   "source": [
    "data['NO2Group']= data['NO2Group'].astype('category')\n",
    "data['NO2Group'].describe()"
   ]
  },
  {
   "cell_type": "code",
   "execution_count": 96,
   "metadata": {
    "collapsed": false
   },
   "outputs": [
    {
     "name": "stdout",
     "output_type": "stream",
     "text": [
      "(280, 1000]        0.231542\n",
      "(1000, 2000]       0.516834\n",
      "(2000, 5000]       0.038984\n",
      "(5000, 10000]      0.050797\n",
      "(10000, 50000]     0.101595\n",
      "(50000, 120000]    0.000000\n",
      "dtype: float64\n"
     ]
    }
   ],
   "source": [
    "NO2GroupP= data['NO2Group'].value_counts(sort= False, normalize= True) \n",
    "# value_counts() should make more sense now\n",
    "print(NO2GroupP)"
   ]
  },
  {
   "cell_type": "code",
   "execution_count": 97,
   "metadata": {
    "collapsed": false
   },
   "outputs": [
    {
     "data": {
      "image/png": "[encoded data removed]",
      "text/plain": [
       "<matplotlib.figure.Figure at 0x63200d03c8>"
      ]
     },
     "metadata": {},
     "output_type": "display_data"
    }
   ],
   "source": [
    "seaborn.countplot(x= 'NO2Group', data= data)\n",
    "plt.xlabel('NO2 (per ug) categories)')\n",
    "plt.title('Counts of rows for each NO2')\n",
    "plt.show()"
   ]
  },
  {
   "cell_type": "code",
   "execution_count": 98,
   "metadata": {
    "collapsed": false
   },
   "outputs": [
    {
     "data": {
      "text/plain": [
       "<matplotlib.text.Text at 0x632a4e6c50>"
      ]
     },
     "execution_count": 98,
     "metadata": {},
     "output_type": "execute_result"
    },
    {
     "data": {
      "image/png": "[encoded data removed]",
      "text/plain": [
       "<matplotlib.figure.Figure at 0x6329d13ba8>"
      ]
     },
     "metadata": {},
     "output_type": "display_data"
    }
   ],
   "source": [
    "seaborn.distplot(data['NO2'].dropna(), kde= False)\n",
    "plt.xlabel('NO2 (per ug) quantitative values)')\n",
    "plt.title('Counts of rows for each NO2')"
   ]
  },
  {
   "cell_type": "code",
   "execution_count": 99,
   "metadata": {
    "collapsed": false
   },
   "outputs": [
    {
     "name": "stdout",
     "output_type": "stream",
     "text": [
      "Globalwarming levels ranges from 80.151 and to 37921.954\n"
     ]
    },
    {
     "data": {
      "text/plain": [
       "count     1693.000000\n",
       "mean      3641.053625\n",
       "std       7034.061953\n",
       "min         80.151000\n",
       "25%        695.052000\n",
       "50%       1123.500000\n",
       "75%       1433.418000\n",
       "max      37921.954000\n",
       "Name: GlobalWarmingLevels, dtype: float64"
      ]
     },
     "execution_count": 99,
     "metadata": {},
     "output_type": "execute_result"
    }
   ],
   "source": [
    "print ('Globalwarming levels ranges from '+ str(data['GlobalWarmingLevels'].min())+' and to '+ \n",
    "       str(data['GlobalWarmingLevels'].max()) )\n",
    "data['GlobalWarmingLevels'].describe()"
   ]
  },
  {
   "cell_type": "code",
   "execution_count": 101,
   "metadata": {
    "collapsed": false
   },
   "outputs": [],
   "source": [
    "data['GlobalWarmingLevelsGroup']= pd.cut(data.GlobalWarmingLevels, [2,50,100,200,500,800]) "
   ]
  },
  {
   "cell_type": "code",
   "execution_count": 102,
   "metadata": {
    "collapsed": false
   },
   "outputs": [
    {
     "data": {
      "text/plain": [
       "count            466\n",
       "unique             4\n",
       "top       (500, 800]\n",
       "freq             287\n",
       "Name: GlobalWarmingLevelsGroup, dtype: object"
      ]
     },
     "execution_count": 102,
     "metadata": {},
     "output_type": "execute_result"
    }
   ],
   "source": [
    "data['GlobalWarmingLevelsGroup']= data['GlobalWarmingLevelsGroup'].astype('category')\n",
    "data['GlobalWarmingLevelsGroup'].describe()"
   ]
  },
  {
   "cell_type": "code",
   "execution_count": 103,
   "metadata": {
    "collapsed": false
   },
   "outputs": [
    {
     "name": "stdout",
     "output_type": "stream",
     "text": [
      "(2, 50]       0.000000\n",
      "(50, 100]     0.006497\n",
      "(100, 200]    0.012995\n",
      "(200, 500]    0.086237\n",
      "(500, 800]    0.169522\n",
      "dtype: float64\n"
     ]
    }
   ],
   "source": [
    "rg= data['GlobalWarmingLevelsGroup'].value_counts(sort= False, normalize= True)\n",
    "print(rg)"
   ]
  },
  {
   "cell_type": "code",
   "execution_count": 104,
   "metadata": {
    "collapsed": false
   },
   "outputs": [
    {
     "data": {
      "image/png": "[encoded data removed]",
      "text/plain": [
       "<matplotlib.figure.Figure at 0x632a5d52b0>"
      ]
     },
     "metadata": {},
     "output_type": "display_data"
    }
   ],
   "source": [
    "seaborn.countplot(x= 'GlobalWarmingLevelsGroup', data= data)\n",
    "plt.xlabel('GlobalWarmingLevelsGroup Rate group')\n",
    "plt.title('Counts of rows for each Rate')\n",
    "plt.show()"
   ]
  },
  {
   "cell_type": "code",
   "execution_count": 106,
   "metadata": {
    "collapsed": false
   },
   "outputs": [
    {
     "data": {
      "text/plain": [
       "<matplotlib.axes._subplots.AxesSubplot at 0x632a677e48>"
      ]
     },
     "execution_count": 106,
     "metadata": {},
     "output_type": "execute_result"
    },
    {
     "data": {
      "image/png": "[encoded data removed]",
      "text/plain": [
       "<matplotlib.figure.Figure at 0x632a673400>"
      ]
     },
     "metadata": {},
     "output_type": "display_data"
    }
   ],
   "source": [
    "seaborn.regplot(x= \"NO2\", y= \"GlobalWarmingLevels\", fit_reg= False, data= data)"
   ]
  },
  {
   "cell_type": "code",
   "execution_count": 107,
   "metadata": {
    "collapsed": true
   },
   "outputs": [],
   "source": [
    "data2= data[data['YearTime']>=2000]"
   ]
  },
  {
   "cell_type": "code",
   "execution_count": 108,
   "metadata": {
    "collapsed": false
   },
   "outputs": [
    {
     "data": {
      "text/plain": [
       "<matplotlib.axes._subplots.AxesSubplot at 0x632a759390>"
      ]
     },
     "execution_count": 108,
     "metadata": {},
     "output_type": "execute_result"
    },
    {
     "data": {
      "image/png": "[encoded data removed]",
      "text/plain": [
       "<matplotlib.figure.Figure at 0x632a792860>"
      ]
     },
     "metadata": {},
     "output_type": "display_data"
    }
   ],
   "source": [
    "seaborn.regplot(x= \"NO2\", y= \"GlobalWarmingLevels\", fit_reg= False, data= data2)"
   ]
  },
  {
   "cell_type": "code",
   "execution_count": 109,
   "metadata": {
    "collapsed": false
   },
   "outputs": [
    {
     "name": "stdout",
     "output_type": "stream",
     "text": [
      "(2, 50]       0.000000\n",
      "(50, 100]     0.006497\n",
      "(100, 200]    0.012995\n",
      "(200, 500]    0.086237\n",
      "(500, 800]    0.169522\n",
      "dtype: float64\n"
     ]
    }
   ],
   "source": [
    "MG= data['GlobalWarmingLevelsGroup'].value_counts(sort= False, normalize= True)\n",
    "print(MG)"
   ]
  },
  {
   "cell_type": "code",
   "execution_count": 116,
   "metadata": {
    "collapsed": true
   },
   "outputs": [],
   "source": [
    "def GLOBALWARMING (row):\n",
    "    if row['GlobalWarmingLevels'] < 200 :\n",
    "        return 0\n",
    "    else:\n",
    "        return 1"
   ]
  },
  {
   "cell_type": "code",
   "execution_count": 142,
   "metadata": {
    "collapsed": false
   },
   "outputs": [
    {
     "data": {
      "text/plain": [
       "1    783\n",
       "0     13\n",
       "Name: GlobalWarm, dtype: int64"
      ]
     },
     "execution_count": 142,
     "metadata": {},
     "output_type": "execute_result"
    }
   ],
   "source": [
    "data2['GlobalWarm']= data2.apply(lambda row : GLOBALWARMING(row), axis= 1)\n",
    "# axis=1, tells python to apply this function to each row \n",
    "# Arbitrary functions can be applied along the axes of a DataFrame using the apply() method\n",
    "data2['GlobalWarm'].value_counts()GlobalWarmingLevels"
   ]
  },
  {
   "cell_type": "code",
   "execution_count": 171,
   "metadata": {
    "collapsed": false
   },
   "outputs": [
    {
     "data": {
      "image/png": "[encoded data removed]",
      "text/plain": [
       "<matplotlib.figure.Figure at 0x6333234d30>"
      ]
     },
     "metadata": {},
     "output_type": "display_data"
    }
   ],
   "source": [
    "seaborn.factorplot(x= 'NO2Group', y= 'GlobalWarmingLevels', data= data2, kind= \"bar\", ci=None)\n",
    "plt.xlabel('NO2 per ug')\n",
    "plt.ylabel('proportion GlobalWarm level')\n",
    "plt.show()\n",
    "# A categorical to categorical bar chart\n",
    "# note that a bivariate graph displays a mean on the y-axis, \n",
    "# so categorical response variables should not have other than two levels, they should be coded as 1 and 0.\n",
    "# Important: Below, the response variable gives us the proportion of the positive observations."
   ]
  },
  {
   "cell_type": "code",
   "execution_count": 186,
   "metadata": {
    "collapsed": true
   },
   "outputs": [],
   "source": [
    "def NO2RangeGroup (row):\n",
    "   if row['NO2'] > 0.0 and row['NO2']<= 200.0 :\n",
    "      return 1\n",
    "   if row['NO2'] > 200.0 and row['NO2']<= 750.0 :\n",
    "      return 2\n",
    "   if row['NO2'] > 750.0 and row['NO2']<= 1000.0 :\n",
    "      return 3\n",
    "   if row['NO2'] > 1000.0 and row['NO2']<= 1500.0 :\n",
    "      return 4\n",
    "   if row['NO2'] > 1500.0 and row['NO2']<= 2500.0 :\n",
    "      return 5\n",
    "   if row['NO2'] > 2500.0 and row['NO2']<= 5000.0 :\n",
    "      return 6\n",
    "   if row['NO2'] > 5000.0 and row['NO2']<= 50000.0 :\n",
    "      return 7"
   ]
  },
  {
   "cell_type": "code",
   "execution_count": 187,
   "metadata": {
    "collapsed": false
   },
   "outputs": [],
   "source": [
    "data2['NO2Cat'] = data2.apply (lambda row: NO2RangeGroup (row),axis=1)"
   ]
  },
  {
   "cell_type": "code",
   "execution_count": 188,
   "metadata": {
    "collapsed": false
   },
   "outputs": [
    {
     "data": {
      "image/png": "[encoded data removed]",
      "text/plain": [
       "<matplotlib.figure.Figure at 0x633310a940>"
      ]
     },
     "metadata": {},
     "output_type": "display_data"
    }
   ],
   "source": [
    "seaborn.factorplot(x= 'NO2Cat', y= 'GlobalWarmingLevels', data= data2, kind= \"bar\", ci=None)\n",
    "plt.xlabel('NO2 per capita category: 1 the lowest to 6 the highest')\n",
    "plt.ylabel('Proportion gloval warming levels')\n",
    "plt.show()"
   ]
  },
  {
   "cell_type": "code",
   "execution_count": 189,
   "metadata": {
    "collapsed": true
   },
   "outputs": [],
   "source": [
    "import statsmodels.formula.api as smf\n",
    "import statsmodels.stats.multicomp as multi "
   ]
  },
  {
   "cell_type": "code",
   "execution_count": 190,
   "metadata": {
    "collapsed": false
   },
   "outputs": [
    {
     "name": "stdout",
     "output_type": "stream",
     "text": [
      "      NO2Cat  GlobalWarmingLevels\n",
      "10         1              139.190\n",
      "11         1              139.790\n",
      "12         1              142.090\n",
      "13         1              143.610\n",
      "14         1              144.590\n",
      "15         1              171.990\n",
      "16         1              181.190\n",
      "17         1              192.090\n",
      "18         1              291.550\n",
      "19         1              205.130\n",
      "20         1              227.190\n",
      "21         2              235.155\n",
      "22         2              275.128\n",
      "23         2              336.672\n",
      "24         2              418.222\n",
      "25         2              479.776\n",
      "36         1               94.489\n",
      "37         1              125.119\n",
      "38         1              130.751\n",
      "39         1              135.383\n",
      "40         1              178.016\n",
      "41         1              200.650\n",
      "42         1              211.284\n",
      "43         1              222.511\n",
      "44         1              231.554\n",
      "45         1              233.191\n",
      "46         1              235.827\n",
      "47         1              235.983\n",
      "48         1              236.443\n",
      "49         1              257.755\n",
      "...      ...                  ...\n",
      "1661       7            25882.229\n",
      "1662       7            32731.290\n",
      "1663       7            25956.187\n",
      "1664       7            32940.627\n",
      "1665       7            25503.738\n",
      "1666       7            33270.376\n",
      "1669       7             5773.045\n",
      "1670       7             5910.998\n",
      "1671       7             5812.302\n",
      "1672       7             6311.013\n",
      "1673       7             5616.419\n",
      "1674       7             6533.000\n",
      "1675       7             6670.588\n",
      "1676       7             6721.100\n",
      "1677       7             7319.008\n",
      "1678       7             6767.332\n",
      "1679       7             7429.456\n",
      "1680       7             7091.736\n",
      "1681       7             7331.528\n",
      "1682       7             7059.575\n",
      "1683       7             7336.071\n",
      "1684       7             7182.708\n",
      "1685       7             7268.522\n",
      "1686       7             7641.520\n",
      "1687       7             7107.173\n",
      "1688       7             7903.095\n",
      "1689       7             7103.703\n",
      "1690       7             8132.473\n",
      "1691       7             7042.354\n",
      "1692       7             8327.256\n",
      "\n",
      "[796 rows x 2 columns]\n"
     ]
    }
   ],
   "source": [
    "data3= data2[['NO2Cat', 'GlobalWarmingLevels']]\n",
    "data3.dropna()\n",
    "print(data3)"
   ]
  },
  {
   "cell_type": "code",
   "execution_count": 191,
   "metadata": {
    "collapsed": false
   },
   "outputs": [
    {
     "name": "stdout",
     "output_type": "stream",
     "text": [
      "  Multiple Comparison of Means - Tukey HSD,FWER=0.05 \n",
      "=====================================================\n",
      "group1 group2  meandiff    lower      upper    reject\n",
      "-----------------------------------------------------\n",
      "  1      2     119.9866  -2816.0209 3055.9941  False \n",
      "  1      3     445.7737  -4048.026  4939.5735  False \n",
      "  1      4    3525.6613   274.4866  6776.8359   True \n",
      "  1      5    1347.5615  -2824.3256 5519.4487  False \n",
      "  1      6    2289.8334  -3151.5926 7731.2594  False \n",
      "  1      7    15726.0671 12646.8922 18805.2421  True \n",
      "  2      3     325.7871  -3352.8338  4004.408  False \n",
      "  2      4    3405.6746  1428.7701  5382.5792   True \n",
      "  2      5    1227.5749  -2050.0244 4505.1743  False \n",
      "  2      6    2169.8468  -2620.4698 6960.1633  False \n",
      "  2      7    15606.0805 13926.9934 17285.1676  True \n",
      "  3      4    3079.8875  -854.8613  7014.6363  False \n",
      "  3      5     901.7878  -3822.2734 5625.8489  False \n",
      "  3      6    1844.0596  -4031.4173 7719.5365  False \n",
      "  3      7    15280.2934 11486.426  19074.1608  True \n",
      "  4      5    -2178.0997 -5740.7748 1384.5753  False \n",
      "  4      6    -1235.8279 -6225.5301 3753.8744  False \n",
      "  4      7    12200.4058 10016.5263 14384.2854  True \n",
      "  5      6     942.2718  -4690.8121 6575.3558  False \n",
      "  5      7    14378.5056 10972.0653 17784.9459  True \n",
      "  6      7    13436.2337 8556.8577  18315.6098  True \n",
      "-----------------------------------------------------\n"
     ]
    }
   ],
   "source": [
    "mc1 = multi.MultiComparison(data3['GlobalWarmingLevels'], data3['NO2Cat'])\n",
    "res1 = mc1.tukeyhsd()\n",
    "print(res1.summary())"
   ]
  },
  {
   "cell_type": "code",
   "execution_count": 192,
   "metadata": {
    "collapsed": false
   },
   "outputs": [
    {
     "name": "stdout",
     "output_type": "stream",
     "text": [
      "      GlobalWarm  NO2Cat\n",
      "10             0       1\n",
      "11             0       1\n",
      "12             0       1\n",
      "13             0       1\n",
      "14             0       1\n",
      "15             0       1\n",
      "16             0       1\n",
      "17             0       1\n",
      "18             1       1\n",
      "19             1       1\n",
      "20             1       1\n",
      "21             1       2\n",
      "22             1       2\n",
      "23             1       2\n",
      "24             1       2\n",
      "25             1       2\n",
      "36             0       1\n",
      "37             0       1\n",
      "38             0       1\n",
      "39             0       1\n",
      "40             0       1\n",
      "41             1       1\n",
      "42             1       1\n",
      "43             1       1\n",
      "44             1       1\n",
      "45             1       1\n",
      "46             1       1\n",
      "47             1       1\n",
      "48             1       1\n",
      "49             1       1\n",
      "...          ...     ...\n",
      "1661           1       7\n",
      "1662           1       7\n",
      "1663           1       7\n",
      "1664           1       7\n",
      "1665           1       7\n",
      "1666           1       7\n",
      "1669           1       7\n",
      "1670           1       7\n",
      "1671           1       7\n",
      "1672           1       7\n",
      "1673           1       7\n",
      "1674           1       7\n",
      "1675           1       7\n",
      "1676           1       7\n",
      "1677           1       7\n",
      "1678           1       7\n",
      "1679           1       7\n",
      "1680           1       7\n",
      "1681           1       7\n",
      "1682           1       7\n",
      "1683           1       7\n",
      "1684           1       7\n",
      "1685           1       7\n",
      "1686           1       7\n",
      "1687           1       7\n",
      "1688           1       7\n",
      "1689           1       7\n",
      "1690           1       7\n",
      "1691           1       7\n",
      "1692           1       7\n",
      "\n",
      "[796 rows x 2 columns]\n"
     ]
    }
   ],
   "source": [
    "data4= data2[['GlobalWarm', 'NO2Cat']]\n",
    "print(data4)"
   ]
  },
  {
   "cell_type": "code",
   "execution_count": 193,
   "metadata": {
    "collapsed": false
   },
   "outputs": [
    {
     "name": "stdout",
     "output_type": "stream",
     "text": [
      "NO2Cat       1    2   3    4   5   6    7\n",
      "GlobalWarm                               \n",
      "0           13    0   0    0   0   0    0\n",
      "1           33  359  28  120  36  16  191\n"
     ]
    }
   ],
   "source": [
    "# contingency table of observed counts\n",
    "ct1=pd.crosstab(data4['GlobalWarm'], data4['NO2Cat'])\n",
    "print (ct1) # ct1 is a two-dimentional array"
   ]
  },
  {
   "cell_type": "code",
   "execution_count": 194,
   "metadata": {
    "collapsed": false
   },
   "outputs": [
    {
     "name": "stdout",
     "output_type": "stream",
     "text": [
      "NO2Cat             1    2    3    4    5    6    7\n",
      "GlobalWarm                                        \n",
      "0           0.282609  0.0  0.0  0.0  0.0  0.0  0.0\n",
      "1           0.717391  1.0  1.0  1.0  1.0  1.0  1.0\n"
     ]
    }
   ],
   "source": [
    "# column percentages\n",
    "colsum=ct1.sum(axis=0) # axis=0 to sum all columns\n",
    "colpct=ct1/colsum\n",
    "print(colpct)"
   ]
  },
  {
   "cell_type": "code",
   "execution_count": 195,
   "metadata": {
    "collapsed": true
   },
   "outputs": [],
   "source": [
    "import scipy.stats"
   ]
  },
  {
   "cell_type": "code",
   "execution_count": 196,
   "metadata": {
    "collapsed": false
   },
   "outputs": [
    {
     "name": "stdout",
     "output_type": "stream",
     "text": [
      "chi-square value, p value, expected counts\n",
      "(215.47559553556553, 9.5904003314340662e-44, 6, array([[  7.51256281e-01,   5.86306533e+00,   4.57286432e-01,\n",
      "          1.95979899e+00,   5.87939698e-01,   2.61306533e-01,\n",
      "          3.11934673e+00],\n",
      "       [  4.52487437e+01,   3.53136935e+02,   2.75427136e+01,\n",
      "          1.18040201e+02,   3.54120603e+01,   1.57386935e+01,\n",
      "          1.87880653e+02]]))\n"
     ]
    }
   ],
   "source": [
    "# chi-square\n",
    "print ('chi-square value, p value, expected counts')\n",
    "cs1= scipy.stats.chi2_contingency(ct1)\n",
    "print (cs1)"
   ]
  },
  {
   "cell_type": "code",
   "execution_count": 197,
   "metadata": {
    "collapsed": false
   },
   "outputs": [
    {
     "data": {
      "image/png": "[encoded data removed]",
      "text/plain": [
       "<matplotlib.figure.Figure at 0x632beac780>"
      ]
     },
     "metadata": {},
     "output_type": "display_data"
    }
   ],
   "source": [
    "seaborn.factorplot(x= 'NO2Cat', y= 'GlobalWarm', data= data4, kind= \"bar\", ci=None)\n",
    "plt.xlabel('NO2 per ug category: 1 the lowest to 7 the highest')\n",
    "plt.ylabel('Proportion global warm')\n",
    "plt.show()\n",
    "# note that the y values are equal to the column percentages (colpct) for Mortal 1"
   ]
  },
  {
   "cell_type": "code",
   "execution_count": 199,
   "metadata": {
    "collapsed": false
   },
   "outputs": [
    {
     "name": "stdout",
     "output_type": "stream",
     "text": [
      "NO2_1v2     1.0  2.0\n",
      "GlobalWarm          \n",
      "0            13    0\n",
      "1            33  359\n",
      "NO2_1v2          1.0  2.0\n",
      "GlobalWarm               \n",
      "0           0.282609  0.0\n",
      "1           0.717391  1.0\n",
      "chi-square value, p value, expected counts\n",
      "(95.922166288691059, 1.1949000819335535e-22, 1, array([[   1.47654321,   11.52345679],\n",
      "       [  44.52345679,  347.47654321]]))\n"
     ]
    }
   ],
   "source": [
    "recode_1v2 = {1: 1, 2: 2} # this is required because we are going to use only these two columns\n",
    "data4['NO2_1v2']= data4['NO2Cat'].map(recode_1v2)\n",
    "\n",
    "# contingency table of observed counts\n",
    "table_1v2=pd.crosstab(data4['GlobalWarm'], data4['NO2_1v2'])\n",
    "print (table_1v2)\n",
    "\n",
    "# column percentages\n",
    "colsum=table_1v2.sum(axis=0)\n",
    "colpct=table_1v2/colsum\n",
    "print(colpct)\n",
    "\n",
    "print ('chi-square value, p value, expected counts')\n",
    "cs_1v2= scipy.stats.chi2_contingency(table_1v2)\n",
    "print (cs_1v2)"
   ]
  },
  {
   "cell_type": "code",
   "execution_count": 200,
   "metadata": {
    "collapsed": false
   },
   "outputs": [
    {
     "name": "stdout",
     "output_type": "stream",
     "text": [
      "NO2_1v3     1.0  3.0\n",
      "GlobalWarm          \n",
      "0            13    0\n",
      "1            33   28\n",
      "NO2_1v3          1.0  3.0\n",
      "GlobalWarm               \n",
      "0           0.282609  0.0\n",
      "1           0.717391  1.0\n",
      "chi-square value, p value, expected counts\n",
      "(7.7470823901686341, 0.005379938785462674, 1, array([[  8.08108108,   4.91891892],\n",
      "       [ 37.91891892,  23.08108108]]))\n"
     ]
    }
   ],
   "source": [
    "recode_1v3 = {1: 1, 3: 3}\n",
    "data4['NO2_1v3']= data4['NO2Cat'].map(recode_1v3)\n",
    "\n",
    "# contingency table of observed counts\n",
    "table_1v3=pd.crosstab(data4['GlobalWarm'], data4['NO2_1v3'])\n",
    "print (table_1v3)\n",
    "\n",
    "# column percentages\n",
    "colsum=table_1v3.sum(axis=0)\n",
    "colpct=table_1v3/colsum\n",
    "print(colpct)\n",
    "\n",
    "print ('chi-square value, p value, expected counts')\n",
    "cs_1v3= scipy.stats.chi2_contingency(table_1v3)\n",
    "print (cs_1v3)"
   ]
  },
  {
   "cell_type": "code",
   "execution_count": 202,
   "metadata": {
    "collapsed": false
   },
   "outputs": [
    {
     "name": "stdout",
     "output_type": "stream",
     "text": [
      "NO2_1v4     1.0  4.0\n",
      "GlobalWarm          \n",
      "0            13    0\n",
      "1            33  120\n",
      "NO2_1v4          1.0  4.0\n",
      "GlobalWarm               \n",
      "0           0.282609  0.0\n",
      "1           0.717391  1.0\n",
      "chi-square value, p value, expected counts\n",
      "(32.983384520660735, 9.2949854783164845e-09, 1, array([[   3.60240964,    9.39759036],\n",
      "       [  42.39759036,  110.60240964]]))\n"
     ]
    }
   ],
   "source": [
    "recode_1v4 = {1: 1, 4: 4}\n",
    "data4['NO2_1v4']= data4['NO2Cat'].map(recode_1v4)\n",
    "\n",
    "# contingency table of observed counts\n",
    "table_1v4=pd.crosstab(data4['GlobalWarm'], data4['NO2_1v4'])\n",
    "print (table_1v4)\n",
    "\n",
    "# column percentages\n",
    "colsum=table_1v4.sum(axis=0)\n",
    "colpct=table_1v4/colsum\n",
    "print(colpct)\n",
    "\n",
    "print ('chi-square value, p value, expected counts')\n",
    "cs_1v4= scipy.stats.chi2_contingency(table_1v4)\n",
    "print (cs_1v4)"
   ]
  },
  {
   "cell_type": "code",
   "execution_count": 203,
   "metadata": {
    "collapsed": false
   },
   "outputs": [
    {
     "name": "stdout",
     "output_type": "stream",
     "text": [
      "NO2_1v5     1.0  5.0\n",
      "GlobalWarm          \n",
      "0            13    0\n",
      "1            33   36\n",
      "NO2_1v5          1.0  5.0\n",
      "GlobalWarm               \n",
      "0           0.282609  0.0\n",
      "1           0.717391  1.0\n",
      "chi-square value, p value, expected counts\n",
      "(10.065070632650974, 0.0015110677264579314, 1, array([[  7.29268293,   5.70731707],\n",
      "       [ 38.70731707,  30.29268293]]))\n"
     ]
    }
   ],
   "source": [
    "recode_1v5 = {1: 1, 5: 5}\n",
    "data4['NO2_1v5']= data4['NO2Cat'].map(recode_1v5)\n",
    "\n",
    "# contingency table of observed counts\n",
    "table_1v5=pd.crosstab(data4['GlobalWarm'], data4['NO2_1v5'])\n",
    "print (table_1v5)\n",
    "\n",
    "# column percentages\n",
    "colsum=table_1v5.sum(axis=0)\n",
    "colpct=table_1v5/colsum\n",
    "print(colpct)\n",
    "\n",
    "print ('chi-square value, p value, expected counts')\n",
    "cs_1v5= scipy.stats.chi2_contingency(table_1v5)\n",
    "print (cs_1v5)"
   ]
  },
  {
   "cell_type": "code",
   "execution_count": 205,
   "metadata": {
    "collapsed": false
   },
   "outputs": [
    {
     "name": "stdout",
     "output_type": "stream",
     "text": [
      "NO2_1v6     1.0  5.0\n",
      "GlobalWarm          \n",
      "0            13    0\n",
      "1            33   36\n",
      "NO2_1v6          1.0  5.0\n",
      "GlobalWarm               \n",
      "0           0.282609  0.0\n",
      "1           0.717391  1.0\n",
      "chi-square value, p value, expected counts\n",
      "(10.065070632650974, 0.0015110677264579314, 1, array([[  7.29268293,   5.70731707],\n",
      "       [ 38.70731707,  30.29268293]]))\n"
     ]
    }
   ],
   "source": [
    "recode_1v6 = {1: 1, 6: 6}\n",
    "data4['NO2_1v6']= data4['NO2Cat'].map(recode_1v6)\n",
    "\n",
    "# contingency table of observed counts\n",
    "table_1v6=pd.crosstab(data4['GlobalWarm'], data4['NO2_1v6'])\n",
    "print (table_1v6)\n",
    "\n",
    "# column percentages\n",
    "colsum=table_1v6.sum(axis=0)\n",
    "colpct=table_1v6/colsum\n",
    "print(colpct)\n",
    "\n",
    "print ('chi-square value, p value, expected counts')\n",
    "cs_1v6= scipy.stats.chi2_contingency(table_1v6)\n",
    "print (cs_1v6)"
   ]
  },
  {
   "cell_type": "code",
   "execution_count": 206,
   "metadata": {
    "collapsed": false
   },
   "outputs": [
    {
     "name": "stdout",
     "output_type": "stream",
     "text": [
      "NO2_1v7     1.0  5.0\n",
      "GlobalWarm          \n",
      "0            13    0\n",
      "1            33   36\n",
      "NO2_1v7          1.0  5.0\n",
      "GlobalWarm               \n",
      "0           0.282609  0.0\n",
      "1           0.717391  1.0\n",
      "chi-square value, p value, expected counts\n",
      "(10.065070632650974, 0.0015110677264579314, 1, array([[  7.29268293,   5.70731707],\n",
      "       [ 38.70731707,  30.29268293]]))\n"
     ]
    }
   ],
   "source": [
    "recode_1v7 = {1: 1, 7: 7}\n",
    "data4['NO2_1v7']= data4['NO2Cat'].map(recode_1v7)\n",
    "\n",
    "# contingency table of observed counts\n",
    "table_1v7=pd.crosstab(data4['GlobalWarm'], data4['NO2_1v7'])\n",
    "print (table_1v7)\n",
    "\n",
    "# column percentages\n",
    "colsum=table_1v7.sum(axis=0)\n",
    "colpct=table_1v7/colsum\n",
    "print(colpct)\n",
    "\n",
    "print ('chi-square value, p value, expected counts')\n",
    "cs_1v7= scipy.stats.chi2_contingency(table_1v7)\n",
    "print (cs_1v7)"
   ]
  },
  {
   "cell_type": "code",
   "execution_count": 208,
   "metadata": {
    "collapsed": false
   },
   "outputs": [
    {
     "name": "stdout",
     "output_type": "stream",
     "text": [
      "NO2_2v3     2.0  3.0\n",
      "GlobalWarm          \n",
      "1           359   28\n",
      "NO2_2v3     2.0  3.0\n",
      "GlobalWarm          \n",
      "1           1.0  1.0\n",
      "chi-square value, p value, expected counts\n",
      "(0.0, 1.0, 0, array([[ 359.,   28.]]))\n"
     ]
    }
   ],
   "source": [
    "recode_2v3 = {2: 2, 3: 3}\n",
    "data4['NO2_2v3']= data4['NO2Cat'].map(recode_2v3)\n",
    "\n",
    "# contingency table of observed counts\n",
    "table_2v3=pd.crosstab(data4['GlobalWarm'], data4['NO2_2v3'])\n",
    "print (table_2v3)\n",
    "\n",
    "# column percentages\n",
    "colsum=table_2v3.sum(axis=0)\n",
    "colpct=table_2v3/colsum\n",
    "print(colpct)\n",
    "\n",
    "print ('chi-square value, p value, expected counts')\n",
    "cs_2v3= scipy.stats.chi2_contingency(table_2v3)\n",
    "print (cs_2v3)"
   ]
  },
  {
   "cell_type": "code",
   "execution_count": 211,
   "metadata": {
    "collapsed": false
   },
   "outputs": [
    {
     "name": "stdout",
     "output_type": "stream",
     "text": [
      "NO2_2v4     2.0  4.0\n",
      "GlobalWarm          \n",
      "1           359  120\n",
      "NO2_2v4     2.0  4.0\n",
      "GlobalWarm          \n",
      "1           1.0  1.0\n",
      "chi-square value, p value, expected counts\n",
      "(0.0, 1.0, 0, array([[ 359.,  120.]]))\n"
     ]
    }
   ],
   "source": [
    "recode_2v4 = {2: 2, 4: 4}\n",
    "data4['NO2_2v4']= data4['NO2Cat'].map(recode_2v4)\n",
    "\n",
    "# contingency table of observed counts\n",
    "table_2v4=pd.crosstab(data4['GlobalWarm'], data4['NO2_2v4'])\n",
    "print (table_2v4)\n",
    "\n",
    "# column percentages\n",
    "colsum=table_2v4.sum(axis=0)\n",
    "colpct=table_2v4/colsum\n",
    "print(colpct)\n",
    "\n",
    "print ('chi-square value, p value, expected counts')\n",
    "cs_2v4= scipy.stats.chi2_contingency(table_2v4)\n",
    "print (cs_2v4)"
   ]
  },
  {
   "cell_type": "code",
   "execution_count": 216,
   "metadata": {
    "collapsed": false
   },
   "outputs": [
    {
     "name": "stdout",
     "output_type": "stream",
     "text": [
      "NO2_2v5     2.0  5.0\n",
      "GlobalWarm          \n",
      "1           359   36\n",
      "NO2_2v5     2.0  5.0\n",
      "GlobalWarm          \n",
      "1           1.0  1.0\n",
      "chi-square value, p value, expected counts\n",
      "(0.0, 1.0, 0, array([[ 359.,   36.]]))\n"
     ]
    }
   ],
   "source": [
    "recode_2v5 = {2: 2, 5: 5}\n",
    "data4['NO2_2v5']= data4['NO2Cat'].map(recode_2v5)\n",
    "\n",
    "# contingency table of observed counts\n",
    "table_2v5=pd.crosstab(data4['GlobalWarm'], data4['NO2_2v5'])\n",
    "print (table_2v5)\n",
    "\n",
    "# column percentages\n",
    "colsum=table_2v5.sum(axis=0)\n",
    "colpct=table_2v5/colsum\n",
    "print(colpct)\n",
    "\n",
    "print ('chi-square value, p value, expected counts')\n",
    "cs_2v5= scipy.stats.chi2_contingency(table_2v5)\n",
    "print (cs_2v5)"
   ]
  },
  {
   "cell_type": "code",
   "execution_count": 217,
   "metadata": {
    "collapsed": false
   },
   "outputs": [
    {
     "name": "stdout",
     "output_type": "stream",
     "text": [
      "NO2_2v6     2.0  6.0\n",
      "GlobalWarm          \n",
      "1           359   16\n",
      "NO2_2v6     2.0  6.0\n",
      "GlobalWarm          \n",
      "1           1.0  1.0\n",
      "chi-square value, p value, expected counts\n",
      "(0.0, 1.0, 0, array([[ 359.,   16.]]))\n"
     ]
    }
   ],
   "source": [
    "recode_2v6 = {2: 2, 6: 6}\n",
    "data4['NO2_2v6']= data4['NO2Cat'].map(recode_2v6)\n",
    "\n",
    "# contingency table of observed counts\n",
    "table_2v6=pd.crosstab(data4['GlobalWarm'], data4['NO2_2v6'])\n",
    "print (table_2v6)\n",
    "\n",
    "# column percentages\n",
    "colsum=table_2v6.sum(axis=0)\n",
    "colpct=table_2v6/colsum\n",
    "print(colpct)\n",
    "\n",
    "print ('chi-square value, p value, expected counts')\n",
    "cs_2v6= scipy.stats.chi2_contingency(table_2v6)\n",
    "print (cs_2v6)"
   ]
  },
  {
   "cell_type": "code",
   "execution_count": 219,
   "metadata": {
    "collapsed": false
   },
   "outputs": [
    {
     "name": "stdout",
     "output_type": "stream",
     "text": [
      "NO2_2v7     2.0  7.0\n",
      "GlobalWarm          \n",
      "1           359  191\n",
      "NO2_2v7     2.0  7.0\n",
      "GlobalWarm          \n",
      "1           1.0  1.0\n",
      "chi-square value, p value, expected counts\n",
      "(0.0, 1.0, 0, array([[ 359.,  191.]]))\n"
     ]
    }
   ],
   "source": [
    "recode_2v7 = {2: 2, 7: 7}\n",
    "data4['NO2_2v7']= data4['NO2Cat'].map(recode_2v7)\n",
    "\n",
    "# contingency table of observed counts\n",
    "table_2v7=pd.crosstab(data4['GlobalWarm'], data4['NO2_2v7'])\n",
    "print (table_2v7)\n",
    "\n",
    "# column percentages\n",
    "colsum=table_2v7.sum(axis=0)\n",
    "colpct=table_2v7/colsum\n",
    "print(colpct)\n",
    "\n",
    "print ('chi-square value, p value, expected counts')\n",
    "cs_2v7= scipy.stats.chi2_contingency(table_2v7)\n",
    "print (cs_2v7)"
   ]
  },
  {
   "cell_type": "code",
   "execution_count": 221,
   "metadata": {
    "collapsed": false
   },
   "outputs": [
    {
     "name": "stdout",
     "output_type": "stream",
     "text": [
      "NO2_3v4     3.0  4.0\n",
      "GlobalWarm          \n",
      "1            28  120\n",
      "NO2_3v4     3.0  4.0\n",
      "GlobalWarm          \n",
      "1           1.0  1.0\n",
      "chi-square value, p value, expected counts\n",
      "(0.0, 1.0, 0, array([[  28.,  120.]]))\n"
     ]
    }
   ],
   "source": [
    "recode_3v4 = {3: 3, 4: 4}\n",
    "data4['NO2_3v4']= data4['NO2Cat'].map(recode_3v4)\n",
    "\n",
    "# contingency table of observed counts\n",
    "table_3v4=pd.crosstab(data4['GlobalWarm'], data4['NO2_3v4'])\n",
    "print (table_3v4)\n",
    "\n",
    "# column percentages\n",
    "colsum=table_3v4.sum(axis=0)\n",
    "colpct=table_3v4/colsum\n",
    "print(colpct)\n",
    "\n",
    "print ('chi-square value, p value, expected counts')\n",
    "cs_3v4= scipy.stats.chi2_contingency(table_3v4)\n",
    "print (cs_3v4)"
   ]
  },
  {
   "cell_type": "code",
   "execution_count": 224,
   "metadata": {
    "collapsed": false
   },
   "outputs": [
    {
     "name": "stdout",
     "output_type": "stream",
     "text": [
      "NO2_3v5     3.0  5.0\n",
      "GlobalWarm          \n",
      "1            28   36\n",
      "NO2_3v5     3.0  5.0\n",
      "GlobalWarm          \n",
      "1           1.0  1.0\n",
      "chi-square value, p value, expected counts\n",
      "(0.0, 1.0, 0, array([[ 28.,  36.]]))\n"
     ]
    }
   ],
   "source": [
    "recode_3v5 = {3: 3, 5: 5}\n",
    "data4['NO2_3v5']= data4['NO2Cat'].map(recode_3v5)\n",
    "\n",
    "# contingency table of observed counts\n",
    "table_3v5=pd.crosstab(data4['GlobalWarm'], data4['NO2_3v5'])\n",
    "print (table_3v5)\n",
    "\n",
    "# column percentages\n",
    "colsum=table_3v5.sum(axis=0)\n",
    "colpct=table_3v5/colsum\n",
    "print(colpct)\n",
    "\n",
    "print ('chi-square value, p value, expected counts')\n",
    "cs_3v5= scipy.stats.chi2_contingency(table_3v5)\n",
    "print (cs_3v5)"
   ]
  },
  {
   "cell_type": "code",
   "execution_count": 226,
   "metadata": {
    "collapsed": false
   },
   "outputs": [
    {
     "name": "stdout",
     "output_type": "stream",
     "text": [
      "NO2_3v6     3.0  6.0\n",
      "GlobalWarm          \n",
      "1            28   16\n",
      "NO2_3v6     3.0  6.0\n",
      "GlobalWarm          \n",
      "1           1.0  1.0\n",
      "chi-square value, p value, expected counts\n",
      "(0.0, 1.0, 0, array([[ 28.,  16.]]))\n"
     ]
    }
   ],
   "source": [
    "recode_3v6 = {3: 3, 6: 6}\n",
    "data4['NO2_3v6']= data4['NO2Cat'].map(recode_3v6)\n",
    "\n",
    "# contingency table of observed counts\n",
    "table_3v6=pd.crosstab(data4['GlobalWarm'], data4['NO2_3v6'])\n",
    "print (table_3v6)\n",
    "\n",
    "# column percentages\n",
    "colsum=table_3v6.sum(axis=0)\n",
    "colpct=table_3v6/colsum\n",
    "print(colpct)\n",
    "\n",
    "print ('chi-square value, p value, expected counts')\n",
    "cs_3v6= scipy.stats.chi2_contingency(table_3v6)\n",
    "print (cs_3v6)"
   ]
  },
  {
   "cell_type": "code",
   "execution_count": 228,
   "metadata": {
    "collapsed": false
   },
   "outputs": [
    {
     "name": "stdout",
     "output_type": "stream",
     "text": [
      "NO2_3v7     3.0  7.0\n",
      "GlobalWarm          \n",
      "1            28  191\n",
      "NO2_3v7     3.0  7.0\n",
      "GlobalWarm          \n",
      "1           1.0  1.0\n",
      "chi-square value, p value, expected counts\n",
      "(0.0, 1.0, 0, array([[  28.,  191.]]))\n"
     ]
    }
   ],
   "source": [
    "recode_3v7 = {3: 3, 7: 7}\n",
    "data4['NO2_3v7']= data4['NO2Cat'].map(recode_3v7)\n",
    "\n",
    "# contingency table of observed counts\n",
    "table_3v7=pd.crosstab(data4['GlobalWarm'], data4['NO2_3v7'])\n",
    "print (table_3v7)\n",
    "\n",
    "# column percentages\n",
    "colsum=table_3v7.sum(axis=0)\n",
    "colpct=table_3v7/colsum\n",
    "print(colpct)\n",
    "\n",
    "print ('chi-square value, p value, expected counts')\n",
    "cs_3v7= scipy.stats.chi2_contingency(table_3v7)\n",
    "print (cs_3v7)"
   ]
  },
  {
   "cell_type": "code",
   "execution_count": 229,
   "metadata": {
    "collapsed": false
   },
   "outputs": [
    {
     "name": "stdout",
     "output_type": "stream",
     "text": [
      "NO2_4v5     4.0  5.0\n",
      "GlobalWarm          \n",
      "1           120   36\n",
      "NO2_4v5     4.0  5.0\n",
      "GlobalWarm          \n",
      "1           1.0  1.0\n",
      "chi-square value, p value, expected counts\n",
      "(0.0, 1.0, 0, array([[ 120.,   36.]]))\n"
     ]
    }
   ],
   "source": [
    "recode_4v5 = {4: 4, 5: 5}\n",
    "data4['NO2_4v5']= data4['NO2Cat'].map(recode_4v5)\n",
    "\n",
    "# contingency table of observed counts\n",
    "table_4v5=pd.crosstab(data4['GlobalWarm'], data4['NO2_4v5'])\n",
    "print (table_4v5)\n",
    "\n",
    "# column percentages\n",
    "colsum=table_4v5.sum(axis=0)\n",
    "colpct=table_4v5/colsum\n",
    "print(colpct)\n",
    "\n",
    "print ('chi-square value, p value, expected counts')\n",
    "cs_4v5= scipy.stats.chi2_contingency(table_4v5)\n",
    "print (cs_4v5)"
   ]
  },
  {
   "cell_type": "code",
   "execution_count": 231,
   "metadata": {
    "collapsed": false
   },
   "outputs": [
    {
     "name": "stdout",
     "output_type": "stream",
     "text": [
      "NO2_4v6     4.0  6.0\n",
      "GlobalWarm          \n",
      "1           120   16\n",
      "NO2_4v6     4.0  6.0\n",
      "GlobalWarm          \n",
      "1           1.0  1.0\n",
      "chi-square value, p value, expected counts\n",
      "(0.0, 1.0, 0, array([[ 120.,   16.]]))\n"
     ]
    }
   ],
   "source": [
    "recode_4v6 = {4: 4, 6: 6}\n",
    "data4['NO2_4v6']= data4['NO2Cat'].map(recode_4v6)\n",
    "\n",
    "# contingency table of observed counts\n",
    "table_4v6=pd.crosstab(data4['GlobalWarm'], data4['NO2_4v6'])\n",
    "print (table_4v6)\n",
    "\n",
    "# column percentages\n",
    "colsum=table_4v6.sum(axis=0)\n",
    "colpct=table_4v6/colsum\n",
    "print(colpct)\n",
    "\n",
    "print ('chi-square value, p value, expected counts')\n",
    "cs_4v6= scipy.stats.chi2_contingency(table_4v6)\n",
    "print (cs_4v6)"
   ]
  },
  {
   "cell_type": "code",
   "execution_count": 232,
   "metadata": {
    "collapsed": false
   },
   "outputs": [
    {
     "name": "stdout",
     "output_type": "stream",
     "text": [
      "NO2_4v7     4.0  7.0\n",
      "GlobalWarm          \n",
      "1           120  191\n",
      "NO2_4v7     4.0  7.0\n",
      "GlobalWarm          \n",
      "1           1.0  1.0\n",
      "chi-square value, p value, expected counts\n",
      "(0.0, 1.0, 0, array([[ 120.,  191.]]))\n"
     ]
    }
   ],
   "source": [
    "recode_4v7 = {4: 4, 7: 7}\n",
    "data4['NO2_4v7']= data4['NO2Cat'].map(recode_4v7)\n",
    "\n",
    "# contingency table of observed counts\n",
    "table_4v7=pd.crosstab(data4['GlobalWarm'], data4['NO2_4v7'])\n",
    "print (table_4v7)\n",
    "\n",
    "# column percentages\n",
    "colsum=table_4v7.sum(axis=0)\n",
    "colpct=table_4v7/colsum\n",
    "print(colpct)\n",
    "\n",
    "print ('chi-square value, p value, expected counts')\n",
    "cs_4v7= scipy.stats.chi2_contingency(table_4v7)\n",
    "print (cs_4v7)"
   ]
  },
  {
   "cell_type": "code",
   "execution_count": 234,
   "metadata": {
    "collapsed": false
   },
   "outputs": [
    {
     "name": "stdout",
     "output_type": "stream",
     "text": [
      "NO2_5v6     5.0  6.0\n",
      "GlobalWarm          \n",
      "1            36   16\n",
      "NO2_5v6     5.0  6.0\n",
      "GlobalWarm          \n",
      "1           1.0  1.0\n",
      "chi-square value, p value, expected counts\n",
      "(0.0, 1.0, 0, array([[ 36.,  16.]]))\n"
     ]
    }
   ],
   "source": [
    "recode_5v6 = {5: 5, 6: 6}\n",
    "data4['NO2_5v6']= data4['NO2Cat'].map(recode_5v6)\n",
    "\n",
    "# contingency table of observed counts\n",
    "table_5v6=pd.crosstab(data4['GlobalWarm'], data4['NO2_5v6'])\n",
    "print (table_5v6)\n",
    "\n",
    "# column percentages\n",
    "colsum=table_5v6.sum(axis=0)\n",
    "colpct=table_5v6/colsum\n",
    "print(colpct)\n",
    "\n",
    "print ('chi-square value, p value, expected counts')\n",
    "cs_5v6= scipy.stats.chi2_contingency(table_5v6)\n",
    "print (cs_5v6)"
   ]
  },
  {
   "cell_type": "code",
   "execution_count": 236,
   "metadata": {
    "collapsed": false
   },
   "outputs": [
    {
     "name": "stdout",
     "output_type": "stream",
     "text": [
      "NO2_5v7     5.0  7.0\n",
      "GlobalWarm          \n",
      "1            36  191\n",
      "NO2_5v7     5.0  7.0\n",
      "GlobalWarm          \n",
      "1           1.0  1.0\n",
      "chi-square value, p value, expected counts\n",
      "(0.0, 1.0, 0, array([[  36.,  191.]]))\n"
     ]
    }
   ],
   "source": [
    "recode_5v7 = {5: 5, 7: 7}\n",
    "data4['NO2_5v7']= data4['NO2Cat'].map(recode_5v7)\n",
    "\n",
    "# contingency table of observed counts\n",
    "table_5v7=pd.crosstab(data4['GlobalWarm'], data4['NO2_5v7'])\n",
    "print (table_5v7)\n",
    "\n",
    "# column percentages\n",
    "colsum=table_5v7.sum(axis=0)\n",
    "colpct=table_5v7/colsum\n",
    "print(colpct)\n",
    "\n",
    "print ('chi-square value, p value, expected counts')\n",
    "cs_5v7= scipy.stats.chi2_contingency(table_5v7)\n",
    "print (cs_5v7)"
   ]
  },
  {
   "cell_type": "code",
   "execution_count": 237,
   "metadata": {
    "collapsed": false
   },
   "outputs": [
    {
     "name": "stdout",
     "output_type": "stream",
     "text": [
      "NO2_6v7     6.0  7.0\n",
      "GlobalWarm          \n",
      "1            16  191\n",
      "NO2_6v7     6.0  7.0\n",
      "GlobalWarm          \n",
      "1           1.0  1.0\n",
      "chi-square value, p value, expected counts\n",
      "(0.0, 1.0, 0, array([[  16.,  191.]]))\n"
     ]
    }
   ],
   "source": [
    "recode_6v7 = {6: 6, 7: 7}\n",
    "data4['NO2_6v7']= data4['NO2Cat'].map(recode_6v7)\n",
    "\n",
    "# contingency table of observed counts\n",
    "table_6v7=pd.crosstab(data4['GlobalWarm'], data4['NO2_6v7'])\n",
    "print (table_6v7)\n",
    "\n",
    "# column percentages\n",
    "colsum=table_6v7.sum(axis=0)\n",
    "colpct=table_6v7/colsum\n",
    "print(colpct)\n",
    "\n",
    "print ('chi-square value, p value, expected counts')\n",
    "cs_6v7= scipy.stats.chi2_contingency(table_6v7)\n",
    "print (cs_6v7)"
   ]
  },
  {
   "cell_type": "code",
   "execution_count": null,
   "metadata": {
    "collapsed": true
   },
   "outputs": [],
   "source": []
  }
 ],
 "metadata": {
  "kernelspec": {
   "display_name": "Python 3",
   "language": "python",
   "name": "python3"
  },
  "language_info": {
   "codemirror_mode": {
    "name": "ipython",
    "version": 3
   },
   "file_extension": ".py",
   "mimetype": "text/x-python",
   "name": "python",
   "nbconvert_exporter": "python",
   "pygments_lexer": "ipython3",
   "version": "3.5.1"
  }
 },
 "nbformat": 4,
 "nbformat_minor": 0
}
