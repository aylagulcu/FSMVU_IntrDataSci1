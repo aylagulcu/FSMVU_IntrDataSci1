{
 "cells": [
  {
   "cell_type": "code",
   "execution_count": 98,
   "metadata": {
    "collapsed": true
   },
   "outputs": [],
   "source": [
    "import pandas as pd # pandas will be referred to as pd below\n",
    "import numpy as np\n",
    "import matplotlib.pyplot as plt\n",
    "import seaborn as sns\n",
    "%matplotlib inline\n",
    "import warnings\n",
    "warnings.filterwarnings('ignore')"
   ]
  },
  {
   "cell_type": "markdown",
   "metadata": {},
   "source": [
    "## Load files: Data comes from single csv file: \"Turkey Student Evaluation Data Set\".\n",
    "\n",
    "##### Attribute Information:\n",
    "\n",
    "- instr: Instructor's identifier; values taken from {1,2,3} \n",
    "- class: Course code (descriptor); values taken from {1-13} \n",
    "- repeat: Number of times the student is taking this course; values taken from {0,1,2,3,...}\n",
    "- attendance: Code of the level of attendance; values from {0, 1, 2, 3, 4} \n",
    "- difficulty: Level of difficulty of the course as perceived by the student; values taken from {1,2,3,4,5} \n",
    "- Q1: The semester course content, teaching method and evaluation system were provided at the start. \n",
    "- Q2: The course aims and objectives were clearly stated at the beginning of the period. \n",
    "- Q3: The course was worth the amount of credit assigned to it. \n",
    "- Q4: The course was taught according to the syllabus announced on the first day of class. \n",
    "- Q5:\tThe class discussions, homework assignments, applications and studies were satisfactory. \n",
    "- Q6: The textbook and other courses resources were sufficient and up to date.\t\n",
    "- Q7: The course allowed field work, applications, laboratory, discussion and other studies. \n",
    "- Q8: The quizzes, assignments, projects and exams contributed to helping the learning.\t\n",
    "- Q9: I greatly enjoyed the class and was eager to actively participate during the lectures. \n",
    "- Q10: My initial expectations about the course were met at the end of the period or year. \n",
    "- Q11: The course was relevant and beneficial to my professional development. \n",
    "- Q12: The course helped me look at life and the world with a new perspective. \n",
    "- Q13: The Instructor's knowledge was relevant and up to date. \n",
    "- Q14: The Instructor came prepared for classes. \n",
    "- Q15: The Instructor taught in accordance with the announced lesson plan. \n",
    "- Q16: The Instructor was committed to the course and was understandable. \n",
    "- Q17: The Instructor arrived on time for classes. \n",
    "- Q18: The Instructor has a smooth and easy to follow delivery/speech. \n",
    "- Q19: The Instructor made effective use of class hours. \n",
    "- Q20: The Instructor explained the course and was eager to be helpful to students. \n",
    "- Q21: The Instructor demonstrated a positive approach to students. \n",
    "- Q22: The Instructor was open and respectful of the views of students about the course. \n",
    "- Q23: The Instructor encouraged participation in the course. \n",
    "- Q24: The Instructor gave relevant homework assignments/projects, and helped/guided students. \n",
    "- Q25: The Instructor responded to questions about the course inside and outside of the course. \n",
    "- Q26: The Instructor's evaluation system (midterm and final questions, projects, assignments, etc.) effectively measured the course objectives. \n",
    "- Q27: The Instructor provided solutions to exams and discussed them with students. \n",
    "- Q28: The Instructor treated all students in a right and objective manner. \n",
    "\n",
    "All questions values are taken from {1,2,3,4,5}"
   ]
  },
  {
   "cell_type": "code",
   "execution_count": 99,
   "metadata": {
    "collapsed": false
   },
   "outputs": [
    {
     "data": {
      "text/plain": [
       "Index(['instr', 'class', 'nb.repeat', 'attendance', 'difficulty', 'Q1', 'Q2',\n",
       "       'Q3', 'Q4', 'Q5', 'Q6', 'Q7', 'Q8', 'Q9', 'Q10', 'Q11', 'Q12', 'Q13',\n",
       "       'Q14', 'Q15', 'Q16', 'Q17', 'Q18', 'Q19', 'Q20', 'Q21', 'Q22', 'Q23',\n",
       "       'Q24', 'Q25', 'Q26', 'Q27', 'Q28'],\n",
       "      dtype='object')"
      ]
     },
     "execution_count": 99,
     "metadata": {},
     "output_type": "execute_result"
    }
   ],
   "source": [
    "# Reading from csv file and showing 33 different columns attributes.\n",
    "data_TurkeyStudentEvaluation = pd.read_csv('turkey-student-evaluation_generic.csv')\n",
    "data_TurkeyStudentEvaluation.columns"
   ]
  },
  {
   "cell_type": "code",
   "execution_count": 100,
   "metadata": {
    "collapsed": false
   },
   "outputs": [
    {
     "data": {
      "text/html": [
       "<div>\n",
       "<table border=\"1\" class=\"dataframe\">\n",
       "  <thead>\n",
       "    <tr style=\"text-align: right;\">\n",
       "      <th></th>\n",
       "      <th>instr</th>\n",
       "      <th>class</th>\n",
       "      <th>nb.repeat</th>\n",
       "      <th>attendance</th>\n",
       "      <th>difficulty</th>\n",
       "      <th>Q1</th>\n",
       "      <th>Q2</th>\n",
       "      <th>Q3</th>\n",
       "      <th>Q4</th>\n",
       "      <th>Q5</th>\n",
       "      <th>...</th>\n",
       "      <th>Q19</th>\n",
       "      <th>Q20</th>\n",
       "      <th>Q21</th>\n",
       "      <th>Q22</th>\n",
       "      <th>Q23</th>\n",
       "      <th>Q24</th>\n",
       "      <th>Q25</th>\n",
       "      <th>Q26</th>\n",
       "      <th>Q27</th>\n",
       "      <th>Q28</th>\n",
       "    </tr>\n",
       "  </thead>\n",
       "  <tbody>\n",
       "    <tr>\n",
       "      <th>count</th>\n",
       "      <td>5820.000000</td>\n",
       "      <td>5820.000000</td>\n",
       "      <td>5820.000000</td>\n",
       "      <td>5820.000000</td>\n",
       "      <td>5820.000000</td>\n",
       "      <td>5820.000000</td>\n",
       "      <td>5820.000000</td>\n",
       "      <td>5820.000000</td>\n",
       "      <td>5820.000000</td>\n",
       "      <td>5820.000000</td>\n",
       "      <td>...</td>\n",
       "      <td>5820.000000</td>\n",
       "      <td>5820.000000</td>\n",
       "      <td>5820.000000</td>\n",
       "      <td>5820.000000</td>\n",
       "      <td>5820.00000</td>\n",
       "      <td>5820.000000</td>\n",
       "      <td>5820.000000</td>\n",
       "      <td>5820.000000</td>\n",
       "      <td>5820.000000</td>\n",
       "      <td>5820.000000</td>\n",
       "    </tr>\n",
       "    <tr>\n",
       "      <th>mean</th>\n",
       "      <td>2.485567</td>\n",
       "      <td>7.276289</td>\n",
       "      <td>1.214089</td>\n",
       "      <td>1.675601</td>\n",
       "      <td>2.783505</td>\n",
       "      <td>2.929897</td>\n",
       "      <td>3.073883</td>\n",
       "      <td>3.178694</td>\n",
       "      <td>3.082474</td>\n",
       "      <td>3.105842</td>\n",
       "      <td>...</td>\n",
       "      <td>3.261684</td>\n",
       "      <td>3.285395</td>\n",
       "      <td>3.307388</td>\n",
       "      <td>3.317526</td>\n",
       "      <td>3.20189</td>\n",
       "      <td>3.166838</td>\n",
       "      <td>3.312543</td>\n",
       "      <td>3.222165</td>\n",
       "      <td>3.154811</td>\n",
       "      <td>3.308076</td>\n",
       "    </tr>\n",
       "    <tr>\n",
       "      <th>std</th>\n",
       "      <td>0.718473</td>\n",
       "      <td>3.688175</td>\n",
       "      <td>0.532376</td>\n",
       "      <td>1.474975</td>\n",
       "      <td>1.348987</td>\n",
       "      <td>1.341077</td>\n",
       "      <td>1.285251</td>\n",
       "      <td>1.253567</td>\n",
       "      <td>1.284594</td>\n",
       "      <td>1.278989</td>\n",
       "      <td>...</td>\n",
       "      <td>1.268442</td>\n",
       "      <td>1.276848</td>\n",
       "      <td>1.269974</td>\n",
       "      <td>1.268358</td>\n",
       "      <td>1.27259</td>\n",
       "      <td>1.275909</td>\n",
       "      <td>1.257286</td>\n",
       "      <td>1.270695</td>\n",
       "      <td>1.291872</td>\n",
       "      <td>1.278709</td>\n",
       "    </tr>\n",
       "    <tr>\n",
       "      <th>min</th>\n",
       "      <td>1.000000</td>\n",
       "      <td>1.000000</td>\n",
       "      <td>1.000000</td>\n",
       "      <td>0.000000</td>\n",
       "      <td>1.000000</td>\n",
       "      <td>1.000000</td>\n",
       "      <td>1.000000</td>\n",
       "      <td>1.000000</td>\n",
       "      <td>1.000000</td>\n",
       "      <td>1.000000</td>\n",
       "      <td>...</td>\n",
       "      <td>1.000000</td>\n",
       "      <td>1.000000</td>\n",
       "      <td>1.000000</td>\n",
       "      <td>1.000000</td>\n",
       "      <td>1.00000</td>\n",
       "      <td>1.000000</td>\n",
       "      <td>1.000000</td>\n",
       "      <td>1.000000</td>\n",
       "      <td>1.000000</td>\n",
       "      <td>1.000000</td>\n",
       "    </tr>\n",
       "    <tr>\n",
       "      <th>25%</th>\n",
       "      <td>2.000000</td>\n",
       "      <td>4.000000</td>\n",
       "      <td>1.000000</td>\n",
       "      <td>0.000000</td>\n",
       "      <td>1.000000</td>\n",
       "      <td>2.000000</td>\n",
       "      <td>2.000000</td>\n",
       "      <td>2.000000</td>\n",
       "      <td>2.000000</td>\n",
       "      <td>2.000000</td>\n",
       "      <td>...</td>\n",
       "      <td>3.000000</td>\n",
       "      <td>3.000000</td>\n",
       "      <td>3.000000</td>\n",
       "      <td>3.000000</td>\n",
       "      <td>2.00000</td>\n",
       "      <td>2.000000</td>\n",
       "      <td>3.000000</td>\n",
       "      <td>2.000000</td>\n",
       "      <td>2.000000</td>\n",
       "      <td>3.000000</td>\n",
       "    </tr>\n",
       "    <tr>\n",
       "      <th>50%</th>\n",
       "      <td>3.000000</td>\n",
       "      <td>7.000000</td>\n",
       "      <td>1.000000</td>\n",
       "      <td>1.000000</td>\n",
       "      <td>3.000000</td>\n",
       "      <td>3.000000</td>\n",
       "      <td>3.000000</td>\n",
       "      <td>3.000000</td>\n",
       "      <td>3.000000</td>\n",
       "      <td>3.000000</td>\n",
       "      <td>...</td>\n",
       "      <td>3.000000</td>\n",
       "      <td>3.000000</td>\n",
       "      <td>3.000000</td>\n",
       "      <td>3.000000</td>\n",
       "      <td>3.00000</td>\n",
       "      <td>3.000000</td>\n",
       "      <td>3.000000</td>\n",
       "      <td>3.000000</td>\n",
       "      <td>3.000000</td>\n",
       "      <td>3.000000</td>\n",
       "    </tr>\n",
       "    <tr>\n",
       "      <th>75%</th>\n",
       "      <td>3.000000</td>\n",
       "      <td>10.000000</td>\n",
       "      <td>1.000000</td>\n",
       "      <td>3.000000</td>\n",
       "      <td>4.000000</td>\n",
       "      <td>4.000000</td>\n",
       "      <td>4.000000</td>\n",
       "      <td>4.000000</td>\n",
       "      <td>4.000000</td>\n",
       "      <td>4.000000</td>\n",
       "      <td>...</td>\n",
       "      <td>4.000000</td>\n",
       "      <td>4.000000</td>\n",
       "      <td>4.000000</td>\n",
       "      <td>4.000000</td>\n",
       "      <td>4.00000</td>\n",
       "      <td>4.000000</td>\n",
       "      <td>4.000000</td>\n",
       "      <td>4.000000</td>\n",
       "      <td>4.000000</td>\n",
       "      <td>4.000000</td>\n",
       "    </tr>\n",
       "    <tr>\n",
       "      <th>max</th>\n",
       "      <td>3.000000</td>\n",
       "      <td>13.000000</td>\n",
       "      <td>3.000000</td>\n",
       "      <td>4.000000</td>\n",
       "      <td>5.000000</td>\n",
       "      <td>5.000000</td>\n",
       "      <td>5.000000</td>\n",
       "      <td>5.000000</td>\n",
       "      <td>5.000000</td>\n",
       "      <td>5.000000</td>\n",
       "      <td>...</td>\n",
       "      <td>5.000000</td>\n",
       "      <td>5.000000</td>\n",
       "      <td>5.000000</td>\n",
       "      <td>5.000000</td>\n",
       "      <td>5.00000</td>\n",
       "      <td>5.000000</td>\n",
       "      <td>5.000000</td>\n",
       "      <td>5.000000</td>\n",
       "      <td>5.000000</td>\n",
       "      <td>5.000000</td>\n",
       "    </tr>\n",
       "  </tbody>\n",
       "</table>\n",
       "<p>8 rows × 33 columns</p>\n",
       "</div>"
      ],
      "text/plain": [
       "             instr        class    nb.repeat   attendance   difficulty  \\\n",
       "count  5820.000000  5820.000000  5820.000000  5820.000000  5820.000000   \n",
       "mean      2.485567     7.276289     1.214089     1.675601     2.783505   \n",
       "std       0.718473     3.688175     0.532376     1.474975     1.348987   \n",
       "min       1.000000     1.000000     1.000000     0.000000     1.000000   \n",
       "25%       2.000000     4.000000     1.000000     0.000000     1.000000   \n",
       "50%       3.000000     7.000000     1.000000     1.000000     3.000000   \n",
       "75%       3.000000    10.000000     1.000000     3.000000     4.000000   \n",
       "max       3.000000    13.000000     3.000000     4.000000     5.000000   \n",
       "\n",
       "                Q1           Q2           Q3           Q4           Q5  \\\n",
       "count  5820.000000  5820.000000  5820.000000  5820.000000  5820.000000   \n",
       "mean      2.929897     3.073883     3.178694     3.082474     3.105842   \n",
       "std       1.341077     1.285251     1.253567     1.284594     1.278989   \n",
       "min       1.000000     1.000000     1.000000     1.000000     1.000000   \n",
       "25%       2.000000     2.000000     2.000000     2.000000     2.000000   \n",
       "50%       3.000000     3.000000     3.000000     3.000000     3.000000   \n",
       "75%       4.000000     4.000000     4.000000     4.000000     4.000000   \n",
       "max       5.000000     5.000000     5.000000     5.000000     5.000000   \n",
       "\n",
       "          ...               Q19          Q20          Q21          Q22  \\\n",
       "count     ...       5820.000000  5820.000000  5820.000000  5820.000000   \n",
       "mean      ...          3.261684     3.285395     3.307388     3.317526   \n",
       "std       ...          1.268442     1.276848     1.269974     1.268358   \n",
       "min       ...          1.000000     1.000000     1.000000     1.000000   \n",
       "25%       ...          3.000000     3.000000     3.000000     3.000000   \n",
       "50%       ...          3.000000     3.000000     3.000000     3.000000   \n",
       "75%       ...          4.000000     4.000000     4.000000     4.000000   \n",
       "max       ...          5.000000     5.000000     5.000000     5.000000   \n",
       "\n",
       "              Q23          Q24          Q25          Q26          Q27  \\\n",
       "count  5820.00000  5820.000000  5820.000000  5820.000000  5820.000000   \n",
       "mean      3.20189     3.166838     3.312543     3.222165     3.154811   \n",
       "std       1.27259     1.275909     1.257286     1.270695     1.291872   \n",
       "min       1.00000     1.000000     1.000000     1.000000     1.000000   \n",
       "25%       2.00000     2.000000     3.000000     2.000000     2.000000   \n",
       "50%       3.00000     3.000000     3.000000     3.000000     3.000000   \n",
       "75%       4.00000     4.000000     4.000000     4.000000     4.000000   \n",
       "max       5.00000     5.000000     5.000000     5.000000     5.000000   \n",
       "\n",
       "               Q28  \n",
       "count  5820.000000  \n",
       "mean      3.308076  \n",
       "std       1.278709  \n",
       "min       1.000000  \n",
       "25%       3.000000  \n",
       "50%       3.000000  \n",
       "75%       4.000000  \n",
       "max       5.000000  \n",
       "\n",
       "[8 rows x 33 columns]"
      ]
     },
     "execution_count": 100,
     "metadata": {},
     "output_type": "execute_result"
    }
   ],
   "source": [
    "#Describing my data set. 8 rows and 33 columns.\n",
    "data_TurkeyStudentEvaluation.describe()"
   ]
  },
  {
   "cell_type": "code",
   "execution_count": 101,
   "metadata": {
    "collapsed": false
   },
   "outputs": [
    {
     "data": {
      "text/html": [
       "<div>\n",
       "<table border=\"1\" class=\"dataframe\">\n",
       "  <thead>\n",
       "    <tr style=\"text-align: right;\">\n",
       "      <th></th>\n",
       "      <th>attendance</th>\n",
       "      <th>difficulty</th>\n",
       "      <th>nb.repeat</th>\n",
       "    </tr>\n",
       "  </thead>\n",
       "  <tbody>\n",
       "    <tr>\n",
       "      <th>0</th>\n",
       "      <td>0</td>\n",
       "      <td>4</td>\n",
       "      <td>1</td>\n",
       "    </tr>\n",
       "    <tr>\n",
       "      <th>1</th>\n",
       "      <td>1</td>\n",
       "      <td>3</td>\n",
       "      <td>1</td>\n",
       "    </tr>\n",
       "    <tr>\n",
       "      <th>2</th>\n",
       "      <td>2</td>\n",
       "      <td>4</td>\n",
       "      <td>1</td>\n",
       "    </tr>\n",
       "    <tr>\n",
       "      <th>3</th>\n",
       "      <td>1</td>\n",
       "      <td>3</td>\n",
       "      <td>1</td>\n",
       "    </tr>\n",
       "    <tr>\n",
       "      <th>4</th>\n",
       "      <td>0</td>\n",
       "      <td>1</td>\n",
       "      <td>1</td>\n",
       "    </tr>\n",
       "    <tr>\n",
       "      <th>5</th>\n",
       "      <td>3</td>\n",
       "      <td>3</td>\n",
       "      <td>1</td>\n",
       "    </tr>\n",
       "    <tr>\n",
       "      <th>6</th>\n",
       "      <td>1</td>\n",
       "      <td>3</td>\n",
       "      <td>1</td>\n",
       "    </tr>\n",
       "  </tbody>\n",
       "</table>\n",
       "</div>"
      ],
      "text/plain": [
       "   attendance  difficulty  nb.repeat\n",
       "0           0           4          1\n",
       "1           1           3          1\n",
       "2           2           4          1\n",
       "3           1           3          1\n",
       "4           0           1          1\n",
       "5           3           3          1\n",
       "6           1           3          1"
      ]
     },
     "execution_count": 101,
     "metadata": {},
     "output_type": "execute_result"
    }
   ],
   "source": [
    "#Selecting attendance, difficulty and course repeat columns.\n",
    "data_TurkeyStudentEvaluation[['attendance','difficulty','nb.repeat']][:7]"
   ]
  },
  {
   "cell_type": "code",
   "execution_count": 102,
   "metadata": {
    "collapsed": false
   },
   "outputs": [
    {
     "name": "stdout",
     "output_type": "stream",
     "text": [
      "Turkey Student Evaluation original length: 5820\n",
      "Turkey Student Evaluation\" new length: 5820\n"
     ]
    }
   ],
   "source": [
    "# If we have, removing missing values.  \n",
    "# dropna():dropped DataFrame\n",
    "print('Turkey Student Evaluation original length: '+ str(len(data_TurkeyStudentEvaluation)))\n",
    "data_TurkeyStudentEvaluation_NoMissing = data_TurkeyStudentEvaluation.dropna() \n",
    "\n",
    "# default drop method: if all values are NA, drop that label\n",
    "print('Turkey Student Evaluation\" new length: '+ str(len(data_TurkeyStudentEvaluation_NoMissing)))"
   ]
  },
  {
   "cell_type": "code",
   "execution_count": 103,
   "metadata": {
    "collapsed": false,
    "scrolled": true
   },
   "outputs": [
    {
     "data": {
      "text/plain": [
       "instr          3\n",
       "class         13\n",
       "nb.repeat      3\n",
       "attendance     4\n",
       "difficulty     5\n",
       "Q1             5\n",
       "Q2             5\n",
       "Q3             5\n",
       "Q4             5\n",
       "Q5             5\n",
       "Q6             5\n",
       "Q7             5\n",
       "Q8             5\n",
       "Q9             5\n",
       "Q10            5\n",
       "Q11            5\n",
       "Q12            5\n",
       "Q13            5\n",
       "Q14            5\n",
       "Q15            5\n",
       "Q16            5\n",
       "Q17            5\n",
       "Q18            5\n",
       "Q19            5\n",
       "Q20            5\n",
       "Q21            5\n",
       "Q22            5\n",
       "Q23            5\n",
       "Q24            5\n",
       "Q25            5\n",
       "Q26            5\n",
       "Q27            5\n",
       "Q28            5\n",
       "dtype: int64"
      ]
     },
     "execution_count": 103,
     "metadata": {},
     "output_type": "execute_result"
    }
   ],
   "source": [
    "# A student gave lecturer3 for all questions and the person's attendance level is 4 within 5.\n",
    "# Also, the student 3 times repeated and thinking the course is very difficult. (Difficulty level: 4/5)\n",
    "data_TurkeyStudentEvaluation_NoMissing.max()"
   ]
  },
  {
   "cell_type": "code",
   "execution_count": 104,
   "metadata": {
    "collapsed": false,
    "scrolled": true
   },
   "outputs": [
    {
     "data": {
      "text/plain": [
       "instr         1\n",
       "class         1\n",
       "nb.repeat     1\n",
       "attendance    0\n",
       "difficulty    1\n",
       "Q1            1\n",
       "Q2            1\n",
       "Q3            1\n",
       "Q4            1\n",
       "Q5            1\n",
       "Q6            1\n",
       "Q7            1\n",
       "Q8            1\n",
       "Q9            1\n",
       "Q10           1\n",
       "Q11           1\n",
       "Q12           1\n",
       "Q13           1\n",
       "Q14           1\n",
       "Q15           1\n",
       "Q16           1\n",
       "Q17           1\n",
       "Q18           1\n",
       "Q19           1\n",
       "Q20           1\n",
       "Q21           1\n",
       "Q22           1\n",
       "Q23           1\n",
       "Q24           1\n",
       "Q25           1\n",
       "Q26           1\n",
       "Q27           1\n",
       "Q28           1\n",
       "dtype: int64"
      ]
     },
     "execution_count": 104,
     "metadata": {},
     "output_type": "execute_result"
    }
   ],
   "source": [
    "# The student never been any lesson and thinking about lecture1's lesson is very easy (1/5)\n",
    "# Only one time got the course and passed successfully in first time.\n",
    "data_TurkeyStudentEvaluation_NoMissing.min()"
   ]
  },
  {
   "cell_type": "code",
   "execution_count": 105,
   "metadata": {
    "collapsed": false
   },
   "outputs": [
    {
     "data": {
      "text/plain": [
       "instr         3\n",
       "class         7\n",
       "nb.repeat     1\n",
       "attendance    1\n",
       "difficulty    3\n",
       "Q1            3\n",
       "Q2            3\n",
       "Q3            3\n",
       "Q4            3\n",
       "Q5            3\n",
       "Q6            3\n",
       "Q7            3\n",
       "Q8            3\n",
       "Q9            3\n",
       "Q10           3\n",
       "Q11           3\n",
       "Q12           3\n",
       "Q13           3\n",
       "Q14           3\n",
       "Q15           3\n",
       "Q16           3\n",
       "Q17           4\n",
       "Q18           3\n",
       "Q19           3\n",
       "Q20           3\n",
       "Q21           3\n",
       "Q22           3\n",
       "Q23           3\n",
       "Q24           3\n",
       "Q25           3\n",
       "Q26           3\n",
       "Q27           3\n",
       "Q28           3\n",
       "dtype: float64"
      ]
     },
     "execution_count": 105,
     "metadata": {},
     "output_type": "execute_result"
    }
   ],
   "source": [
    "# Median results: The student's attendance is low and thinking the course is difficult (3/5)[Difficulty level].\n",
    "# Furthermore, passed the course in first time.\n",
    "data_TurkeyStudentEvaluation_NoMissing.median()"
   ]
  },
  {
   "cell_type": "code",
   "execution_count": 106,
   "metadata": {
    "collapsed": false
   },
   "outputs": [],
   "source": [
    "# About the indexes:\n",
    "data_TurkeyStudentEvaluation_NoMissing.index # The index does not start from zero!\n",
    "# data_GDP_NoMissing.iloc[0] # by index position\n",
    "# data_GDP_NoMissing.loc[0] # by index label (error if such a label does not exist)\n",
    "\n",
    "data_TurkeyStudentEvaluation_NoMissing.index = range(len(data_TurkeyStudentEvaluation_NoMissing))\n",
    "data_TurkeyStudentEvaluation_NoMissing.index\n",
    "data = data_TurkeyStudentEvaluation_NoMissing"
   ]
  },
  {
   "cell_type": "code",
   "execution_count": 107,
   "metadata": {
    "collapsed": true
   },
   "outputs": [],
   "source": [
    "#pd.to_numeric\n",
    "data['InstructorsValue']= pd.to_numeric(data['instr'])\n",
    "data['Class']= pd.to_numeric(data['class'])\n",
    "data['CourceRepeatedNumber']= pd.to_numeric(data['nb.repeat'])\n",
    "data['Attendance']= pd.to_numeric(data['attendance'])\n",
    "data['Difficulty']= pd.to_numeric(data['difficulty'])\n",
    "data['Class']= pd.to_numeric(data['class'])"
   ]
  },
  {
   "cell_type": "markdown",
   "metadata": {},
   "source": [
    "# \"Course Difficulty Group\" Frequency distributions of counts and percentages\n"
   ]
  },
  {
   "cell_type": "code",
   "execution_count": 108,
   "metadata": {
    "collapsed": false
   },
   "outputs": [
    {
     "name": "stdout",
     "output_type": "stream",
     "text": [
      "Difficulty Data Length: 5820\n",
      "Difficulty Group Data Length: 5820\n"
     ]
    }
   ],
   "source": [
    "# In order to create Difficulty groups, we need to generate partitions. \n",
    "# Below, we call the \"cut \" method. The first cut is [0.5,5]\n",
    "data['DifficultyGroup'] = pd.cut(data.Difficulty, [0.5, 1, 1.5, 2, 2.5, 3, 3.5, 4, 4.5, 5]) \n",
    "\n",
    "print(\"Difficulty Data Length:\",len(data))\n",
    "print(\"Difficulty Group Data Length:\",len(data['DifficultyGroup']))"
   ]
  },
  {
   "cell_type": "markdown",
   "metadata": {},
   "source": [
    "Frequency distributions of counts and percentages for the Difficulty Group...\n"
   ]
  },
  {
   "cell_type": "code",
   "execution_count": 109,
   "metadata": {
    "collapsed": false
   },
   "outputs": [
    {
     "data": {
      "text/plain": [
       "count         5820\n",
       "unique           5\n",
       "top       (2.5, 3]\n",
       "freq          1774\n",
       "Name: DifficultyGroup, dtype: object"
      ]
     },
     "execution_count": 109,
     "metadata": {},
     "output_type": "execute_result"
    }
   ],
   "source": [
    "data['DifficultyGroup'] = data['DifficultyGroup'].astype('category')\n",
    "data['DifficultyGroup'].describe()\n",
    "# \"DifficultyGroup\" column keeps a categorial variable (not quantitative):\n",
    "# astype() method: Cast object to input numpy.dtype"
   ]
  },
  {
   "cell_type": "code",
   "execution_count": 110,
   "metadata": {
    "collapsed": false,
    "scrolled": true
   },
   "outputs": [
    {
     "name": "stdout",
     "output_type": "stream",
     "text": [
      "(0.5, 1]    0.278351\n",
      "(1, 1.5]    0.000000\n",
      "(1.5, 2]    0.094330\n",
      "(2, 2.5]    0.000000\n",
      "(2.5, 3]    0.304811\n",
      "(3, 3.5]    0.000000\n",
      "(3.5, 4]    0.210481\n",
      "(4, 4.5]    0.000000\n",
      "(4.5, 5]    0.112027\n",
      "dtype: float64\n"
     ]
    }
   ],
   "source": [
    "DifficultyGroupP = data['DifficultyGroup'].value_counts(sort= False, normalize= True) \n",
    "\n",
    "print(DifficultyGroupP)"
   ]
  },
  {
   "cell_type": "markdown",
   "metadata": {},
   "source": [
    "# Attendance Group Frequency distributions of counts and percentages\n"
   ]
  },
  {
   "cell_type": "markdown",
   "metadata": {},
   "source": [
    "Frequency distributions for the Attendance Group..."
   ]
  },
  {
   "cell_type": "code",
   "execution_count": 111,
   "metadata": {
    "collapsed": false
   },
   "outputs": [
    {
     "name": "stdout",
     "output_type": "stream",
     "text": [
      "Attendance data length: 5820\n",
      "AttandanceGroup data length: 5820\n"
     ]
    }
   ],
   "source": [
    "# In order to create Difficulty groups, we need to generate partitions. \n",
    "# Below, we call the \"cut \" method. Note that the first cut is (1,5]\n",
    "data['AttendanceGroup']= pd.cut(data.Attendance, [1,2,3,4,5]) \n",
    "\n",
    "print(\"Attendance data length:\",len(data))\n",
    "print(\"AttandanceGroup data length:\",len(data['AttendanceGroup']))"
   ]
  },
  {
   "cell_type": "code",
   "execution_count": 112,
   "metadata": {
    "collapsed": false
   },
   "outputs": [
    {
     "data": {
      "text/plain": [
       "count       2890\n",
       "unique         3\n",
       "top       (2, 3]\n",
       "freq        1252\n",
       "Name: AttendanceGroup, dtype: object"
      ]
     },
     "execution_count": 112,
     "metadata": {},
     "output_type": "execute_result"
    }
   ],
   "source": [
    "data['AttendanceGroup']= data['AttendanceGroup'].astype('category')\n",
    "data['AttendanceGroup'].describe()"
   ]
  },
  {
   "cell_type": "code",
   "execution_count": 113,
   "metadata": {
    "collapsed": false
   },
   "outputs": [
    {
     "name": "stdout",
     "output_type": "stream",
     "text": [
      "(1, 2]    0.136082\n",
      "(2, 3]    0.215120\n",
      "(3, 4]    0.145361\n",
      "(4, 5]    0.000000\n",
      "dtype: float64\n"
     ]
    }
   ],
   "source": [
    "AttendanceGroupP = data['AttendanceGroup'].value_counts(sort= False, normalize= True) \n",
    "# value_counts() should make more sense now\n",
    "print(AttendanceGroupP)"
   ]
  },
  {
   "cell_type": "code",
   "execution_count": 114,
   "metadata": {
    "collapsed": false
   },
   "outputs": [],
   "source": [
    "data['InstructorsValue']= pd.to_numeric(data['instr'])\n",
    "data['Class']= pd.to_numeric(data['class'])\n",
    "data['CourceRepeatedNumber']= pd.to_numeric(data['nb.repeat'])\n",
    "data['Attendance']= pd.to_numeric(data['attendance'])\n",
    "data['Difficulty']= pd.to_numeric(data['difficulty'])\n",
    "data['Class']= pd.to_numeric(data['class'])"
   ]
  },
  {
   "cell_type": "markdown",
   "metadata": {},
   "source": [
    "# Univariate bar graph \"Course Difficulty\"  "
   ]
  },
  {
   "cell_type": "code",
   "execution_count": 115,
   "metadata": {
    "collapsed": false
   },
   "outputs": [
    {
     "data": {
      "image/png": "[encoded data removed]",
      "text/plain": [
       "<matplotlib.figure.Figure at 0x11daa8358>"
      ]
     },
     "metadata": {},
     "output_type": "display_data"
    }
   ],
   "source": [
    "import seaborn\n",
    "seaborn.countplot(x = 'DifficultyGroup', data = data)\n",
    "plt.xlabel('Difficulty categories (0.5 to 5)')\n",
    "plt.title('Counts of rows for each Difficulty level')\n",
    "plt.show()"
   ]
  },
  {
   "cell_type": "markdown",
   "metadata": {},
   "source": [
    "# Univariate bar graph \"Course Attendance\"  "
   ]
  },
  {
   "cell_type": "code",
   "execution_count": 116,
   "metadata": {
    "collapsed": false
   },
   "outputs": [
    {
     "data": {
      "image/png": "[encoded data removed]",
      "text/plain": [
       "<matplotlib.figure.Figure at 0x11dc06f28>"
      ]
     },
     "metadata": {},
     "output_type": "display_data"
    }
   ],
   "source": [
    "seaborn.countplot(x = 'AttendanceGroup', data = data)\n",
    "plt.xlabel('Attendance categories (1-5)')\n",
    "plt.title('Counts of rows for each attendance')\n",
    "plt.show()"
   ]
  },
  {
   "cell_type": "markdown",
   "metadata": {},
   "source": [
    "# Univariate bar graph \"Course Repeated time\"  "
   ]
  },
  {
   "cell_type": "code",
   "execution_count": 117,
   "metadata": {
    "collapsed": false
   },
   "outputs": [
    {
     "data": {
      "image/png": "[encoded data removed]",
      "text/plain": [
       "<matplotlib.figure.Figure at 0x11dccc9b0>"
      ]
     },
     "metadata": {},
     "output_type": "display_data"
    }
   ],
   "source": [
    "seaborn.countplot(x = 'nb.repeat', data = data)\n",
    "plt.xlabel('Repeated time (1-3)')\n",
    "plt.title('Courses repeated levels')\n",
    "plt.show()"
   ]
  },
  {
   "cell_type": "code",
   "execution_count": 118,
   "metadata": {
    "collapsed": false
   },
   "outputs": [
    {
     "data": {
      "image/png": "[encoded data removed]",
      "text/plain": [
       "<matplotlib.figure.Figure at 0x11cc1a748>"
      ]
     },
     "metadata": {},
     "output_type": "display_data"
    }
   ],
   "source": [
    "seaborn.factorplot(x = 'nb.repeat', data = data)\n",
    "plt.xlabel('Repeated time (1-3)')\n",
    "plt.title('Courses repeated levels')\n",
    "plt.show()"
   ]
  },
  {
   "cell_type": "code",
   "execution_count": 119,
   "metadata": {
    "collapsed": false
   },
   "outputs": [
    {
     "data": {
      "text/plain": [
       "<matplotlib.text.Text at 0x11c7e0978>"
      ]
     },
     "execution_count": 119,
     "metadata": {},
     "output_type": "execute_result"
    },
    {
     "data": {
      "image/png": "[encoded data removed]",
      "text/plain": [
       "<matplotlib.figure.Figure at 0x11dce4550>"
      ]
     },
     "metadata": {},
     "output_type": "display_data"
    }
   ],
   "source": [
    "seaborn.distplot(data['Difficulty'].dropna(), kde= False)\n",
    "plt.xlabel('Difficulty quantitative values)')\n",
    "plt.title('Counts of rows for courses')"
   ]
  },
  {
   "cell_type": "markdown",
   "metadata": {},
   "source": [
    "# Drawing Bivariate plot relations between Attendance and Difficulty"
   ]
  },
  {
   "cell_type": "code",
   "execution_count": 120,
   "metadata": {
    "collapsed": false
   },
   "outputs": [],
   "source": [
    "data2 = data[data['Attendance'] <= 5]"
   ]
  },
  {
   "cell_type": "code",
   "execution_count": 121,
   "metadata": {
    "collapsed": false
   },
   "outputs": [
    {
     "data": {
      "text/plain": [
       "<matplotlib.axes._subplots.AxesSubplot at 0x11cfebe48>"
      ]
     },
     "execution_count": 121,
     "metadata": {},
     "output_type": "execute_result"
    },
    {
     "data": {
      "image/png": "[encoded data removed]",
      "text/plain": [
       "<matplotlib.figure.Figure at 0x11cb2aa20>"
      ]
     },
     "metadata": {},
     "output_type": "display_data"
    }
   ],
   "source": [
    "# Someone who is thinking the course is difficult which is more attendance then other students.\n",
    "seaborn.regplot(x= \"Difficulty\", y= \"Attendance\", fit_reg= True, data = data2)"
   ]
  },
  {
   "cell_type": "markdown",
   "metadata": {},
   "source": [
    "# Drawing Bivariate plot relations between Course Repeat and Difficulty"
   ]
  },
  {
   "cell_type": "code",
   "execution_count": 122,
   "metadata": {
    "collapsed": false
   },
   "outputs": [
    {
     "data": {
      "text/plain": [
       "<matplotlib.axes._subplots.AxesSubplot at 0x11cdd7080>"
      ]
     },
     "execution_count": 122,
     "metadata": {},
     "output_type": "execute_result"
    },
    {
     "data": {
      "image/png": "[encoded data removed]",
      "text/plain": [
       "<matplotlib.figure.Figure at 0x11dcd36d8>"
      ]
     },
     "metadata": {},
     "output_type": "display_data"
    }
   ],
   "source": [
    "# If students think the course is more difficult, finally failing rate or repeating rate is increasing!\n",
    "seaborn.regplot(x= \"Difficulty\", y= \"nb.repeat\", fit_reg= True, data = data2)"
   ]
  },
  {
   "cell_type": "markdown",
   "metadata": {},
   "source": [
    "# Drawing Bivariate plot relations between Attendance and Course Repeat"
   ]
  },
  {
   "cell_type": "code",
   "execution_count": 123,
   "metadata": {
    "collapsed": false
   },
   "outputs": [
    {
     "data": {
      "text/plain": [
       "<matplotlib.text.Text at 0x11afca208>"
      ]
     },
     "execution_count": 123,
     "metadata": {},
     "output_type": "execute_result"
    },
    {
     "data": {
      "image/png": "[encoded data removed]",
      "text/plain": [
       "<matplotlib.figure.Figure at 0x11afdb940>"
      ]
     },
     "metadata": {},
     "output_type": "display_data"
    }
   ],
   "source": [
    "# If students continues to class attendance, Course Repeat decreasing!\n",
    "seaborn.regplot(x= \"Attendance\", y= \"nb.repeat\", fit_reg= True, data = data2)\n",
    "plt.ylabel(\"Repeated\")"
   ]
  },
  {
   "cell_type": "markdown",
   "metadata": {
    "collapsed": true
   },
   "source": [
    "If any student continue to participate in the course, succeeds! Also, course repeated will be reduced!"
   ]
  },
  {
   "cell_type": "markdown",
   "metadata": {},
   "source": [
    "# Midterm 2"
   ]
  },
  {
   "cell_type": "code",
   "execution_count": 124,
   "metadata": {
    "collapsed": false
   },
   "outputs": [],
   "source": [
    "import statsmodels.formula.api as smf\n",
    "import statsmodels.stats.multicomp as multi "
   ]
  },
  {
   "cell_type": "code",
   "execution_count": 125,
   "metadata": {
    "collapsed": false
   },
   "outputs": [
    {
     "name": "stdout",
     "output_type": "stream",
     "text": [
      "      Attendance  Difficulty  nb.repeat\n",
      "0              0           4          1\n",
      "1              1           3          1\n",
      "2              2           4          1\n",
      "3              1           3          1\n",
      "4              0           1          1\n",
      "5              3           3          1\n",
      "6              1           3          1\n",
      "7              1           3          1\n",
      "8              1           3          1\n",
      "9              4           4          1\n",
      "10             3           4          1\n",
      "11             3           3          1\n",
      "12             2           3          1\n",
      "13             1           2          1\n",
      "14             2           3          1\n",
      "15             3           4          1\n",
      "16             3           4          1\n",
      "17             1           2          1\n",
      "18             1           4          1\n",
      "19             2           3          1\n",
      "20             2           4          1\n",
      "21             2           1          1\n",
      "22             3           3          1\n",
      "23             2           4          1\n",
      "24             1           3          1\n",
      "25             0           2          1\n",
      "26             1           2          1\n",
      "27             2           4          1\n",
      "28             3           2          1\n",
      "29             3           3          1\n",
      "...          ...         ...        ...\n",
      "5790           4           3          1\n",
      "5791           1           2          1\n",
      "5792           3           3          2\n",
      "5793           4           5          2\n",
      "5794           0           3          2\n",
      "5795           0           1          1\n",
      "5796           1           2          1\n",
      "5797           1           2          1\n",
      "5798           1           4          1\n",
      "5799           0           1          1\n",
      "5800           3           2          2\n",
      "5801           3           3          1\n",
      "5802           0           1          1\n",
      "5803           3           5          1\n",
      "5804           4           3          1\n",
      "5805           1           2          2\n",
      "5806           0           3          2\n",
      "5807           2           3          1\n",
      "5808           3           3          1\n",
      "5809           0           3          1\n",
      "5810           1           3          1\n",
      "5811           4           4          1\n",
      "5812           0           1          1\n",
      "5813           3           4          2\n",
      "5814           2           4          1\n",
      "5815           0           1          1\n",
      "5816           3           4          1\n",
      "5817           0           4          1\n",
      "5818           1           2          1\n",
      "5819           1           2          1\n",
      "\n",
      "[5820 rows x 3 columns]\n"
     ]
    }
   ],
   "source": [
    "data3= data2[['Attendance', 'Difficulty','nb.repeat']]\n",
    "print(data3)"
   ]
  },
  {
   "cell_type": "markdown",
   "metadata": {},
   "source": [
    "# ANOVA"
   ]
  },
  {
   "cell_type": "code",
   "execution_count": 126,
   "metadata": {
    "collapsed": false
   },
   "outputs": [],
   "source": [
    "model1= smf.ols(formula='Difficulty ~ C(Attendance)', data=data3)\n",
    "# statsmodels.formula.api as smf\n",
    "# ols: ordinary least squares regression\n",
    "# first response var, and then explanatory variable. Note that C stands for the Categorical variable."
   ]
  },
  {
   "cell_type": "code",
   "execution_count": 127,
   "metadata": {
    "collapsed": true
   },
   "outputs": [],
   "source": [
    "results= model1.fit()"
   ]
  },
  {
   "cell_type": "code",
   "execution_count": 128,
   "metadata": {
    "collapsed": false
   },
   "outputs": [
    {
     "name": "stdout",
     "output_type": "stream",
     "text": [
      "                            OLS Regression Results                            \n",
      "==============================================================================\n",
      "Dep. Variable:             Difficulty   R-squared:                       0.278\n",
      "Model:                            OLS   Adj. R-squared:                  0.277\n",
      "Method:                 Least Squares   F-statistic:                     559.6\n",
      "Date:                Thu, 12 May 2016   Prob (F-statistic):               0.00\n",
      "Time:                        10:28:47   Log-Likelihood:                -9052.3\n",
      "No. Observations:                5820   AIC:                         1.811e+04\n",
      "Df Residuals:                    5815   BIC:                         1.815e+04\n",
      "Df Model:                           4                                         \n",
      "Covariance Type:            nonrobust                                         \n",
      "======================================================================================\n",
      "                         coef    std err          t      P>|t|      [95.0% Conf. Int.]\n",
      "--------------------------------------------------------------------------------------\n",
      "Intercept              1.7655      0.026     67.148      0.000         1.714     1.817\n",
      "C(Attendance)[T.1]     1.4115      0.044     31.799      0.000         1.325     1.499\n",
      "C(Attendance)[T.2]     1.5161      0.048     31.264      0.000         1.421     1.611\n",
      "C(Attendance)[T.3]     1.5652      0.042     37.505      0.000         1.483     1.647\n",
      "C(Attendance)[T.4]     1.5525      0.047     32.761      0.000         1.460     1.645\n",
      "==============================================================================\n",
      "Omnibus:                      200.772   Durbin-Watson:                   1.757\n",
      "Prob(Omnibus):                  0.000   Jarque-Bera (JB):              221.261\n",
      "Skew:                           0.468   Prob(JB):                     8.99e-49\n",
      "Kurtosis:                       3.193   Cond. No.                         4.81\n",
      "==============================================================================\n",
      "\n",
      "Warnings:\n",
      "[1] Standard Errors assume that the covariance matrix of the errors is correctly specified.\n"
     ]
    }
   ],
   "source": [
    "print(results.summary())"
   ]
  },
  {
   "cell_type": "markdown",
   "metadata": {},
   "source": [
    "# POST - HOC"
   ]
  },
  {
   "cell_type": "code",
   "execution_count": 142,
   "metadata": {
    "collapsed": false
   },
   "outputs": [
    {
     "name": "stdout",
     "output_type": "stream",
     "text": [
      "Multiple Comparison of Means - Tukey HSD,FWER=0.05\n",
      "============================================\n",
      "group1 group2 meandiff  lower  upper  reject\n",
      "--------------------------------------------\n",
      "  0      1     1.4115   1.2904 1.5327  True \n",
      "  0      2     1.5161   1.3837 1.6484  True \n",
      "  0      3     1.5652   1.4513 1.679   True \n",
      "  0      4     1.5525   1.4232 1.6818  True \n",
      "  1      2     0.1045  -0.0434 0.2525 False \n",
      "  1      3     0.1536   0.0219 0.2853  True \n",
      "  1      4     0.1409  -0.0043 0.2862 False \n",
      "  2      3     0.0491   -0.093 0.1912 False \n",
      "  2      4     0.0364  -0.1183 0.1911 False \n",
      "  3      4    -0.0127   -0.152 0.1265 False \n",
      "--------------------------------------------\n"
     ]
    }
   ],
   "source": [
    "mc1 = multi.MultiComparison(data3['Difficulty'], data3['Attendance'],)\n",
    "res1 = mc1.tukeyhsd()\n",
    "print(res1.summary())\n",
    "# Null hipotez fark yok, reject True => Fark var.\n",
    "# reject False => Fark yok!"
   ]
  },
  {
   "cell_type": "code",
   "execution_count": 143,
   "metadata": {
    "collapsed": false
   },
   "outputs": [
    {
     "data": {
      "image/png": "[encoded data removed]",
      "text/plain": [
       "<matplotlib.figure.Figure at 0x11f91e6a0>"
      ]
     },
     "metadata": {},
     "output_type": "display_data"
    }
   ],
   "source": [
    "sns.jointplot(x=\"Attendance\", y=\"Difficulty\", data = data3, kind=\"kde\");"
   ]
  },
  {
   "cell_type": "code",
   "execution_count": 150,
   "metadata": {
    "collapsed": false
   },
   "outputs": [
    {
     "data": {
      "image/png": "[encoded data removed]",
      "text/plain": [
       "<matplotlib.figure.Figure at 0x11eb24630>"
      ]
     },
     "metadata": {},
     "output_type": "display_data"
    }
   ],
   "source": [
    "sns.jointplot(x=\"Attendance\", y=\"nb.repeat\", data=data3);\n"
   ]
  },
  {
   "cell_type": "code",
   "execution_count": 155,
   "metadata": {
    "collapsed": false
   },
   "outputs": [
    {
     "data": {
      "image/png": "[encoded data removed]",
      "text/plain": [
       "<matplotlib.figure.Figure at 0x11cb1b0f0>"
      ]
     },
     "metadata": {},
     "output_type": "display_data"
    }
   ],
   "source": [
    "sns.set(style=\"ticks\")\n",
    "sns.boxplot(x=\"Attendance\", y=\"Difficulty\", hue=\"Attendance\", data=data3, palette=\"PRGn\")\n",
    "sns.despine(offset=30, trim=True)"
   ]
  },
  {
   "cell_type": "code",
   "execution_count": 156,
   "metadata": {
    "collapsed": false
   },
   "outputs": [
    {
     "data": {
      "image/png": "[encoded data removed]",
      "text/plain": [
       "<matplotlib.figure.Figure at 0x11afe9518>"
      ]
     },
     "metadata": {},
     "output_type": "display_data"
    }
   ],
   "source": [
    "sns.set(style=\"darkgrid\", color_codes=True)\n",
    "\n",
    "g = sns.jointplot(\"Attendance\", \"Difficulty\", data=data3, kind=\"reg\",\n",
    "                  xlim=(0, 60), ylim=(0, 12), color=\"r\", size=7)"
   ]
  },
  {
   "cell_type": "code",
   "execution_count": 157,
   "metadata": {
    "collapsed": false
   },
   "outputs": [
    {
     "data": {
      "image/png": "[encoded data removed]",
      "text/plain": [
       "<matplotlib.figure.Figure at 0x11c704c18>"
      ]
     },
     "metadata": {},
     "output_type": "display_data"
    }
   ],
   "source": [
    "sns.set(style=\"darkgrid\", color_codes=True)\n",
    "\n",
    "g = sns.jointplot(\"Attendance\", \"nb.repeat\", data=data3, kind=\"reg\",\n",
    "                  xlim=(0, 60), ylim=(0, 12), color=\"r\", size=7)"
   ]
  },
  {
   "cell_type": "code",
   "execution_count": 160,
   "metadata": {
    "collapsed": false
   },
   "outputs": [],
   "source": [
    "# g = sns.pairplot(data3[[\"Difficulty\", \"Attendance\", \"nb.repeat\"]], hue=\"Attendance\", diag_kind=\"hist\")  \n",
    "# for ax in g.axes.flat:  \n",
    "#    plt.setp(ax.get_xticklabels(), rotation=45)"
   ]
  },
  {
   "cell_type": "code",
   "execution_count": 137,
   "metadata": {
    "collapsed": false
   },
   "outputs": [
    {
     "data": {
      "text/plain": [
       "<seaborn.axisgrid.JointGrid at 0x11cdb2b38>"
      ]
     },
     "execution_count": 137,
     "metadata": {},
     "output_type": "execute_result"
    },
    {
     "data": {
      "image/png": "[encoded data removed]",
      "text/plain": [
       "<matplotlib.figure.Figure at 0x11efb8d30>"
      ]
     },
     "metadata": {},
     "output_type": "display_data"
    }
   ],
   "source": [
    "g = sns.JointGrid(x=\"Difficulty\", y=\"Attendance\", data=data3)  \n",
    "g.plot_joint(sns.regplot, order=2)  \n",
    "g.plot_marginals(sns.distplot)  "
   ]
  },
  {
   "cell_type": "code",
   "execution_count": 179,
   "metadata": {
    "collapsed": false
   },
   "outputs": [
    {
     "data": {
      "text/plain": [
       "<seaborn.axisgrid.JointGrid at 0x11c7aae10>"
      ]
     },
     "execution_count": 179,
     "metadata": {},
     "output_type": "execute_result"
    },
    {
     "data": {
      "image/png": "[encoded data removed]",
      "text/plain": [
       "<matplotlib.figure.Figure at 0x11c7aad30>"
      ]
     },
     "metadata": {},
     "output_type": "display_data"
    }
   ],
   "source": [
    "g = sns.JointGrid(x=\"nb.repeat\", y=\"Attendance\", data=data3)  \n",
    "g.plot_joint(sns.regplot, order=2)  \n",
    "g.plot_marginals(sns.distplot) "
   ]
  },
  {
   "cell_type": "code",
   "execution_count": 138,
   "metadata": {
    "collapsed": true
   },
   "outputs": [],
   "source": [
    "import seaborn as sns"
   ]
  },
  {
   "cell_type": "code",
   "execution_count": 176,
   "metadata": {
    "collapsed": false
   },
   "outputs": [
    {
     "data": {
      "image/png": "[encoded data removed]",
      "text/plain": [
       "<matplotlib.figure.Figure at 0x11dc21cc0>"
      ]
     },
     "metadata": {},
     "output_type": "display_data"
    }
   ],
   "source": [
    "ax = sns.barplot(x=\"Attendance\", y=\"Difficulty\", hue=\"nb.repeat\", data=data3)"
   ]
  },
  {
   "cell_type": "code",
   "execution_count": 178,
   "metadata": {
    "collapsed": false
   },
   "outputs": [
    {
     "data": {
      "image/png": "[encoded data removed]",
      "text/plain": [
       "<matplotlib.figure.Figure at 0x11f519898>"
      ]
     },
     "metadata": {},
     "output_type": "display_data"
    }
   ],
   "source": [
    "ax = sns.barplot(\"Attendance\", y=\"Difficulty\", data=data3,palette=\"Blues_d\")"
   ]
  },
  {
   "cell_type": "code",
   "execution_count": 173,
   "metadata": {
    "collapsed": false
   },
   "outputs": [
    {
     "data": {
      "image/png": "[encoded data removed]",
      "text/plain": [
       "<matplotlib.figure.Figure at 0x11f114a20>"
      ]
     },
     "metadata": {},
     "output_type": "display_data"
    }
   ],
   "source": [
    "ax = sns.barplot(x = \"Difficulty\", y=\"nb.repeat\", data=data3,color=\"salmon\", saturation=.5)"
   ]
  },
  {
   "cell_type": "code",
   "execution_count": null,
   "metadata": {
    "collapsed": true
   },
   "outputs": [],
   "source": []
  }
 ],
 "metadata": {
  "kernelspec": {
   "display_name": "Python 3",
   "language": "python",
   "name": "python3"
  },
  "language_info": {
   "codemirror_mode": {
    "name": "ipython",
    "version": 3
   },
   "file_extension": ".py",
   "mimetype": "text/x-python",
   "name": "python",
   "nbconvert_exporter": "python",
   "pygments_lexer": "ipython3",
   "version": "3.5.1"
  }
 },
 "nbformat": 4,
 "nbformat_minor": 0
}
