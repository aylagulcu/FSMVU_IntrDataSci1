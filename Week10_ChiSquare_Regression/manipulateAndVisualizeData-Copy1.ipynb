{
 "cells": [
  {
   "cell_type": "code",
   "execution_count": 1,
   "metadata": {
    "collapsed": false
   },
   "outputs": [
    {
     "name": "stderr",
     "output_type": "stream",
     "text": [
      "/home/ayla/anaconda3/lib/python3.5/site-packages/pandas/computation/__init__.py:19: UserWarning: The installed version of numexpr 2.4.4 is not supported in pandas and will be not be used\n",
      "\n",
      "  UserWarning)\n"
     ]
    }
   ],
   "source": [
    "import pandas as pd # pandas will be referred to as pd below\n",
    "import numpy\n",
    "import matplotlib.pyplot as plt\n",
    "import seaborn\n",
    "%matplotlib inline \n",
    "import warnings\n",
    "warnings.filterwarnings('ignore')"
   ]
  },
  {
   "cell_type": "markdown",
   "metadata": {},
   "source": [
    "Load files: Data comes from two different csv files: one for GDP data and one for Mortality Rate."
   ]
  },
  {
   "cell_type": "markdown",
   "metadata": {},
   "source": [
    "GDP Data..."
   ]
  },
  {
   "cell_type": "code",
   "execution_count": 2,
   "metadata": {
    "collapsed": false
   },
   "outputs": [
    {
     "data": {
      "text/plain": [
       "Index(['Area', 'Year', 'GDP'], dtype='object')"
      ]
     },
     "execution_count": 2,
     "metadata": {},
     "output_type": "execute_result"
    }
   ],
   "source": [
    "data_GDP= pd.read_csv('GDP.csv')\n",
    "data_GDP.columns"
   ]
  },
  {
   "cell_type": "code",
   "execution_count": 3,
   "metadata": {
    "collapsed": false
   },
   "outputs": [
    {
     "data": {
      "text/plain": [
       "0    Abkhazia\n",
       "1    Abkhazia\n",
       "2    Abkhazia\n",
       "Name: Area, dtype: object"
      ]
     },
     "execution_count": 3,
     "metadata": {},
     "output_type": "execute_result"
    }
   ],
   "source": [
    "#Selecting columns:\n",
    "data_GDP['Area'].head(3)"
   ]
  },
  {
   "cell_type": "code",
   "execution_count": 4,
   "metadata": {
    "collapsed": false
   },
   "outputs": [
    {
     "data": {
      "text/html": [
       "<div>\n",
       "<table border=\"1\" class=\"dataframe\">\n",
       "  <thead>\n",
       "    <tr style=\"text-align: right;\">\n",
       "      <th></th>\n",
       "      <th>Area</th>\n",
       "      <th>Year</th>\n",
       "      <th>GDP</th>\n",
       "    </tr>\n",
       "  </thead>\n",
       "  <tbody>\n",
       "    <tr>\n",
       "      <th>0</th>\n",
       "      <td>Abkhazia</td>\n",
       "      <td>2005</td>\n",
       "      <td>NaN</td>\n",
       "    </tr>\n",
       "    <tr>\n",
       "      <th>1</th>\n",
       "      <td>Abkhazia</td>\n",
       "      <td>2006</td>\n",
       "      <td>NaN</td>\n",
       "    </tr>\n",
       "    <tr>\n",
       "      <th>2</th>\n",
       "      <td>Abkhazia</td>\n",
       "      <td>2007</td>\n",
       "      <td>NaN</td>\n",
       "    </tr>\n",
       "    <tr>\n",
       "      <th>3</th>\n",
       "      <td>Abkhazia</td>\n",
       "      <td>2008</td>\n",
       "      <td>NaN</td>\n",
       "    </tr>\n",
       "    <tr>\n",
       "      <th>4</th>\n",
       "      <td>Abkhazia</td>\n",
       "      <td>2009</td>\n",
       "      <td>NaN</td>\n",
       "    </tr>\n",
       "  </tbody>\n",
       "</table>\n",
       "</div>"
      ],
      "text/plain": [
       "       Area  Year  GDP\n",
       "0  Abkhazia  2005  NaN\n",
       "1  Abkhazia  2006  NaN\n",
       "2  Abkhazia  2007  NaN\n",
       "3  Abkhazia  2008  NaN\n",
       "4  Abkhazia  2009  NaN"
      ]
     },
     "execution_count": 4,
     "metadata": {},
     "output_type": "execute_result"
    }
   ],
   "source": [
    "#Selecting rows:\n",
    "data_GDP[:5]"
   ]
  },
  {
   "cell_type": "code",
   "execution_count": 5,
   "metadata": {
    "collapsed": false
   },
   "outputs": [
    {
     "data": {
      "text/plain": [
       "0    Abkhazia\n",
       "1    Abkhazia\n",
       "2    Abkhazia\n",
       "3    Abkhazia\n",
       "4    Abkhazia\n",
       "Name: Area, dtype: object"
      ]
     },
     "execution_count": 5,
     "metadata": {},
     "output_type": "execute_result"
    }
   ],
   "source": [
    "#Selecting columns & rows:\n",
    "data_GDP['Area'][:5]"
   ]
  },
  {
   "cell_type": "code",
   "execution_count": 6,
   "metadata": {
    "collapsed": false
   },
   "outputs": [
    {
     "data": {
      "text/html": [
       "<div>\n",
       "<table border=\"1\" class=\"dataframe\">\n",
       "  <thead>\n",
       "    <tr style=\"text-align: right;\">\n",
       "      <th></th>\n",
       "      <th>Area</th>\n",
       "      <th>GDP</th>\n",
       "    </tr>\n",
       "  </thead>\n",
       "  <tbody>\n",
       "    <tr>\n",
       "      <th>0</th>\n",
       "      <td>Abkhazia</td>\n",
       "      <td>NaN</td>\n",
       "    </tr>\n",
       "    <tr>\n",
       "      <th>1</th>\n",
       "      <td>Abkhazia</td>\n",
       "      <td>NaN</td>\n",
       "    </tr>\n",
       "    <tr>\n",
       "      <th>2</th>\n",
       "      <td>Abkhazia</td>\n",
       "      <td>NaN</td>\n",
       "    </tr>\n",
       "    <tr>\n",
       "      <th>3</th>\n",
       "      <td>Abkhazia</td>\n",
       "      <td>NaN</td>\n",
       "    </tr>\n",
       "    <tr>\n",
       "      <th>4</th>\n",
       "      <td>Abkhazia</td>\n",
       "      <td>NaN</td>\n",
       "    </tr>\n",
       "  </tbody>\n",
       "</table>\n",
       "</div>"
      ],
      "text/plain": [
       "       Area  GDP\n",
       "0  Abkhazia  NaN\n",
       "1  Abkhazia  NaN\n",
       "2  Abkhazia  NaN\n",
       "3  Abkhazia  NaN\n",
       "4  Abkhazia  NaN"
      ]
     },
     "execution_count": 6,
     "metadata": {},
     "output_type": "execute_result"
    }
   ],
   "source": [
    "#Selecting multiple columns:\n",
    "data_GDP[['Area','GDP']][:5]"
   ]
  },
  {
   "cell_type": "code",
   "execution_count": 7,
   "metadata": {
    "collapsed": false
   },
   "outputs": [
    {
     "name": "stdout",
     "output_type": "stream",
     "text": [
      "GDP original length: 51917\n",
      "GDP new length: 48892\n"
     ]
    }
   ],
   "source": [
    "# Remove missing values: \n",
    "# dropna():dropped DataFrame\n",
    "print('GDP original length: '+ str(len(data_GDP)))\n",
    "data_GDP_NoMissing= data_GDP.dropna() \n",
    "\n",
    "# default drop method: if all values are NA, drop that label\n",
    "print('GDP new length: '+ str(len(data_GDP_NoMissing)))\n",
    "\n",
    "# OR, You can replace NA with a scalar value:\n",
    "# data_GDP= data_GDP.fillna(0)\n",
    "\n",
    "# You can use pd.isnull and pd.notnull to test for missing data (NaN)."
   ]
  },
  {
   "cell_type": "code",
   "execution_count": 8,
   "metadata": {
    "collapsed": false
   },
   "outputs": [
    {
     "data": {
      "text/plain": [
       "RangeIndex(start=0, stop=48892, step=1)"
      ]
     },
     "execution_count": 8,
     "metadata": {},
     "output_type": "execute_result"
    }
   ],
   "source": [
    "# be careful about the indexes:\n",
    "data_GDP_NoMissing.index # note that the index does not start from zero!\n",
    "# data_GDP_NoMissing.iloc[0] # by index position\n",
    "# data_GDP_NoMissing.loc[0] # by index label (error if such a label does not exist)\n",
    "# you can set the index as you like:\n",
    "\n",
    "data_GDP_NoMissing.index= range(len(data_GDP_NoMissing))\n",
    "data_GDP_NoMissing.index\n"
   ]
  },
  {
   "cell_type": "code",
   "execution_count": 9,
   "metadata": {
    "collapsed": true
   },
   "outputs": [],
   "source": [
    "# A note on numpy.nan: recode missing values to python missing (NaN)\n",
    "# sub2['S3AQ3B1']=sub2['S3AQ3B1'].replace(9, numpy.nan)"
   ]
  },
  {
   "cell_type": "markdown",
   "metadata": {},
   "source": [
    "MortalityRate Data..."
   ]
  },
  {
   "cell_type": "code",
   "execution_count": 10,
   "metadata": {
    "collapsed": false
   },
   "outputs": [
    {
     "name": "stdout",
     "output_type": "stream",
     "text": [
      "Index(['Area', 'Year', 'Under_five_mortality'], dtype='object')\n"
     ]
    }
   ],
   "source": [
    "data_MortalityRate= pd.read_csv('MortalityRate.csv')\n",
    "print(data_MortalityRate.columns)"
   ]
  },
  {
   "cell_type": "code",
   "execution_count": 11,
   "metadata": {
    "collapsed": false
   },
   "outputs": [
    {
     "name": "stdout",
     "output_type": "stream",
     "text": [
      "Mortality rate original length: 68643\n",
      "Mortality rate new length: 33500\n"
     ]
    }
   ],
   "source": [
    "print('Mortality rate original length: '+ str(len(data_MortalityRate)))\n",
    "\n",
    "data_MortalityRate_NoMissing= data_MortalityRate.dropna()\n",
    "print('Mortality rate new length: '+ str(len(data_MortalityRate_NoMissing)))"
   ]
  },
  {
   "cell_type": "markdown",
   "metadata": {},
   "source": [
    "Merge two data frames:\n",
    "Inner joins yield a DataFrame that contains only rows where the value being joined (acc to column names) exists in BOTH tables. \n",
    "Now, data contains no empty rows"
   ]
  },
  {
   "cell_type": "code",
   "execution_count": 12,
   "metadata": {
    "collapsed": false
   },
   "outputs": [
    {
     "name": "stdout",
     "output_type": "stream",
     "text": [
      "          Area  Year      GDP  Under_five_mortality\n",
      "0  Afghanistan  1800  472.053                468.58\n",
      "1  Afghanistan  1801  472.053                468.58\n",
      "2  Afghanistan  1802  472.053                468.58\n",
      "3  Afghanistan  1803  472.053                468.58\n",
      "4  Afghanistan  1804  472.053                468.58\n"
     ]
    }
   ],
   "source": [
    "data = pd.merge(left= data_GDP_NoMissing, right= data_MortalityRate_NoMissing)\n",
    "print (data.head(5))"
   ]
  },
  {
   "cell_type": "code",
   "execution_count": 13,
   "metadata": {
    "collapsed": false
   },
   "outputs": [
    {
     "name": "stdout",
     "output_type": "stream",
     "text": [
      "Data length: 33447\n"
     ]
    }
   ],
   "source": [
    "print('Data length: '+ str(len(data)))"
   ]
  },
  {
   "cell_type": "code",
   "execution_count": 14,
   "metadata": {
    "collapsed": false
   },
   "outputs": [
    {
     "data": {
      "text/plain": [
       "Int64Index([    0,     1,     2,     3,     4,     5,     6,     7,     8,\n",
       "                9,\n",
       "            ...\n",
       "            33437, 33438, 33439, 33440, 33441, 33442, 33443, 33444, 33445,\n",
       "            33446],\n",
       "           dtype='int64', length=33447)"
      ]
     },
     "execution_count": 14,
     "metadata": {},
     "output_type": "execute_result"
    }
   ],
   "source": [
    "data.index"
   ]
  },
  {
   "cell_type": "code",
   "execution_count": 15,
   "metadata": {
    "collapsed": false
   },
   "outputs": [
    {
     "name": "stdout",
     "output_type": "stream",
     "text": [
      "       Area  Year  GDP  Under_five_mortality\n",
      "0  Abkhazia  2005  NaN                   NaN\n",
      "1  Abkhazia  2006  NaN                   NaN\n",
      "2  Abkhazia  2007  NaN                   NaN\n",
      "3  Abkhazia  2008  NaN                   NaN\n",
      "4  Abkhazia  2009  NaN                   NaN\n",
      "Lenghth of the original dataframe: 50617\n",
      "Lenghth of the new dataframe: 33447\n",
      "          Area  Year      GDP  Under_five_mortality\n",
      "0  Afghanistan  1800  472.053                468.58\n",
      "1  Afghanistan  1801  472.053                468.58\n",
      "2  Afghanistan  1802  472.053                468.58\n"
     ]
    },
    {
     "data": {
      "text/plain": [
       "RangeIndex(start=0, stop=33447, step=1)"
      ]
     },
     "execution_count": 15,
     "metadata": {},
     "output_type": "execute_result"
    }
   ],
   "source": [
    "# Alternatively, you could do dropna like below:\n",
    "data = pd.merge(left= data_GDP, right= data_MortalityRate)\n",
    "print (data.head(5))\n",
    "print('Lenghth of the original dataframe: '+str(len(data)))\n",
    "data= data.dropna(subset =['GDP','Under_five_mortality'], how='any')\n",
    "\n",
    "data= data.reset_index(drop=True) # not to save old index as a column\n",
    "print('Lenghth of the new dataframe: '+str(len(data)))\n",
    "print(data.head(3))\n",
    "data.index"
   ]
  },
  {
   "cell_type": "markdown",
   "metadata": {
    "collapsed": true
   },
   "source": [
    "Converts to numeric :lets python recognize these columns as numeric so that some numeric operations can be done"
   ]
  },
  {
   "cell_type": "code",
   "execution_count": 16,
   "metadata": {
    "collapsed": true
   },
   "outputs": [],
   "source": [
    "data['Year']= pd.to_numeric(data['Year'])\n",
    "data['GDP']= pd.to_numeric(data['GDP'])\n",
    "data['Under_five_mortality']= pd.to_numeric(data['Under_five_mortality'])"
   ]
  },
  {
   "cell_type": "markdown",
   "metadata": {},
   "source": [
    "Frequency distributions..."
   ]
  },
  {
   "cell_type": "markdown",
   "metadata": {},
   "source": [
    "For column: Area, Counts and Percentages"
   ]
  },
  {
   "cell_type": "code",
   "execution_count": 17,
   "metadata": {
    "collapsed": false
   },
   "outputs": [
    {
     "name": "stdout",
     "output_type": "stream",
     "text": [
      "Sweden         263\n",
      "Guinea         214\n",
      "Yemen, Rep.    214\n",
      "Afghanistan    209\n",
      "Zambia         207\n",
      "Name: Area, dtype: int64\n",
      "\n",
      "Sweden         0.007863\n",
      "Guinea         0.006398\n",
      "Yemen, Rep.    0.006398\n",
      "Afghanistan    0.006249\n",
      "Zambia         0.006189\n",
      "Name: Area, dtype: float64\n",
      "\n",
      "Number of Different Areas: 197\n",
      "Number of observations for the Area column:33447\n"
     ]
    }
   ],
   "source": [
    "# Which area has the highest number of records?\n",
    "countArea= data['Area'].value_counts(sort= True, ascending=False, dropna=False) # sort= True\n",
    "print(countArea.head(5))\n",
    "print()\n",
    "perArea= data['Area'].value_counts(sort= True, ascending=False, dropna=False, normalize=True)\n",
    "print(perArea.head(5))\n",
    "print()\n",
    "print ('Number of Different Areas: '+ str(len(countArea)))\n",
    "print ('Number of observations for the Area column:'+ str(len(data['Area'])))\n"
   ]
  },
  {
   "cell_type": "markdown",
   "metadata": {},
   "source": [
    "For column: Year, Counts and Percentages"
   ]
  },
  {
   "cell_type": "code",
   "execution_count": 18,
   "metadata": {
    "collapsed": false
   },
   "outputs": [
    {
     "name": "stdout",
     "output_type": "stream",
     "text": [
      "Year ranges from 1751 and to 2013\n",
      "1760      1\n",
      "1792      1\n",
      "1824    156\n",
      "1856    152\n",
      "1888    155\n",
      "Name: Year, dtype: int64\n",
      "1760    0.000030\n",
      "1792    0.000030\n",
      "1824    0.004664\n",
      "1856    0.004545\n",
      "1888    0.004634\n",
      "Name: Year, dtype: float64\n",
      "Number of Different Years: 263\n"
     ]
    }
   ],
   "source": [
    "print ('Year ranges from '+ str(data['Year'].min())+' and to '+ str(data['Year'].max()) )\n",
    "countYear= data['Year'].value_counts(sort= False, dropna=False)\n",
    "print(countYear.head(5))\n",
    "perYear= data['Year'].value_counts(sort= False, dropna=False, normalize=True)\n",
    "print(perYear.head(5))\n",
    "print ('Number of Different Years: '+ str(len(countYear)))"
   ]
  },
  {
   "cell_type": "markdown",
   "metadata": {},
   "source": [
    "For column: GDP, Counts and Percentages"
   ]
  },
  {
   "cell_type": "code",
   "execution_count": 19,
   "metadata": {
    "collapsed": false
   },
   "outputs": [
    {
     "name": "stdout",
     "output_type": "stream",
     "text": [
      "559.938     1\n",
      "681.206     1\n",
      "2583.565    1\n",
      "800.967     1\n",
      "1362.184    1\n",
      "Name: GDP, dtype: int64\n",
      "559.938     0.00003\n",
      "681.206     0.00003\n",
      "2583.565    0.00003\n",
      "800.967     0.00003\n",
      "1362.184    0.00003\n",
      "Name: GDP, dtype: float64\n",
      "Number of Different GDP values: 31117\n"
     ]
    }
   ],
   "source": [
    "countGDP= data['GDP'].value_counts(sort= False, dropna=False) \n",
    "# dropna=False  required, otherwise python does not show mising values\n",
    "\n",
    "print(countGDP.head(5))\n",
    "perGDP= data['GDP'].value_counts(sort= False, dropna=False, normalize=True)\n",
    "print(perGDP.head(5))\n",
    "print ('Number of Different GDP values: '+ str(len(countGDP)))"
   ]
  },
  {
   "cell_type": "markdown",
   "metadata": {},
   "source": [
    "For column: Under_five_mortality, Counts and Percentages"
   ]
  },
  {
   "cell_type": "code",
   "execution_count": 20,
   "metadata": {
    "collapsed": false,
    "scrolled": true
   },
   "outputs": [
    {
     "name": "stdout",
     "output_type": "stream",
     "text": [
      "2.5     1\n",
      "3.5     6\n",
      "4.0    19\n",
      "5.0    19\n",
      "6.5    19\n",
      "Name: Under_five_mortality, dtype: int64\n",
      "2.5    0.000030\n",
      "3.5    0.000179\n",
      "4.0    0.000568\n",
      "5.0    0.000568\n",
      "6.5    0.000568\n",
      "Name: Under_five_mortality, dtype: float64\n",
      "Number of Different mortality rates: 9094\n"
     ]
    }
   ],
   "source": [
    "countMortality= data['Under_five_mortality'].value_counts(sort= False, dropna=False)\n",
    "print(countMortality.head(5))\n",
    "perMortality= data['Under_five_mortality'].value_counts(sort= False, dropna=False, normalize=True)\n",
    "print(perMortality.head(5))\n",
    "print ('Number of Different mortality rates: '+ str(len(countMortality)))"
   ]
  },
  {
   "cell_type": "markdown",
   "metadata": {},
   "source": [
    "Manipulate data:\n",
    "Remove rows where either GDP or Under_five_mortality column is NaN: Should return the same dataframe, because above merge operation has already done this!"
   ]
  },
  {
   "cell_type": "code",
   "execution_count": 21,
   "metadata": {
    "collapsed": false
   },
   "outputs": [
    {
     "name": "stdout",
     "output_type": "stream",
     "text": [
      "Lenghth of the new dataframe: 33447\n"
     ]
    }
   ],
   "source": [
    "data= data.dropna(subset =['GDP','Under_five_mortality'], how='any')\n",
    "\n",
    "data= data.reset_index(drop=True) # not to save old index as a column\n",
    "print('Lenghth of the new dataframe: '+str(len(data)))"
   ]
  },
  {
   "cell_type": "markdown",
   "metadata": {},
   "source": [
    "# Now, Create GDP groups, describe and visualize data:"
   ]
  },
  {
   "cell_type": "code",
   "execution_count": 22,
   "metadata": {
    "collapsed": false
   },
   "outputs": [
    {
     "name": "stdout",
     "output_type": "stream",
     "text": [
      "GDP ranges from 281.909 and to 111654.831\n"
     ]
    },
    {
     "data": {
      "text/plain": [
       "count     33447.000000\n",
       "mean       3534.398243\n",
       "std        7017.823349\n",
       "min         281.909000\n",
       "25%         657.420000\n",
       "50%        1156.182000\n",
       "75%        2936.625000\n",
       "max      111654.831000\n",
       "Name: GDP, dtype: float64"
      ]
     },
     "execution_count": 22,
     "metadata": {},
     "output_type": "execute_result"
    }
   ],
   "source": [
    "print ('GDP ranges from '+ str(data['GDP'].min())+' and to '+ str(data['GDP'].max()) )\n",
    "data['GDP'].describe()"
   ]
  },
  {
   "cell_type": "code",
   "execution_count": 23,
   "metadata": {
    "collapsed": false
   },
   "outputs": [
    {
     "name": "stdout",
     "output_type": "stream",
     "text": [
      "33447\n",
      "33447\n"
     ]
    }
   ],
   "source": [
    "# GDP column keeps continuous quantitative variables.\n",
    "# In order to create GDP groups, we need to generate partitions. \n",
    "# Below, we call the \"cut \" method. Note that the first cut is (280, 1000]\n",
    "data['GDPGroup']= pd.cut(data.GDP, [280,1000,2000,5000,10000,50000,120000]) \n",
    "# no need to sort the data frame.\n",
    "\n",
    "print(len(data))\n",
    "print(len(data['GDPGroup']))\n"
   ]
  },
  {
   "cell_type": "markdown",
   "metadata": {},
   "source": [
    "Frequency distributions for the group..."
   ]
  },
  {
   "cell_type": "code",
   "execution_count": 24,
   "metadata": {
    "collapsed": false
   },
   "outputs": [
    {
     "data": {
      "text/plain": [
       "count           33447\n",
       "unique              6\n",
       "top       (280, 1000]\n",
       "freq            14885\n",
       "Name: GDPGroup, dtype: object"
      ]
     },
     "execution_count": 24,
     "metadata": {},
     "output_type": "execute_result"
    }
   ],
   "source": [
    "data['GDPGroup']= data['GDPGroup'].astype('category')\n",
    "data['GDPGroup'].describe()\n",
    "# \"GDPGroup\" column keeps a categorial variable (not quantitative):\n",
    "# astype() method: Cast object to input numpy.dtype"
   ]
  },
  {
   "cell_type": "code",
   "execution_count": 25,
   "metadata": {
    "collapsed": false
   },
   "outputs": [
    {
     "name": "stdout",
     "output_type": "stream",
     "text": [
      "(280, 1000]        0.445032\n",
      "(1000, 2000]       0.224086\n",
      "(2000, 5000]       0.167339\n",
      "(5000, 10000]      0.080874\n",
      "(10000, 50000]     0.079917\n",
      "(50000, 120000]    0.002751\n",
      "dtype: float64\n"
     ]
    }
   ],
   "source": [
    "GDPGroupP= data['GDPGroup'].value_counts(sort= False, normalize= True) \n",
    "# value_counts() should make more sense now\n",
    "print(GDPGroupP)"
   ]
  },
  {
   "cell_type": "code",
   "execution_count": 26,
   "metadata": {
    "collapsed": false
   },
   "outputs": [],
   "source": [
    "# print(pd.crosstab(data['GDPGroup'], data['GDP'])) \n",
    "# crosstab() method: shows which GDP valus were put into which GDP group"
   ]
  },
  {
   "cell_type": "markdown",
   "metadata": {},
   "source": [
    "## Univariate (related to only 1 variable) bar graph for categorical GDPGroup varaible:"
   ]
  },
  {
   "cell_type": "code",
   "execution_count": 27,
   "metadata": {
    "collapsed": false
   },
   "outputs": [
    {
     "data": {
      "image/png": "[encoded data removed]",
      "text/plain": [
       "<matplotlib.figure.Figure at 0x7f84b623e470>"
      ]
     },
     "metadata": {},
     "output_type": "display_data"
    }
   ],
   "source": [
    "seaborn.countplot(x= 'GDPGroup', data= data)\n",
    "plt.xlabel('GDP (per capita) categories)')\n",
    "plt.title('Counts of rows for each GDP')\n",
    "plt.show()"
   ]
  },
  {
   "cell_type": "markdown",
   "metadata": {},
   "source": [
    "Univariate histogram for quantitative GDP varaible:"
   ]
  },
  {
   "cell_type": "code",
   "execution_count": 28,
   "metadata": {
    "collapsed": false
   },
   "outputs": [
    {
     "data": {
      "text/plain": [
       "<matplotlib.text.Text at 0x7f84b38f22e8>"
      ]
     },
     "execution_count": 28,
     "metadata": {},
     "output_type": "execute_result"
    },
    {
     "data": {
      "image/png": "[encoded data removed]",
      "text/plain": [
       "<matplotlib.figure.Figure at 0x7f84b3e253c8>"
      ]
     },
     "metadata": {},
     "output_type": "display_data"
    }
   ],
   "source": [
    "seaborn.distplot(data['GDP'].dropna(), kde= False)\n",
    "plt.xlabel('GDP (per capita) quantitative values)')\n",
    "plt.title('Counts of rows for each GDP')"
   ]
  },
  {
   "cell_type": "markdown",
   "metadata": {},
   "source": [
    "# Create Under_five_mortality groups, describe and visualize:"
   ]
  },
  {
   "cell_type": "code",
   "execution_count": 29,
   "metadata": {
    "collapsed": false
   },
   "outputs": [
    {
     "name": "stdout",
     "output_type": "stream",
     "text": [
      "Under_five_mortality ranges from 2.0 and to 756.29\n"
     ]
    },
    {
     "data": {
      "text/plain": [
       "count    33447.000000\n",
       "mean       293.472086\n",
       "std        166.042344\n",
       "min          2.000000\n",
       "25%        125.635000\n",
       "50%        369.210000\n",
       "75%        425.105000\n",
       "max        756.290000\n",
       "Name: Under_five_mortality, dtype: float64"
      ]
     },
     "execution_count": 29,
     "metadata": {},
     "output_type": "execute_result"
    }
   ],
   "source": [
    "print ('Under_five_mortality ranges from '+ str(data['Under_five_mortality'].min())+' and to '+ \n",
    "       str(data['Under_five_mortality'].max()) )\n",
    "data['Under_five_mortality'].describe()"
   ]
  },
  {
   "cell_type": "code",
   "execution_count": 30,
   "metadata": {
    "collapsed": false
   },
   "outputs": [],
   "source": [
    "data['MortalityGroup']= pd.cut(data.Under_five_mortality, [2,50,100,200,500,800]) "
   ]
  },
  {
   "cell_type": "code",
   "execution_count": 31,
   "metadata": {
    "collapsed": false
   },
   "outputs": [
    {
     "data": {
      "text/plain": [
       "count          33446\n",
       "unique             5\n",
       "top       (200, 500]\n",
       "freq           20951\n",
       "Name: MortalityGroup, dtype: object"
      ]
     },
     "execution_count": 31,
     "metadata": {},
     "output_type": "execute_result"
    }
   ],
   "source": [
    "data['MortalityGroup']= data['MortalityGroup'].astype('category')\n",
    "data['MortalityGroup'].describe()"
   ]
  },
  {
   "cell_type": "code",
   "execution_count": 32,
   "metadata": {
    "collapsed": false
   },
   "outputs": [
    {
     "name": "stdout",
     "output_type": "stream",
     "text": [
      "(2, 50]       0.146231\n",
      "(50, 100]     0.073310\n",
      "(100, 200]    0.102012\n",
      "(200, 500]    0.626394\n",
      "(500, 800]    0.052023\n",
      "dtype: float64\n"
     ]
    }
   ],
   "source": [
    "MG= data['MortalityGroup'].value_counts(sort= False, normalize= True)\n",
    "print(MG)"
   ]
  },
  {
   "cell_type": "code",
   "execution_count": 33,
   "metadata": {
    "collapsed": false
   },
   "outputs": [
    {
     "data": {
      "image/png": "[encoded data removed]",
      "text/plain": [
       "<matplotlib.figure.Figure at 0x7f84b3923ba8>"
      ]
     },
     "metadata": {},
     "output_type": "display_data"
    }
   ],
   "source": [
    "seaborn.countplot(x= 'MortalityGroup', data= data)\n",
    "plt.xlabel('Mortality Rate group')\n",
    "plt.title('Counts of rows for each Rate')\n",
    "plt.show()"
   ]
  },
  {
   "cell_type": "code",
   "execution_count": 34,
   "metadata": {
    "collapsed": false
   },
   "outputs": [
    {
     "data": {
      "text/plain": [
       "<matplotlib.axes._subplots.AxesSubplot at 0x7f84b37ff278>"
      ]
     },
     "execution_count": 34,
     "metadata": {},
     "output_type": "execute_result"
    },
    {
     "data": {
      "image/png": "[encoded data removed]",
      "text/plain": [
       "<matplotlib.figure.Figure at 0x7f84b383eac8>"
      ]
     },
     "metadata": {},
     "output_type": "display_data"
    }
   ],
   "source": [
    "seaborn.regplot(x= \"GDP\", y= \"Under_five_mortality\", fit_reg= False, data= data)"
   ]
  },
  {
   "cell_type": "markdown",
   "metadata": {},
   "source": [
    "Use data for only years after 2000"
   ]
  },
  {
   "cell_type": "code",
   "execution_count": 76,
   "metadata": {
    "collapsed": true
   },
   "outputs": [],
   "source": [
    "data2= data[data['Year']>=2000]"
   ]
  },
  {
   "cell_type": "code",
   "execution_count": 77,
   "metadata": {
    "collapsed": false
   },
   "outputs": [
    {
     "data": {
      "text/plain": [
       "<matplotlib.axes._subplots.AxesSubplot at 0x7f84b23dd5c0>"
      ]
     },
     "execution_count": 77,
     "metadata": {},
     "output_type": "execute_result"
    },
    {
     "data": {
      "image/png": "[encoded data removed]",
      "text/plain": [
       "<matplotlib.figure.Figure at 0x7f84b23dd358>"
      ]
     },
     "metadata": {},
     "output_type": "display_data"
    }
   ],
   "source": [
    "seaborn.regplot(x= \"GDP\", y= \"Under_five_mortality\", fit_reg= False, data= data2)"
   ]
  },
  {
   "cell_type": "markdown",
   "metadata": {},
   "source": [
    "Create a factor plot, but first convert the \"Under_five_mortality\" variable to a two-level categorical variable:"
   ]
  },
  {
   "cell_type": "markdown",
   "metadata": {},
   "source": [
    "If the Under_five_mortality is above 50 (per 1000) then I will accept it as 1:"
   ]
  },
  {
   "cell_type": "code",
   "execution_count": 78,
   "metadata": {
    "collapsed": false
   },
   "outputs": [
    {
     "name": "stdout",
     "output_type": "stream",
     "text": [
      "(2, 50]       0.146231\n",
      "(50, 100]     0.073310\n",
      "(100, 200]    0.102012\n",
      "(200, 500]    0.626394\n",
      "(500, 800]    0.052023\n",
      "dtype: float64\n"
     ]
    }
   ],
   "source": [
    "MG= data['MortalityGroup'].value_counts(sort= False, normalize= True)\n",
    "print(MG)"
   ]
  },
  {
   "cell_type": "code",
   "execution_count": 79,
   "metadata": {
    "collapsed": false
   },
   "outputs": [],
   "source": [
    "def MORTAL (row):\n",
    "    if row['Under_five_mortality'] < 50 :\n",
    "        return 0\n",
    "    else:\n",
    "        return 1"
   ]
  },
  {
   "cell_type": "code",
   "execution_count": 80,
   "metadata": {
    "collapsed": false
   },
   "outputs": [
    {
     "data": {
      "text/plain": [
       "0    1835\n",
       "1     870\n",
       "Name: Mortal, dtype: int64"
      ]
     },
     "execution_count": 80,
     "metadata": {},
     "output_type": "execute_result"
    }
   ],
   "source": [
    "data2['Mortal']= data2.apply(lambda row : MORTAL(row), axis= 1)\n",
    "# axis=1, tells python to apply this function to each row \n",
    "# Arbitrary functions can be applied along the axes of a DataFrame using the apply() method\n",
    "data2['Mortal'].value_counts()"
   ]
  },
  {
   "cell_type": "code",
   "execution_count": 81,
   "metadata": {
    "collapsed": false
   },
   "outputs": [
    {
     "data": {
      "image/png": "[encoded data removed]",
      "text/plain": [
       "<matplotlib.figure.Figure at 0x7f84b37ed668>"
      ]
     },
     "metadata": {},
     "output_type": "display_data"
    }
   ],
   "source": [
    "seaborn.factorplot(x= 'GDPGroup', y= 'Mortal', data= data2, kind= \"bar\", ci=None)\n",
    "plt.xlabel('GDP per capita group')\n",
    "plt.ylabel('proportion mortality rate')\n",
    "plt.show()\n",
    "# A categorical to categorical bar chart\n",
    "# note that a bivariate graph displays a mean on the y-axis, \n",
    "# so categorical response variables should not have other than two levels, they should be coded as 1 and 0.\n",
    "# Important: Below, the response variable gives us the proportion of the positive observations."
   ]
  },
  {
   "cell_type": "markdown",
   "metadata": {},
   "source": [
    "Rename the groups for better readability: "
   ]
  },
  {
   "cell_type": "code",
   "execution_count": 82,
   "metadata": {
    "collapsed": true
   },
   "outputs": [],
   "source": [
    "def GDPRangeGroup (row):\n",
    "   if row['GDP'] > 280.0 and row['GDP']<= 1000.0 :\n",
    "      return 1\n",
    "   if row['GDP'] > 1000.0 and row['GDP']<= 2000.0 :\n",
    "      return 2\n",
    "   if row['GDP'] > 2000.0 and row['GDP']<= 5000.0 :\n",
    "      return 3\n",
    "   if row['GDP'] > 5000.0 and row['GDP']<= 10000.0 :\n",
    "      return 4\n",
    "   if row['GDP'] > 10000.0 and row['GDP']<= 50000.0 :\n",
    "      return 5\n",
    "   if row['GDP'] > 50000.0 and row['GDP']<= 120000.0 :\n",
    "      return 6"
   ]
  },
  {
   "cell_type": "code",
   "execution_count": 83,
   "metadata": {
    "collapsed": false
   },
   "outputs": [],
   "source": [
    "data2['GDPCat'] = data2.apply (lambda row: GDPRangeGroup (row),axis=1)"
   ]
  },
  {
   "cell_type": "code",
   "execution_count": 84,
   "metadata": {
    "collapsed": false
   },
   "outputs": [
    {
     "data": {
      "image/png": "[encoded data removed]",
      "text/plain": [
       "<matplotlib.figure.Figure at 0x7f84b377da58>"
      ]
     },
     "metadata": {},
     "output_type": "display_data"
    }
   ],
   "source": [
    "seaborn.factorplot(x= 'GDPCat', y= 'Mortal', data= data2, kind= \"bar\", ci=None)\n",
    "plt.xlabel('GDP per capita category: 1 the most poor to 6 the richest')\n",
    "plt.ylabel('Proportion mortality')\n",
    "plt.show()"
   ]
  },
  {
   "cell_type": "markdown",
   "metadata": {},
   "source": [
    "# PART II of the course"
   ]
  },
  {
   "cell_type": "code",
   "execution_count": 85,
   "metadata": {
    "collapsed": true
   },
   "outputs": [],
   "source": [
    "import statsmodels.formula.api as smf\n",
    "import statsmodels.stats.multicomp as multi "
   ]
  },
  {
   "cell_type": "code",
   "execution_count": 86,
   "metadata": {
    "collapsed": false
   },
   "outputs": [
    {
     "name": "stdout",
     "output_type": "stream",
     "text": [
      "       GDPCat  Under_five_mortality\n",
      "195         1                 135.6\n",
      "196         1                 132.7\n",
      "197         1                 129.4\n",
      "198         1                 125.9\n",
      "199         1                 122.4\n",
      "200         1                 119.0\n",
      "201         1                 115.8\n",
      "202         1                 112.9\n",
      "203         1                 110.2\n",
      "204         2                 107.7\n",
      "205         2                 105.2\n",
      "206         2                 102.6\n",
      "207         2                 100.0\n",
      "208         2                  97.3\n",
      "382         3                  26.1\n",
      "383         3                  24.8\n",
      "384         3                  23.6\n",
      "385         3                  22.5\n",
      "386         4                  21.4\n",
      "387         4                  20.4\n",
      "388         4                  19.5\n",
      "389         4                  18.7\n",
      "390         4                  17.9\n",
      "391         4                  17.2\n",
      "392         4                  16.5\n",
      "393         4                  15.9\n",
      "394         4                  15.4\n",
      "395         4                  14.9\n",
      "587         4                  39.6\n",
      "588         4                  38.8\n",
      "...       ...                   ...\n",
      "33032       3                  53.6\n",
      "33033       3                  51.3\n",
      "33227       2                 168.8\n",
      "33228       2                 161.3\n",
      "33229       2                 152.3\n",
      "33230       2                 143.3\n",
      "33231       2                 134.8\n",
      "33232       2                 126.8\n",
      "33233       2                 120.2\n",
      "33234       2                 114.6\n",
      "33235       2                 109.7\n",
      "33236       2                 105.1\n",
      "33237       2                 101.4\n",
      "33238       2                  95.9\n",
      "33239       2                  89.8\n",
      "33240       2                  87.4\n",
      "33433       1                 102.6\n",
      "33434       1                 101.7\n",
      "33435       1                 100.3\n",
      "33436       1                  98.7\n",
      "33437       1                  97.5\n",
      "33438       1                  96.6\n",
      "33439       1                  95.5\n",
      "33440       1                  95.6\n",
      "33441       1                  96.3\n",
      "33442       1                  96.9\n",
      "33443       1                  96.0\n",
      "33444       1                  94.0\n",
      "33445       1                  88.5\n",
      "33446       1                  88.5\n",
      "\n",
      "[2705 rows x 2 columns]\n"
     ]
    }
   ],
   "source": [
    "data3= data2[['GDPCat', 'Under_five_mortality']]\n",
    "print(data3)"
   ]
  },
  {
   "cell_type": "markdown",
   "metadata": {},
   "source": [
    "## A) ANOVA \n",
    "### Please note that \"GDPCat\" is categorical, and  \"Under_five_mortality\" is numeric"
   ]
  },
  {
   "cell_type": "code",
   "execution_count": 87,
   "metadata": {
    "collapsed": false
   },
   "outputs": [],
   "source": [
    "model1= smf.ols(formula='Under_five_mortality ~ C(GDPCat)', data=data3)\n",
    "# statsmodels.formula.api as smf\n",
    "# ols: ordinary least squares regression\n",
    "# first response var, and then explanatory variable. Note that C stands for the Categorical variable."
   ]
  },
  {
   "cell_type": "code",
   "execution_count": 88,
   "metadata": {
    "collapsed": true
   },
   "outputs": [],
   "source": [
    "results= model1.fit()"
   ]
  },
  {
   "cell_type": "code",
   "execution_count": 89,
   "metadata": {
    "collapsed": false
   },
   "outputs": [
    {
     "name": "stdout",
     "output_type": "stream",
     "text": [
      "                             OLS Regression Results                             \n",
      "================================================================================\n",
      "Dep. Variable:     Under_five_mortality   R-squared:                       0.634\n",
      "Model:                              OLS   Adj. R-squared:                  0.634\n",
      "Method:                   Least Squares   F-statistic:                     936.8\n",
      "Date:                  Thu, 28 Apr 2016   Prob (F-statistic):               0.00\n",
      "Time:                          11:43:16   Log-Likelihood:                -12917.\n",
      "No. Observations:                  2705   AIC:                         2.585e+04\n",
      "Df Residuals:                      2699   BIC:                         2.588e+04\n",
      "Df Model:                             5                                         \n",
      "Covariance Type:              nonrobust                                         \n",
      "==================================================================================\n",
      "                     coef    std err          t      P>|t|      [95.0% Conf. Int.]\n",
      "----------------------------------------------------------------------------------\n",
      "Intercept        127.0027      1.784     71.182      0.000       123.504   130.501\n",
      "C(GDPCat)[T.2]   -35.6631      2.300    -15.503      0.000       -40.174   -31.152\n",
      "C(GDPCat)[T.3]   -75.7435      2.174    -34.837      0.000       -80.007   -71.480\n",
      "C(GDPCat)[T.4]   -99.6468      2.170    -45.914      0.000      -103.902   -95.391\n",
      "C(GDPCat)[T.5]  -115.2019      2.012    -57.255      0.000      -119.147  -111.257\n",
      "C(GDPCat)[T.6]  -120.3420      5.712    -21.067      0.000      -131.543  -109.141\n",
      "==============================================================================\n",
      "Omnibus:                     1007.597   Durbin-Watson:                   0.214\n",
      "Prob(Omnibus):                  0.000   Jarque-Bera (JB):             5074.345\n",
      "Skew:                           1.711   Prob(JB):                         0.00\n",
      "Kurtosis:                       8.772   Cond. No.                         12.0\n",
      "==============================================================================\n",
      "\n",
      "Warnings:\n",
      "[1] Standard Errors assume that the covariance matrix of the errors is correctly specified.\n"
     ]
    }
   ],
   "source": [
    "print(results.summary())"
   ]
  },
  {
   "cell_type": "markdown",
   "metadata": {},
   "source": [
    "### POST-HOC TESTS ARE NEEDED: Which categories are different than others?"
   ]
  },
  {
   "cell_type": "code",
   "execution_count": 90,
   "metadata": {
    "collapsed": false
   },
   "outputs": [
    {
     "name": "stdout",
     "output_type": "stream",
     "text": [
      "Multiple Comparison of Means - Tukey HSD,FWER=0.05\n",
      "==================================================\n",
      "group1 group2  meandiff   lower     upper   reject\n",
      "--------------------------------------------------\n",
      "  1      2     -35.6631  -42.2233  -29.1028  True \n",
      "  1      3     -75.7435  -81.9439  -69.5432  True \n",
      "  1      4     -99.6468 -105.8359  -93.4577  True \n",
      "  1      5    -115.2019 -120.9399  -109.464  True \n",
      "  1      6     -120.342 -136.6317 -104.0523  True \n",
      "  2      3     -40.0805  -45.5307  -34.6303  True \n",
      "  2      4     -63.9837  -69.4211  -58.5463  True \n",
      "  2      5     -79.5389  -84.4566  -74.6212  True \n",
      "  2      6     -84.6789 -100.6981  -68.6598  True \n",
      "  3      4     -23.9033  -28.9005  -18.906   True \n",
      "  3      5     -39.4584  -43.8847  -35.0321  True \n",
      "  3      6     -44.5985  -60.4736  -28.7233  True \n",
      "  4      5     -15.5552  -19.9657  -11.1447  True \n",
      "  4      6     -20.6952  -36.566   -4.8244   True \n",
      "  5      6      -5.14    -20.8404  10.5603  False \n",
      "--------------------------------------------------\n"
     ]
    }
   ],
   "source": [
    "mc1 = multi.MultiComparison(data3['Under_five_mortality'], data3['GDPCat'])\n",
    "res1 = mc1.tukeyhsd()\n",
    "print(res1.summary())"
   ]
  },
  {
   "cell_type": "markdown",
   "metadata": {
    "collapsed": true
   },
   "source": [
    "### B) CHI SQUARE TEST OF INDEPENDENCE for CATEGORICAL TO CATEGORICAL VARIABLES"
   ]
  },
  {
   "cell_type": "code",
   "execution_count": 91,
   "metadata": {
    "collapsed": false
   },
   "outputs": [
    {
     "name": "stdout",
     "output_type": "stream",
     "text": [
      "       Mortal  GDPCat\n",
      "195         1       1\n",
      "196         1       1\n",
      "197         1       1\n",
      "198         1       1\n",
      "199         1       1\n",
      "200         1       1\n",
      "201         1       1\n",
      "202         1       1\n",
      "203         1       1\n",
      "204         1       2\n",
      "205         1       2\n",
      "206         1       2\n",
      "207         1       2\n",
      "208         1       2\n",
      "382         0       3\n",
      "383         0       3\n",
      "384         0       3\n",
      "385         0       3\n",
      "386         0       4\n",
      "387         0       4\n",
      "388         0       4\n",
      "389         0       4\n",
      "390         0       4\n",
      "391         0       4\n",
      "392         0       4\n",
      "393         0       4\n",
      "394         0       4\n",
      "395         0       4\n",
      "587         0       4\n",
      "588         0       4\n",
      "...       ...     ...\n",
      "33032       1       3\n",
      "33033       1       3\n",
      "33227       1       2\n",
      "33228       1       2\n",
      "33229       1       2\n",
      "33230       1       2\n",
      "33231       1       2\n",
      "33232       1       2\n",
      "33233       1       2\n",
      "33234       1       2\n",
      "33235       1       2\n",
      "33236       1       2\n",
      "33237       1       2\n",
      "33238       1       2\n",
      "33239       1       2\n",
      "33240       1       2\n",
      "33433       1       1\n",
      "33434       1       1\n",
      "33435       1       1\n",
      "33436       1       1\n",
      "33437       1       1\n",
      "33438       1       1\n",
      "33439       1       1\n",
      "33440       1       1\n",
      "33441       1       1\n",
      "33442       1       1\n",
      "33443       1       1\n",
      "33444       1       1\n",
      "33445       1       1\n",
      "33446       1       1\n",
      "\n",
      "[2705 rows x 2 columns]\n"
     ]
    }
   ],
   "source": [
    "data4= data2[['Mortal', 'GDPCat']]\n",
    "print(data4)"
   ]
  },
  {
   "cell_type": "code",
   "execution_count": 92,
   "metadata": {
    "collapsed": false
   },
   "outputs": [
    {
     "name": "stdout",
     "output_type": "stream",
     "text": [
      "GDPCat    1    2    3    4    5   6\n",
      "Mortal                             \n",
      "0         1   53  336  500  917  28\n",
      "1       258  338  198   40   36   0\n"
     ]
    }
   ],
   "source": [
    "# contingency table of observed counts\n",
    "ct1=pd.crosstab(data4['Mortal'], data4['GDPCat'])\n",
    "print (ct1) # ct1 is a two-dimentional array"
   ]
  },
  {
   "cell_type": "code",
   "execution_count": 93,
   "metadata": {
    "collapsed": false
   },
   "outputs": [
    {
     "name": "stdout",
     "output_type": "stream",
     "text": [
      "GDPCat         1        2         3         4         5    6\n",
      "Mortal                                                      \n",
      "0       0.003861  0.13555  0.629213  0.925926  0.962225  1.0\n",
      "1       0.996139  0.86445  0.370787  0.074074  0.037775  0.0\n"
     ]
    }
   ],
   "source": [
    "# column percentages\n",
    "colsum=ct1.sum(axis=0) # axis=0 to sum all columns\n",
    "colpct=ct1/colsum\n",
    "print(colpct)"
   ]
  },
  {
   "cell_type": "markdown",
   "metadata": {
    "collapsed": true
   },
   "source": [
    "\n",
    "#### We are trying to find out if the mortality rate among different GDP categories is the same or not. Therefore column percentages make sense. (Explanatory variables on each column)"
   ]
  },
  {
   "cell_type": "code",
   "execution_count": 94,
   "metadata": {
    "collapsed": false
   },
   "outputs": [],
   "source": [
    "import scipy.stats"
   ]
  },
  {
   "cell_type": "code",
   "execution_count": 95,
   "metadata": {
    "collapsed": false
   },
   "outputs": [
    {
     "name": "stdout",
     "output_type": "stream",
     "text": [
      "chi-square value, p value, expected counts\n",
      "(1590.9193552803551, 0.0, 5, array([[ 175.6987061 ,  265.24399261,  362.25138632,  366.32162662,\n",
      "         646.48983364,   18.99445471],\n",
      "       [  83.3012939 ,  125.75600739,  171.74861368,  173.67837338,\n",
      "         306.51016636,    9.00554529]]))\n"
     ]
    }
   ],
   "source": [
    "# chi-square\n",
    "print ('chi-square value, p value, expected counts')\n",
    "cs1= scipy.stats.chi2_contingency(ct1)\n",
    "print (cs1)"
   ]
  },
  {
   "cell_type": "markdown",
   "metadata": {},
   "source": [
    "### Large X2 statistics and a small p-value states that there is a strong association between the explanatory variables and the response variables as opposed to the null hypothesis."
   ]
  },
  {
   "cell_type": "code",
   "execution_count": 96,
   "metadata": {
    "collapsed": false
   },
   "outputs": [
    {
     "data": {
      "image/png": "[encoded data removed]",
      "text/plain": [
       "<matplotlib.figure.Figure at 0x7f84b37e7a90>"
      ]
     },
     "metadata": {},
     "output_type": "display_data"
    }
   ],
   "source": [
    "seaborn.factorplot(x= 'GDPCat', y= 'Mortal', data= data4, kind= \"bar\", ci=None)\n",
    "plt.xlabel('GDP per capita category: 1 the most poor to 6 the richest')\n",
    "plt.ylabel('Proportion mortality')\n",
    "plt.show()\n",
    "# note that the y values are equal to the column percentages (colpct) for Mortal 1"
   ]
  },
  {
   "cell_type": "markdown",
   "metadata": {},
   "source": [
    "### POST-HOC TESTS ARE NEEDED:  Which GDP Categories are different than the others?\n",
    "### chi square post hoc test: Apply chi square for each pair (all combinations of them); test with adjusted p value (bonferroni adjustment p-value: p-value / number_of_comparions)\n",
    "Here, we have 6 groups and there are 15 pairs; so the adjusted p-value is 0.05/15= 0,0033"
   ]
  },
  {
   "cell_type": "code",
   "execution_count": 99,
   "metadata": {
    "collapsed": false
   },
   "outputs": [
    {
     "name": "stdout",
     "output_type": "stream",
     "text": [
      "GDP_1v2  1.0  2.0\n",
      "Mortal           \n",
      "0          1   53\n",
      "1        258  338\n",
      "GDP_1v2       1.0      2.0\n",
      "Mortal                    \n",
      "0        0.003861  0.13555\n",
      "1        0.996139  0.86445\n",
      "chi-square value, p value, expected counts\n",
      "(33.761222905711314, 6.2308543920268363e-09, 1, array([[  21.51692308,   32.48307692],\n",
      "       [ 237.48307692,  358.51692308]]))\n"
     ]
    }
   ],
   "source": [
    "# We need to run chi-square tests for each of the comparisons\n",
    "recode_1v2 = {1: 1, 2: 2} # this is required because we are going to use only these two columns\n",
    "data4['GDP_1v2']= data4['GDPCat'].map(recode_1v2)\n",
    "\n",
    "# contingency table of observed counts\n",
    "table_1v2=pd.crosstab(data4['Mortal'], data4['GDP_1v2'])\n",
    "print (table_1v2)\n",
    "\n",
    "# column percentages\n",
    "colsum=table_1v2.sum(axis=0)\n",
    "colpct=table_1v2/colsum\n",
    "print(colpct)\n",
    "\n",
    "print ('chi-square value, p value, expected counts')\n",
    "cs_1v2= scipy.stats.chi2_contingency(table_1v2)\n",
    "print (cs_1v2)"
   ]
  },
  {
   "cell_type": "markdown",
   "metadata": {},
   "source": [
    "#### Now, we need to run the above test for each of the remaining paired comparisons!"
   ]
  },
  {
   "cell_type": "code",
   "execution_count": 101,
   "metadata": {
    "collapsed": false
   },
   "outputs": [
    {
     "name": "stdout",
     "output_type": "stream",
     "text": [
      "GDP_1v3  1.0  3.0\n",
      "Mortal           \n",
      "0          1  336\n",
      "1        258  198\n",
      "GDP_1v3       1.0       3.0\n",
      "Mortal                     \n",
      "0        0.003861  0.629213\n",
      "1        0.996139  0.370787\n",
      "chi-square value, p value, expected counts\n",
      "(276.55285748854328, 4.2345237162071559e-62, 1, array([[ 110.0668348,  226.9331652],\n",
      "       [ 148.9331652,  307.0668348]]))\n"
     ]
    }
   ],
   "source": [
    "recode_1v3 = {1: 1, 3: 3}\n",
    "data4['GDP_1v3']= data4['GDPCat'].map(recode_1v3)\n",
    "\n",
    "# contingency table of observed counts\n",
    "table_1v3=pd.crosstab(data4['Mortal'], data4['GDP_1v3'])\n",
    "print (table_1v3)\n",
    "\n",
    "# column percentages\n",
    "colsum=table_1v3.sum(axis=0)\n",
    "colpct=table_1v3/colsum\n",
    "print(colpct)\n",
    "\n",
    "print ('chi-square value, p value, expected counts')\n",
    "cs_1v3= scipy.stats.chi2_contingency(table_1v3)\n",
    "print (cs_1v3)"
   ]
  },
  {
   "cell_type": "code",
   "execution_count": 103,
   "metadata": {
    "collapsed": false
   },
   "outputs": [
    {
     "name": "stdout",
     "output_type": "stream",
     "text": [
      "GDP_1v4  1.0  4.0\n",
      "Mortal           \n",
      "0          1  500\n",
      "1        258   40\n",
      "GDP_1v4       1.0       4.0\n",
      "Mortal                     \n",
      "0        0.003861  0.925926\n",
      "1        0.996139  0.074074\n",
      "chi-square value, p value, expected counts\n",
      "(632.43277868513451, 1.4781410771883269e-139, 1, array([[ 162.40175219,  338.59824781],\n",
      "       [  96.59824781,  201.40175219]]))\n"
     ]
    }
   ],
   "source": [
    "recode_1v4 = {1: 1, 4: 4}\n",
    "data4['GDP_1v4']= data4['GDPCat'].map(recode_1v4)\n",
    "\n",
    "# contingency table of observed counts\n",
    "table_1v4=pd.crosstab(data4['Mortal'], data4['GDP_1v4'])\n",
    "print (table_1v4)\n",
    "\n",
    "# column percentages\n",
    "colsum=table_1v4.sum(axis=0)\n",
    "colpct=table_1v4/colsum\n",
    "print(colpct)\n",
    "\n",
    "print ('chi-square value, p value, expected counts')\n",
    "cs_1v4= scipy.stats.chi2_contingency(table_1v4)\n",
    "print (cs_1v4)"
   ]
  },
  {
   "cell_type": "code",
   "execution_count": 105,
   "metadata": {
    "collapsed": false
   },
   "outputs": [
    {
     "name": "stdout",
     "output_type": "stream",
     "text": [
      "GDP_1v5  1.0  5.0\n",
      "Mortal           \n",
      "0          1  917\n",
      "1        258   36\n",
      "GDP_1v5       1.0       5.0\n",
      "Mortal                     \n",
      "0        0.003861  0.962225\n",
      "1        0.996139  0.037775\n",
      "chi-square value, p value, expected counts\n",
      "(1012.8329442421266, 2.91651373673045e-222, 1, array([[ 196.17326733,  721.82673267],\n",
      "       [  62.82673267,  231.17326733]]))\n"
     ]
    }
   ],
   "source": [
    "recode_1v5 = {1: 1, 5: 5}\n",
    "data4['GDP_1v5']= data4['GDPCat'].map(recode_1v5)\n",
    "\n",
    "# contingency table of observed counts\n",
    "table_1v5=pd.crosstab(data4['Mortal'], data4['GDP_1v5'])\n",
    "print (table_1v5)\n",
    "\n",
    "# column percentages\n",
    "colsum=table_1v5.sum(axis=0)\n",
    "colpct=table_1v5/colsum\n",
    "print(colpct)\n",
    "\n",
    "print ('chi-square value, p value, expected counts')\n",
    "cs_1v5= scipy.stats.chi2_contingency(table_1v5)\n",
    "print (cs_1v5)"
   ]
  },
  {
   "cell_type": "code",
   "execution_count": 106,
   "metadata": {
    "collapsed": false
   },
   "outputs": [
    {
     "name": "stdout",
     "output_type": "stream",
     "text": [
      "GDP_1v6  1.0  6.0\n",
      "Mortal           \n",
      "0          1   28\n",
      "1        258    0\n",
      "GDP_1v6       1.0  6.0\n",
      "Mortal                \n",
      "0        0.003861  1.0\n",
      "1        0.996139  0.0\n",
      "chi-square value, p value, expected counts\n",
      "(265.17602222812229, 1.2773465624478754e-59, 1, array([[  26.17073171,    2.82926829],\n",
      "       [ 232.82926829,   25.17073171]]))\n"
     ]
    }
   ],
   "source": [
    "recode_1v6 = {1: 1, 6: 6}\n",
    "data4['GDP_1v6']= data4['GDPCat'].map(recode_1v6)\n",
    "\n",
    "# contingency table of observed counts\n",
    "table_1v6=pd.crosstab(data4['Mortal'], data4['GDP_1v6'])\n",
    "print (table_1v6)\n",
    "\n",
    "# column percentages\n",
    "colsum=table_1v6.sum(axis=0)\n",
    "colpct=table_1v6/colsum\n",
    "print(colpct)\n",
    "\n",
    "print ('chi-square value, p value, expected counts')\n",
    "cs_1v6= scipy.stats.chi2_contingency(table_1v6)\n",
    "print (cs_1v6)"
   ]
  },
  {
   "cell_type": "code",
   "execution_count": 107,
   "metadata": {
    "collapsed": false
   },
   "outputs": [
    {
     "name": "stdout",
     "output_type": "stream",
     "text": [
      "GDP_2v3  2.0  3.0\n",
      "Mortal           \n",
      "0         53  336\n",
      "1        338  198\n",
      "GDP_2v3      2.0       3.0\n",
      "Mortal                    \n",
      "0        0.13555  0.629213\n",
      "1        0.86445  0.370787\n",
      "chi-square value, p value, expected counts\n",
      "(223.71824298597718, 1.3975588978663493e-50, 1, array([[ 164.43135135,  224.56864865],\n",
      "       [ 226.56864865,  309.43135135]]))\n"
     ]
    }
   ],
   "source": [
    "recode_2v3 = {2: 2, 3: 3}\n",
    "data4['GDP_2v3']= data4['GDPCat'].map(recode_2v3)\n",
    "\n",
    "# contingency table of observed counts\n",
    "table_2v3=pd.crosstab(data4['Mortal'], data4['GDP_2v3'])\n",
    "print (table_2v3)\n",
    "\n",
    "# column percentages\n",
    "colsum=table_2v3.sum(axis=0)\n",
    "colpct=table_2v3/colsum\n",
    "print(colpct)\n",
    "\n",
    "print ('chi-square value, p value, expected counts')\n",
    "cs_2v3= scipy.stats.chi2_contingency(table_2v3)\n",
    "print (cs_2v3)"
   ]
  },
  {
   "cell_type": "code",
   "execution_count": 108,
   "metadata": {
    "collapsed": false
   },
   "outputs": [
    {
     "name": "stdout",
     "output_type": "stream",
     "text": [
      "GDP_2v4  2.0  4.0\n",
      "Mortal           \n",
      "0         53  500\n",
      "1        338   40\n",
      "GDP_2v4      2.0       4.0\n",
      "Mortal                    \n",
      "0        0.13555  0.925926\n",
      "1        0.86445  0.074074\n",
      "chi-square value, p value, expected counts\n",
      "(584.17714457412023, 4.6288417662288226e-129, 1, array([[ 232.2481203,  320.7518797],\n",
      "       [ 158.7518797,  219.2481203]]))\n"
     ]
    }
   ],
   "source": [
    "recode_2v4 = {2: 2, 4: 4}\n",
    "data4['GDP_2v4']= data4['GDPCat'].map(recode_2v4)\n",
    "\n",
    "# contingency table of observed counts\n",
    "table_2v4=pd.crosstab(data4['Mortal'], data4['GDP_2v4'])\n",
    "print (table_2v4)\n",
    "\n",
    "# column percentages\n",
    "colsum=table_2v4.sum(axis=0)\n",
    "colpct=table_2v4/colsum\n",
    "print(colpct)\n",
    "\n",
    "print ('chi-square value, p value, expected counts')\n",
    "cs_2v4= scipy.stats.chi2_contingency(table_2v4)\n",
    "print (cs_2v4)"
   ]
  },
  {
   "cell_type": "code",
   "execution_count": 109,
   "metadata": {
    "collapsed": false
   },
   "outputs": [
    {
     "name": "stdout",
     "output_type": "stream",
     "text": [
      "GDP_2v5  2.0  5.0\n",
      "Mortal           \n",
      "0         53  917\n",
      "1        338   36\n",
      "GDP_2v5      2.0       5.0\n",
      "Mortal                    \n",
      "0        0.13555  0.962225\n",
      "1        0.86445  0.037775\n",
      "chi-square value, p value, expected counts\n",
      "(939.28616357450096, 2.8293135044904847e-206, 1, array([[ 282.19494048,  687.80505952],\n",
      "       [ 108.80505952,  265.19494048]]))\n"
     ]
    }
   ],
   "source": [
    "recode_2v5 = {2: 2, 5: 5}\n",
    "data4['GDP_2v5']= data4['GDPCat'].map(recode_2v5)\n",
    "\n",
    "# contingency table of observed counts\n",
    "table_2v5=pd.crosstab(data4['Mortal'], data4['GDP_2v5'])\n",
    "print (table_2v5)\n",
    "\n",
    "# column percentages\n",
    "colsum=table_2v5.sum(axis=0)\n",
    "colpct=table_2v5/colsum\n",
    "print(colpct)\n",
    "\n",
    "print ('chi-square value, p value, expected counts')\n",
    "cs_2v5= scipy.stats.chi2_contingency(table_2v5)\n",
    "print (cs_2v5)"
   ]
  },
  {
   "cell_type": "code",
   "execution_count": 110,
   "metadata": {
    "collapsed": false
   },
   "outputs": [
    {
     "name": "stdout",
     "output_type": "stream",
     "text": [
      "GDP_2v6  2.0  6.0\n",
      "Mortal           \n",
      "0         53   28\n",
      "1        338    0\n",
      "GDP_2v6      2.0  6.0\n",
      "Mortal               \n",
      "0        0.13555  1.0\n",
      "1        0.86445  0.0\n",
      "chi-square value, p value, expected counts\n",
      "(119.72461098668762, 7.2681644796105079e-28, 1, array([[  75.58711217,    5.41288783],\n",
      "       [ 315.41288783,   22.58711217]]))\n"
     ]
    }
   ],
   "source": [
    "recode_2v6 = {2: 2, 6: 6}\n",
    "data4['GDP_2v6']= data4['GDPCat'].map(recode_2v6)\n",
    "\n",
    "# contingency table of observed counts\n",
    "table_2v6=pd.crosstab(data4['Mortal'], data4['GDP_2v6'])\n",
    "print (table_2v6)\n",
    "\n",
    "# column percentages\n",
    "colsum=table_2v6.sum(axis=0)\n",
    "colpct=table_2v6/colsum\n",
    "print(colpct)\n",
    "\n",
    "print ('chi-square value, p value, expected counts')\n",
    "cs_2v6= scipy.stats.chi2_contingency(table_2v6)\n",
    "print (cs_2v6)"
   ]
  },
  {
   "cell_type": "code",
   "execution_count": 111,
   "metadata": {
    "collapsed": false
   },
   "outputs": [
    {
     "name": "stdout",
     "output_type": "stream",
     "text": [
      "GDP_3v4  3.0  4.0\n",
      "Mortal           \n",
      "0        336  500\n",
      "1        198   40\n",
      "GDP_3v4       3.0       4.0\n",
      "Mortal                     \n",
      "0        0.629213  0.925926\n",
      "1        0.370787  0.074074\n",
      "chi-square value, p value, expected counts\n",
      "(135.3190311247611, 2.8116042546568773e-31, 1, array([[ 415.66480447,  420.33519553],\n",
      "       [ 118.33519553,  119.66480447]]))\n"
     ]
    }
   ],
   "source": [
    "recode_3v4 = {3: 3, 4: 4}\n",
    "data4['GDP_3v4']= data4['GDPCat'].map(recode_3v4)\n",
    "\n",
    "# contingency table of observed counts\n",
    "table_3v4=pd.crosstab(data4['Mortal'], data4['GDP_3v4'])\n",
    "print (table_3v4)\n",
    "\n",
    "# column percentages\n",
    "colsum=table_3v4.sum(axis=0)\n",
    "colpct=table_3v4/colsum\n",
    "print(colpct)\n",
    "\n",
    "print ('chi-square value, p value, expected counts')\n",
    "cs_3v4= scipy.stats.chi2_contingency(table_3v4)\n",
    "print (cs_3v4)"
   ]
  },
  {
   "cell_type": "code",
   "execution_count": 113,
   "metadata": {
    "collapsed": false
   },
   "outputs": [
    {
     "name": "stdout",
     "output_type": "stream",
     "text": [
      "GDP_3v5  3.0  5.0\n",
      "Mortal           \n",
      "0        336  917\n",
      "1        198   36\n",
      "GDP_3v5       3.0       5.0\n",
      "Mortal                     \n",
      "0        0.629213  0.962225\n",
      "1        0.370787  0.037775\n",
      "chi-square value, p value, expected counts\n",
      "(283.7111982382533, 1.1664883220250089e-63, 1, array([[ 449.96772024,  803.03227976],\n",
      "       [  84.03227976,  149.96772024]]))\n"
     ]
    }
   ],
   "source": [
    "recode_3v5 = {3: 3, 5: 5}\n",
    "data4['GDP_3v5']= data4['GDPCat'].map(recode_3v5)\n",
    "\n",
    "# contingency table of observed counts\n",
    "table_3v5=pd.crosstab(data4['Mortal'], data4['GDP_3v5'])\n",
    "print (table_3v5)\n",
    "\n",
    "# column percentages\n",
    "colsum=table_3v5.sum(axis=0)\n",
    "colpct=table_3v5/colsum\n",
    "print(colpct)\n",
    "\n",
    "print ('chi-square value, p value, expected counts')\n",
    "cs_3v5= scipy.stats.chi2_contingency(table_3v5)\n",
    "print (cs_3v5)"
   ]
  },
  {
   "cell_type": "code",
   "execution_count": 114,
   "metadata": {
    "collapsed": false
   },
   "outputs": [
    {
     "name": "stdout",
     "output_type": "stream",
     "text": [
      "GDP_3v6  3.0  6.0\n",
      "Mortal           \n",
      "0        336   28\n",
      "1        198    0\n",
      "GDP_3v6       3.0  6.0\n",
      "Mortal                \n",
      "0        0.629213  1.0\n",
      "1        0.370787  0.0\n",
      "chi-square value, p value, expected counts\n",
      "(14.445653495262242, 0.00014426239607655007, 1, array([[ 345.86476868,   18.13523132],\n",
      "       [ 188.13523132,    9.86476868]]))\n"
     ]
    }
   ],
   "source": [
    "recode_3v6 = {3: 3, 6: 6}\n",
    "data4['GDP_3v6']= data4['GDPCat'].map(recode_3v6)\n",
    "\n",
    "# contingency table of observed counts\n",
    "table_3v6=pd.crosstab(data4['Mortal'], data4['GDP_3v6'])\n",
    "print (table_3v6)\n",
    "\n",
    "# column percentages\n",
    "colsum=table_3v6.sum(axis=0)\n",
    "colpct=table_3v6/colsum\n",
    "print(colpct)\n",
    "\n",
    "print ('chi-square value, p value, expected counts')\n",
    "cs_3v6= scipy.stats.chi2_contingency(table_3v6)\n",
    "print (cs_3v6)"
   ]
  },
  {
   "cell_type": "code",
   "execution_count": 116,
   "metadata": {
    "collapsed": false
   },
   "outputs": [
    {
     "name": "stdout",
     "output_type": "stream",
     "text": [
      "GDP_4v5  4.0  5.0\n",
      "Mortal           \n",
      "0        500  917\n",
      "1         40   36\n",
      "GDP_4v5       4.0       5.0\n",
      "Mortal                     \n",
      "0        0.925926  0.962225\n",
      "1        0.074074  0.037775\n",
      "chi-square value, p value, expected counts\n",
      "(8.6640274379673308, 0.0032455317595556639, 1, array([[ 512.51172137,  904.48827863],\n",
      "       [  27.48827863,   48.51172137]]))\n"
     ]
    }
   ],
   "source": [
    "recode_4v5 = {4: 4, 5: 5}\n",
    "data4['GDP_4v5']= data4['GDPCat'].map(recode_4v5)\n",
    "\n",
    "# contingency table of observed counts\n",
    "table_4v5=pd.crosstab(data4['Mortal'], data4['GDP_4v5'])\n",
    "print (table_4v5)\n",
    "\n",
    "# column percentages\n",
    "colsum=table_4v5.sum(axis=0)\n",
    "colpct=table_4v5/colsum\n",
    "print(colpct)\n",
    "\n",
    "print ('chi-square value, p value, expected counts')\n",
    "cs_4v5= scipy.stats.chi2_contingency(table_4v5)\n",
    "print (cs_4v5)"
   ]
  },
  {
   "cell_type": "code",
   "execution_count": 117,
   "metadata": {
    "collapsed": false
   },
   "outputs": [
    {
     "name": "stdout",
     "output_type": "stream",
     "text": [
      "GDP_4v6  4.0  6.0\n",
      "Mortal           \n",
      "0        500   28\n",
      "1         40    0\n",
      "GDP_4v6       4.0  6.0\n",
      "Mortal                \n",
      "0        0.925926  1.0\n",
      "1        0.074074  0.0\n",
      "chi-square value, p value, expected counts\n",
      "(1.2431261022927693, 0.26486942716567941, 1, array([[ 501.97183099,   26.02816901],\n",
      "       [  38.02816901,    1.97183099]]))\n"
     ]
    }
   ],
   "source": [
    "recode_4v6 = {4: 4, 6: 6}\n",
    "data4['GDP_4v6']= data4['GDPCat'].map(recode_4v6)\n",
    "\n",
    "# contingency table of observed counts\n",
    "table_4v6=pd.crosstab(data4['Mortal'], data4['GDP_4v6'])\n",
    "print (table_4v6)\n",
    "\n",
    "# column percentages\n",
    "colsum=table_4v6.sum(axis=0)\n",
    "colpct=table_4v6/colsum\n",
    "print(colpct)\n",
    "\n",
    "print ('chi-square value, p value, expected counts')\n",
    "cs_4v6= scipy.stats.chi2_contingency(table_4v6)\n",
    "print (cs_4v6)"
   ]
  },
  {
   "cell_type": "code",
   "execution_count": 118,
   "metadata": {
    "collapsed": false
   },
   "outputs": [
    {
     "name": "stdout",
     "output_type": "stream",
     "text": [
      "GDP_5v6  5.0  6.0\n",
      "Mortal           \n",
      "0        917   28\n",
      "1         36    0\n",
      "GDP_5v6       5.0  6.0\n",
      "Mortal                \n",
      "0        0.962225  1.0\n",
      "1        0.037775  0.0\n",
      "chi-square value, p value, expected counts\n",
      "(0.28940396331670137, 0.5906027379518598, 1, array([[ 918.02752294,   26.97247706],\n",
      "       [  34.97247706,    1.02752294]]))\n"
     ]
    }
   ],
   "source": [
    "recode_5v6 = {5: 5, 6: 6}\n",
    "data4['GDP_5v6']= data4['GDPCat'].map(recode_5v6)\n",
    "\n",
    "# contingency table of observed counts\n",
    "table_5v6=pd.crosstab(data4['Mortal'], data4['GDP_5v6'])\n",
    "print (table_5v6)\n",
    "\n",
    "# column percentages\n",
    "colsum=table_5v6.sum(axis=0)\n",
    "colpct=table_5v6/colsum\n",
    "print(colpct)\n",
    "\n",
    "print ('chi-square value, p value, expected counts')\n",
    "cs_5v6= scipy.stats.chi2_contingency(table_5v6)\n",
    "print (cs_5v6)"
   ]
  },
  {
   "cell_type": "markdown",
   "metadata": {},
   "source": [
    "### A table showing the p-values obtained for each group should be drawn as shown below:"
   ]
  },
  {
   "cell_type": "code",
   "execution_count": 272,
   "metadata": {
    "collapsed": false
   },
   "outputs": [
    {
     "data": {
      "image/png": "[encoded data removed]",
      "text/plain": [
       "<IPython.core.display.Image object>"
      ]
     },
     "execution_count": 272,
     "metadata": {},
     "output_type": "execute_result"
    }
   ],
   "source": [
    "from IPython.display import Image\n",
    "Image(\"table1.png\")"
   ]
  },
  {
   "cell_type": "markdown",
   "metadata": {},
   "source": [
    "## C) PEARSON CORRELATION BETWEEN TWO NUMERIC VARIABLES:"
   ]
  },
  {
   "cell_type": "code",
   "execution_count": null,
   "metadata": {
    "collapsed": true
   },
   "outputs": [],
   "source": []
  },
  {
   "cell_type": "code",
   "execution_count": null,
   "metadata": {
    "collapsed": true
   },
   "outputs": [],
   "source": []
  },
  {
   "cell_type": "code",
   "execution_count": null,
   "metadata": {
    "collapsed": true
   },
   "outputs": [],
   "source": []
  },
  {
   "cell_type": "code",
   "execution_count": null,
   "metadata": {
    "collapsed": true
   },
   "outputs": [],
   "source": []
  },
  {
   "cell_type": "code",
   "execution_count": null,
   "metadata": {
    "collapsed": true
   },
   "outputs": [],
   "source": []
  }
 ],
 "metadata": {
  "kernelspec": {
   "display_name": "Python 3",
   "language": "python",
   "name": "python3"
  },
  "language_info": {
   "codemirror_mode": {
    "name": "ipython",
    "version": 3
   },
   "file_extension": ".py",
   "mimetype": "text/x-python",
   "name": "python",
   "nbconvert_exporter": "python",
   "pygments_lexer": "ipython3",
   "version": "3.5.1"
  }
 },
 "nbformat": 4,
 "nbformat_minor": 0
}
